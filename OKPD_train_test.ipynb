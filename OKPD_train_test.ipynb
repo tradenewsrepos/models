{
  "nbformat": 4,
  "nbformat_minor": 0,
  "metadata": {
    "colab": {
      "name": "OKPD_train_test.ipynb",
      "provenance": [],
      "collapsed_sections": [
        "LqDZ0IRmlQrh",
        "VxOvxDaKlUBQ",
        "Tyus5tDF2ax9",
        "PtECCUt9P6wi"
      ],
      "toc_visible": true,
      "machine_shape": "hm"
    },
    "kernelspec": {
      "name": "python3",
      "display_name": "Python 3"
    },
    "language_info": {
      "name": "python"
    },
    "accelerator": "GPU",
    "widgets": {
      "application/vnd.jupyter.widget-state+json": {
        "1967b577aa69457d8d48f138bed309bb": {
          "model_module": "@jupyter-widgets/controls",
          "model_name": "HBoxModel",
          "model_module_version": "1.5.0",
          "state": {
            "_view_name": "HBoxView",
            "_dom_classes": [],
            "_model_name": "HBoxModel",
            "_view_module": "@jupyter-widgets/controls",
            "_model_module_version": "1.5.0",
            "_view_count": null,
            "_view_module_version": "1.5.0",
            "box_style": "",
            "layout": "IPY_MODEL_75545823761e47128ca45fc9bc935557",
            "_model_module": "@jupyter-widgets/controls",
            "children": [
              "IPY_MODEL_df1fa205e49841f5917bd0afc1b6053e",
              "IPY_MODEL_e70c8a2e4021411189ff16b5e02364ae"
            ]
          }
        },
        "75545823761e47128ca45fc9bc935557": {
          "model_module": "@jupyter-widgets/base",
          "model_name": "LayoutModel",
          "model_module_version": "1.2.0",
          "state": {
            "_view_name": "LayoutView",
            "grid_template_rows": null,
            "right": null,
            "justify_content": null,
            "_view_module": "@jupyter-widgets/base",
            "overflow": null,
            "_model_module_version": "1.2.0",
            "_view_count": null,
            "flex_flow": null,
            "width": null,
            "min_width": null,
            "border": null,
            "align_items": null,
            "bottom": null,
            "_model_module": "@jupyter-widgets/base",
            "top": null,
            "grid_column": null,
            "overflow_y": null,
            "overflow_x": null,
            "grid_auto_flow": null,
            "grid_area": null,
            "grid_template_columns": null,
            "flex": null,
            "_model_name": "LayoutModel",
            "justify_items": null,
            "grid_row": null,
            "max_height": null,
            "align_content": null,
            "visibility": null,
            "align_self": null,
            "height": null,
            "min_height": null,
            "padding": null,
            "grid_auto_rows": null,
            "grid_gap": null,
            "max_width": null,
            "order": null,
            "_view_module_version": "1.2.0",
            "grid_template_areas": null,
            "object_position": null,
            "object_fit": null,
            "grid_auto_columns": null,
            "margin": null,
            "display": null,
            "left": null
          }
        },
        "df1fa205e49841f5917bd0afc1b6053e": {
          "model_module": "@jupyter-widgets/controls",
          "model_name": "FloatProgressModel",
          "model_module_version": "1.5.0",
          "state": {
            "_view_name": "ProgressView",
            "style": "IPY_MODEL_08cf3f5a08c2479c84a906a0cc04547b",
            "_dom_classes": [],
            "description": "Downloading: 100%",
            "_model_name": "FloatProgressModel",
            "bar_style": "success",
            "max": 241082,
            "_view_module": "@jupyter-widgets/controls",
            "_model_module_version": "1.5.0",
            "value": 241082,
            "_view_count": null,
            "_view_module_version": "1.5.0",
            "orientation": "horizontal",
            "min": 0,
            "description_tooltip": null,
            "_model_module": "@jupyter-widgets/controls",
            "layout": "IPY_MODEL_698b9eb5819f48a2bf9651e09f95231b"
          }
        },
        "e70c8a2e4021411189ff16b5e02364ae": {
          "model_module": "@jupyter-widgets/controls",
          "model_name": "HTMLModel",
          "model_module_version": "1.5.0",
          "state": {
            "_view_name": "HTMLView",
            "style": "IPY_MODEL_c4a82c15c4ec426f91aaf01840cc0011",
            "_dom_classes": [],
            "description": "",
            "_model_name": "HTMLModel",
            "placeholder": "​",
            "_view_module": "@jupyter-widgets/controls",
            "_model_module_version": "1.5.0",
            "value": " 241k/241k [00:05&lt;00:00, 44.2kB/s]",
            "_view_count": null,
            "_view_module_version": "1.5.0",
            "description_tooltip": null,
            "_model_module": "@jupyter-widgets/controls",
            "layout": "IPY_MODEL_bba152685e19432ab22b04f74bbbf6ca"
          }
        },
        "08cf3f5a08c2479c84a906a0cc04547b": {
          "model_module": "@jupyter-widgets/controls",
          "model_name": "ProgressStyleModel",
          "model_module_version": "1.5.0",
          "state": {
            "_view_name": "StyleView",
            "_model_name": "ProgressStyleModel",
            "description_width": "initial",
            "_view_module": "@jupyter-widgets/base",
            "_model_module_version": "1.5.0",
            "_view_count": null,
            "_view_module_version": "1.2.0",
            "bar_color": null,
            "_model_module": "@jupyter-widgets/controls"
          }
        },
        "698b9eb5819f48a2bf9651e09f95231b": {
          "model_module": "@jupyter-widgets/base",
          "model_name": "LayoutModel",
          "model_module_version": "1.2.0",
          "state": {
            "_view_name": "LayoutView",
            "grid_template_rows": null,
            "right": null,
            "justify_content": null,
            "_view_module": "@jupyter-widgets/base",
            "overflow": null,
            "_model_module_version": "1.2.0",
            "_view_count": null,
            "flex_flow": null,
            "width": null,
            "min_width": null,
            "border": null,
            "align_items": null,
            "bottom": null,
            "_model_module": "@jupyter-widgets/base",
            "top": null,
            "grid_column": null,
            "overflow_y": null,
            "overflow_x": null,
            "grid_auto_flow": null,
            "grid_area": null,
            "grid_template_columns": null,
            "flex": null,
            "_model_name": "LayoutModel",
            "justify_items": null,
            "grid_row": null,
            "max_height": null,
            "align_content": null,
            "visibility": null,
            "align_self": null,
            "height": null,
            "min_height": null,
            "padding": null,
            "grid_auto_rows": null,
            "grid_gap": null,
            "max_width": null,
            "order": null,
            "_view_module_version": "1.2.0",
            "grid_template_areas": null,
            "object_position": null,
            "object_fit": null,
            "grid_auto_columns": null,
            "margin": null,
            "display": null,
            "left": null
          }
        },
        "c4a82c15c4ec426f91aaf01840cc0011": {
          "model_module": "@jupyter-widgets/controls",
          "model_name": "DescriptionStyleModel",
          "model_module_version": "1.5.0",
          "state": {
            "_view_name": "StyleView",
            "_model_name": "DescriptionStyleModel",
            "description_width": "",
            "_view_module": "@jupyter-widgets/base",
            "_model_module_version": "1.5.0",
            "_view_count": null,
            "_view_module_version": "1.2.0",
            "_model_module": "@jupyter-widgets/controls"
          }
        },
        "bba152685e19432ab22b04f74bbbf6ca": {
          "model_module": "@jupyter-widgets/base",
          "model_name": "LayoutModel",
          "model_module_version": "1.2.0",
          "state": {
            "_view_name": "LayoutView",
            "grid_template_rows": null,
            "right": null,
            "justify_content": null,
            "_view_module": "@jupyter-widgets/base",
            "overflow": null,
            "_model_module_version": "1.2.0",
            "_view_count": null,
            "flex_flow": null,
            "width": null,
            "min_width": null,
            "border": null,
            "align_items": null,
            "bottom": null,
            "_model_module": "@jupyter-widgets/base",
            "top": null,
            "grid_column": null,
            "overflow_y": null,
            "overflow_x": null,
            "grid_auto_flow": null,
            "grid_area": null,
            "grid_template_columns": null,
            "flex": null,
            "_model_name": "LayoutModel",
            "justify_items": null,
            "grid_row": null,
            "max_height": null,
            "align_content": null,
            "visibility": null,
            "align_self": null,
            "height": null,
            "min_height": null,
            "padding": null,
            "grid_auto_rows": null,
            "grid_gap": null,
            "max_width": null,
            "order": null,
            "_view_module_version": "1.2.0",
            "grid_template_areas": null,
            "object_position": null,
            "object_fit": null,
            "grid_auto_columns": null,
            "margin": null,
            "display": null,
            "left": null
          }
        },
        "c75c52213bc240e389bb87309f0b0f02": {
          "model_module": "@jupyter-widgets/controls",
          "model_name": "HBoxModel",
          "model_module_version": "1.5.0",
          "state": {
            "_view_name": "HBoxView",
            "_dom_classes": [],
            "_model_name": "HBoxModel",
            "_view_module": "@jupyter-widgets/controls",
            "_model_module_version": "1.5.0",
            "_view_count": null,
            "_view_module_version": "1.5.0",
            "box_style": "",
            "layout": "IPY_MODEL_e660fdf937604052960c8e13694c3de8",
            "_model_module": "@jupyter-widgets/controls",
            "children": [
              "IPY_MODEL_6a16656518b94dc2b70624b1a2186366",
              "IPY_MODEL_3bbe63fc74a741ea929288d320081325"
            ]
          }
        },
        "e660fdf937604052960c8e13694c3de8": {
          "model_module": "@jupyter-widgets/base",
          "model_name": "LayoutModel",
          "model_module_version": "1.2.0",
          "state": {
            "_view_name": "LayoutView",
            "grid_template_rows": null,
            "right": null,
            "justify_content": null,
            "_view_module": "@jupyter-widgets/base",
            "overflow": null,
            "_model_module_version": "1.2.0",
            "_view_count": null,
            "flex_flow": null,
            "width": null,
            "min_width": null,
            "border": null,
            "align_items": null,
            "bottom": null,
            "_model_module": "@jupyter-widgets/base",
            "top": null,
            "grid_column": null,
            "overflow_y": null,
            "overflow_x": null,
            "grid_auto_flow": null,
            "grid_area": null,
            "grid_template_columns": null,
            "flex": null,
            "_model_name": "LayoutModel",
            "justify_items": null,
            "grid_row": null,
            "max_height": null,
            "align_content": null,
            "visibility": null,
            "align_self": null,
            "height": null,
            "min_height": null,
            "padding": null,
            "grid_auto_rows": null,
            "grid_gap": null,
            "max_width": null,
            "order": null,
            "_view_module_version": "1.2.0",
            "grid_template_areas": null,
            "object_position": null,
            "object_fit": null,
            "grid_auto_columns": null,
            "margin": null,
            "display": null,
            "left": null
          }
        },
        "6a16656518b94dc2b70624b1a2186366": {
          "model_module": "@jupyter-widgets/controls",
          "model_name": "FloatProgressModel",
          "model_module_version": "1.5.0",
          "state": {
            "_view_name": "ProgressView",
            "style": "IPY_MODEL_3f85b45ee61e433d93c1a520a022a029",
            "_dom_classes": [],
            "description": "Downloading: 100%",
            "_model_name": "FloatProgressModel",
            "bar_style": "success",
            "max": 112,
            "_view_module": "@jupyter-widgets/controls",
            "_model_module_version": "1.5.0",
            "value": 112,
            "_view_count": null,
            "_view_module_version": "1.5.0",
            "orientation": "horizontal",
            "min": 0,
            "description_tooltip": null,
            "_model_module": "@jupyter-widgets/controls",
            "layout": "IPY_MODEL_f83381a25c664b638146eef089ac51af"
          }
        },
        "3bbe63fc74a741ea929288d320081325": {
          "model_module": "@jupyter-widgets/controls",
          "model_name": "HTMLModel",
          "model_module_version": "1.5.0",
          "state": {
            "_view_name": "HTMLView",
            "style": "IPY_MODEL_3be0c9acb7504248bfa7b2a9f6ff6487",
            "_dom_classes": [],
            "description": "",
            "_model_name": "HTMLModel",
            "placeholder": "​",
            "_view_module": "@jupyter-widgets/controls",
            "_model_module_version": "1.5.0",
            "value": " 112/112 [00:02&lt;00:00, 37.7B/s]",
            "_view_count": null,
            "_view_module_version": "1.5.0",
            "description_tooltip": null,
            "_model_module": "@jupyter-widgets/controls",
            "layout": "IPY_MODEL_d6a64d05706d46029ec7f018989e5bc5"
          }
        },
        "3f85b45ee61e433d93c1a520a022a029": {
          "model_module": "@jupyter-widgets/controls",
          "model_name": "ProgressStyleModel",
          "model_module_version": "1.5.0",
          "state": {
            "_view_name": "StyleView",
            "_model_name": "ProgressStyleModel",
            "description_width": "initial",
            "_view_module": "@jupyter-widgets/base",
            "_model_module_version": "1.5.0",
            "_view_count": null,
            "_view_module_version": "1.2.0",
            "bar_color": null,
            "_model_module": "@jupyter-widgets/controls"
          }
        },
        "f83381a25c664b638146eef089ac51af": {
          "model_module": "@jupyter-widgets/base",
          "model_name": "LayoutModel",
          "model_module_version": "1.2.0",
          "state": {
            "_view_name": "LayoutView",
            "grid_template_rows": null,
            "right": null,
            "justify_content": null,
            "_view_module": "@jupyter-widgets/base",
            "overflow": null,
            "_model_module_version": "1.2.0",
            "_view_count": null,
            "flex_flow": null,
            "width": null,
            "min_width": null,
            "border": null,
            "align_items": null,
            "bottom": null,
            "_model_module": "@jupyter-widgets/base",
            "top": null,
            "grid_column": null,
            "overflow_y": null,
            "overflow_x": null,
            "grid_auto_flow": null,
            "grid_area": null,
            "grid_template_columns": null,
            "flex": null,
            "_model_name": "LayoutModel",
            "justify_items": null,
            "grid_row": null,
            "max_height": null,
            "align_content": null,
            "visibility": null,
            "align_self": null,
            "height": null,
            "min_height": null,
            "padding": null,
            "grid_auto_rows": null,
            "grid_gap": null,
            "max_width": null,
            "order": null,
            "_view_module_version": "1.2.0",
            "grid_template_areas": null,
            "object_position": null,
            "object_fit": null,
            "grid_auto_columns": null,
            "margin": null,
            "display": null,
            "left": null
          }
        },
        "3be0c9acb7504248bfa7b2a9f6ff6487": {
          "model_module": "@jupyter-widgets/controls",
          "model_name": "DescriptionStyleModel",
          "model_module_version": "1.5.0",
          "state": {
            "_view_name": "StyleView",
            "_model_name": "DescriptionStyleModel",
            "description_width": "",
            "_view_module": "@jupyter-widgets/base",
            "_model_module_version": "1.5.0",
            "_view_count": null,
            "_view_module_version": "1.2.0",
            "_model_module": "@jupyter-widgets/controls"
          }
        },
        "d6a64d05706d46029ec7f018989e5bc5": {
          "model_module": "@jupyter-widgets/base",
          "model_name": "LayoutModel",
          "model_module_version": "1.2.0",
          "state": {
            "_view_name": "LayoutView",
            "grid_template_rows": null,
            "right": null,
            "justify_content": null,
            "_view_module": "@jupyter-widgets/base",
            "overflow": null,
            "_model_module_version": "1.2.0",
            "_view_count": null,
            "flex_flow": null,
            "width": null,
            "min_width": null,
            "border": null,
            "align_items": null,
            "bottom": null,
            "_model_module": "@jupyter-widgets/base",
            "top": null,
            "grid_column": null,
            "overflow_y": null,
            "overflow_x": null,
            "grid_auto_flow": null,
            "grid_area": null,
            "grid_template_columns": null,
            "flex": null,
            "_model_name": "LayoutModel",
            "justify_items": null,
            "grid_row": null,
            "max_height": null,
            "align_content": null,
            "visibility": null,
            "align_self": null,
            "height": null,
            "min_height": null,
            "padding": null,
            "grid_auto_rows": null,
            "grid_gap": null,
            "max_width": null,
            "order": null,
            "_view_module_version": "1.2.0",
            "grid_template_areas": null,
            "object_position": null,
            "object_fit": null,
            "grid_auto_columns": null,
            "margin": null,
            "display": null,
            "left": null
          }
        },
        "151470ba157a4e68b93e6d1fe24bbfc3": {
          "model_module": "@jupyter-widgets/controls",
          "model_name": "HBoxModel",
          "model_module_version": "1.5.0",
          "state": {
            "_view_name": "HBoxView",
            "_dom_classes": [],
            "_model_name": "HBoxModel",
            "_view_module": "@jupyter-widgets/controls",
            "_model_module_version": "1.5.0",
            "_view_count": null,
            "_view_module_version": "1.5.0",
            "box_style": "",
            "layout": "IPY_MODEL_3ea7a89053db464db1dd3f691e5ca6f7",
            "_model_module": "@jupyter-widgets/controls",
            "children": [
              "IPY_MODEL_b366bb4085bc4e79a58d1f7806fcba26",
              "IPY_MODEL_1c4fd9d332ce468ca250baf12fba6a41"
            ]
          }
        },
        "3ea7a89053db464db1dd3f691e5ca6f7": {
          "model_module": "@jupyter-widgets/base",
          "model_name": "LayoutModel",
          "model_module_version": "1.2.0",
          "state": {
            "_view_name": "LayoutView",
            "grid_template_rows": null,
            "right": null,
            "justify_content": null,
            "_view_module": "@jupyter-widgets/base",
            "overflow": null,
            "_model_module_version": "1.2.0",
            "_view_count": null,
            "flex_flow": null,
            "width": null,
            "min_width": null,
            "border": null,
            "align_items": null,
            "bottom": null,
            "_model_module": "@jupyter-widgets/base",
            "top": null,
            "grid_column": null,
            "overflow_y": null,
            "overflow_x": null,
            "grid_auto_flow": null,
            "grid_area": null,
            "grid_template_columns": null,
            "flex": null,
            "_model_name": "LayoutModel",
            "justify_items": null,
            "grid_row": null,
            "max_height": null,
            "align_content": null,
            "visibility": null,
            "align_self": null,
            "height": null,
            "min_height": null,
            "padding": null,
            "grid_auto_rows": null,
            "grid_gap": null,
            "max_width": null,
            "order": null,
            "_view_module_version": "1.2.0",
            "grid_template_areas": null,
            "object_position": null,
            "object_fit": null,
            "grid_auto_columns": null,
            "margin": null,
            "display": null,
            "left": null
          }
        },
        "b366bb4085bc4e79a58d1f7806fcba26": {
          "model_module": "@jupyter-widgets/controls",
          "model_name": "FloatProgressModel",
          "model_module_version": "1.5.0",
          "state": {
            "_view_name": "ProgressView",
            "style": "IPY_MODEL_adf18c64046c44d6a27030f86dfcee36",
            "_dom_classes": [],
            "description": "Downloading: 100%",
            "_model_name": "FloatProgressModel",
            "bar_style": "success",
            "max": 341,
            "_view_module": "@jupyter-widgets/controls",
            "_model_module_version": "1.5.0",
            "value": 341,
            "_view_count": null,
            "_view_module_version": "1.5.0",
            "orientation": "horizontal",
            "min": 0,
            "description_tooltip": null,
            "_model_module": "@jupyter-widgets/controls",
            "layout": "IPY_MODEL_66e11de7268342b09e688c2bf6619a32"
          }
        },
        "1c4fd9d332ce468ca250baf12fba6a41": {
          "model_module": "@jupyter-widgets/controls",
          "model_name": "HTMLModel",
          "model_module_version": "1.5.0",
          "state": {
            "_view_name": "HTMLView",
            "style": "IPY_MODEL_c3ef87129eb9400d84f0c8e91c254e92",
            "_dom_classes": [],
            "description": "",
            "_model_name": "HTMLModel",
            "placeholder": "​",
            "_view_module": "@jupyter-widgets/controls",
            "_model_module_version": "1.5.0",
            "value": " 341/341 [00:01&lt;00:00, 275B/s]",
            "_view_count": null,
            "_view_module_version": "1.5.0",
            "description_tooltip": null,
            "_model_module": "@jupyter-widgets/controls",
            "layout": "IPY_MODEL_e77a394ad9284d2eaa0218fb9fa3cd3e"
          }
        },
        "adf18c64046c44d6a27030f86dfcee36": {
          "model_module": "@jupyter-widgets/controls",
          "model_name": "ProgressStyleModel",
          "model_module_version": "1.5.0",
          "state": {
            "_view_name": "StyleView",
            "_model_name": "ProgressStyleModel",
            "description_width": "initial",
            "_view_module": "@jupyter-widgets/base",
            "_model_module_version": "1.5.0",
            "_view_count": null,
            "_view_module_version": "1.2.0",
            "bar_color": null,
            "_model_module": "@jupyter-widgets/controls"
          }
        },
        "66e11de7268342b09e688c2bf6619a32": {
          "model_module": "@jupyter-widgets/base",
          "model_name": "LayoutModel",
          "model_module_version": "1.2.0",
          "state": {
            "_view_name": "LayoutView",
            "grid_template_rows": null,
            "right": null,
            "justify_content": null,
            "_view_module": "@jupyter-widgets/base",
            "overflow": null,
            "_model_module_version": "1.2.0",
            "_view_count": null,
            "flex_flow": null,
            "width": null,
            "min_width": null,
            "border": null,
            "align_items": null,
            "bottom": null,
            "_model_module": "@jupyter-widgets/base",
            "top": null,
            "grid_column": null,
            "overflow_y": null,
            "overflow_x": null,
            "grid_auto_flow": null,
            "grid_area": null,
            "grid_template_columns": null,
            "flex": null,
            "_model_name": "LayoutModel",
            "justify_items": null,
            "grid_row": null,
            "max_height": null,
            "align_content": null,
            "visibility": null,
            "align_self": null,
            "height": null,
            "min_height": null,
            "padding": null,
            "grid_auto_rows": null,
            "grid_gap": null,
            "max_width": null,
            "order": null,
            "_view_module_version": "1.2.0",
            "grid_template_areas": null,
            "object_position": null,
            "object_fit": null,
            "grid_auto_columns": null,
            "margin": null,
            "display": null,
            "left": null
          }
        },
        "c3ef87129eb9400d84f0c8e91c254e92": {
          "model_module": "@jupyter-widgets/controls",
          "model_name": "DescriptionStyleModel",
          "model_module_version": "1.5.0",
          "state": {
            "_view_name": "StyleView",
            "_model_name": "DescriptionStyleModel",
            "description_width": "",
            "_view_module": "@jupyter-widgets/base",
            "_model_module_version": "1.5.0",
            "_view_count": null,
            "_view_module_version": "1.2.0",
            "_model_module": "@jupyter-widgets/controls"
          }
        },
        "e77a394ad9284d2eaa0218fb9fa3cd3e": {
          "model_module": "@jupyter-widgets/base",
          "model_name": "LayoutModel",
          "model_module_version": "1.2.0",
          "state": {
            "_view_name": "LayoutView",
            "grid_template_rows": null,
            "right": null,
            "justify_content": null,
            "_view_module": "@jupyter-widgets/base",
            "overflow": null,
            "_model_module_version": "1.2.0",
            "_view_count": null,
            "flex_flow": null,
            "width": null,
            "min_width": null,
            "border": null,
            "align_items": null,
            "bottom": null,
            "_model_module": "@jupyter-widgets/base",
            "top": null,
            "grid_column": null,
            "overflow_y": null,
            "overflow_x": null,
            "grid_auto_flow": null,
            "grid_area": null,
            "grid_template_columns": null,
            "flex": null,
            "_model_name": "LayoutModel",
            "justify_items": null,
            "grid_row": null,
            "max_height": null,
            "align_content": null,
            "visibility": null,
            "align_self": null,
            "height": null,
            "min_height": null,
            "padding": null,
            "grid_auto_rows": null,
            "grid_gap": null,
            "max_width": null,
            "order": null,
            "_view_module_version": "1.2.0",
            "grid_template_areas": null,
            "object_position": null,
            "object_fit": null,
            "grid_auto_columns": null,
            "margin": null,
            "display": null,
            "left": null
          }
        },
        "553085ba300d4bb999244bb08d5ed28e": {
          "model_module": "@jupyter-widgets/controls",
          "model_name": "HBoxModel",
          "model_module_version": "1.5.0",
          "state": {
            "_view_name": "HBoxView",
            "_dom_classes": [],
            "_model_name": "HBoxModel",
            "_view_module": "@jupyter-widgets/controls",
            "_model_module_version": "1.5.0",
            "_view_count": null,
            "_view_module_version": "1.5.0",
            "box_style": "",
            "layout": "IPY_MODEL_bfc424b0317948459d4dbcee7d7e01d4",
            "_model_module": "@jupyter-widgets/controls",
            "children": [
              "IPY_MODEL_fa52e234906d48f8a6c360a35a8bcaa1",
              "IPY_MODEL_6e882d9bb3ba4ef7b93fb939f291c0ba"
            ]
          }
        },
        "bfc424b0317948459d4dbcee7d7e01d4": {
          "model_module": "@jupyter-widgets/base",
          "model_name": "LayoutModel",
          "model_module_version": "1.2.0",
          "state": {
            "_view_name": "LayoutView",
            "grid_template_rows": null,
            "right": null,
            "justify_content": null,
            "_view_module": "@jupyter-widgets/base",
            "overflow": null,
            "_model_module_version": "1.2.0",
            "_view_count": null,
            "flex_flow": null,
            "width": null,
            "min_width": null,
            "border": null,
            "align_items": null,
            "bottom": null,
            "_model_module": "@jupyter-widgets/base",
            "top": null,
            "grid_column": null,
            "overflow_y": null,
            "overflow_x": null,
            "grid_auto_flow": null,
            "grid_area": null,
            "grid_template_columns": null,
            "flex": null,
            "_model_name": "LayoutModel",
            "justify_items": null,
            "grid_row": null,
            "max_height": null,
            "align_content": null,
            "visibility": null,
            "align_self": null,
            "height": null,
            "min_height": null,
            "padding": null,
            "grid_auto_rows": null,
            "grid_gap": null,
            "max_width": null,
            "order": null,
            "_view_module_version": "1.2.0",
            "grid_template_areas": null,
            "object_position": null,
            "object_fit": null,
            "grid_auto_columns": null,
            "margin": null,
            "display": null,
            "left": null
          }
        },
        "fa52e234906d48f8a6c360a35a8bcaa1": {
          "model_module": "@jupyter-widgets/controls",
          "model_name": "FloatProgressModel",
          "model_module_version": "1.5.0",
          "state": {
            "_view_name": "ProgressView",
            "style": "IPY_MODEL_c6e74237806a4af3936bafdaf08933f4",
            "_dom_classes": [],
            "description": "Downloading: 100%",
            "_model_name": "FloatProgressModel",
            "bar_style": "success",
            "max": 468145,
            "_view_module": "@jupyter-widgets/controls",
            "_model_module_version": "1.5.0",
            "value": 468145,
            "_view_count": null,
            "_view_module_version": "1.5.0",
            "orientation": "horizontal",
            "min": 0,
            "description_tooltip": null,
            "_model_module": "@jupyter-widgets/controls",
            "layout": "IPY_MODEL_a209e849fdcd4769b4d0602c8443656c"
          }
        },
        "6e882d9bb3ba4ef7b93fb939f291c0ba": {
          "model_module": "@jupyter-widgets/controls",
          "model_name": "HTMLModel",
          "model_module_version": "1.5.0",
          "state": {
            "_view_name": "HTMLView",
            "style": "IPY_MODEL_0f452115d5a84c8c8a7b1da5dae0978c",
            "_dom_classes": [],
            "description": "",
            "_model_name": "HTMLModel",
            "placeholder": "​",
            "_view_module": "@jupyter-widgets/controls",
            "_model_module_version": "1.5.0",
            "value": " 468k/468k [00:00&lt;00:00, 863kB/s]",
            "_view_count": null,
            "_view_module_version": "1.5.0",
            "description_tooltip": null,
            "_model_module": "@jupyter-widgets/controls",
            "layout": "IPY_MODEL_b41fd0647f8c4a5781df67006740bb35"
          }
        },
        "c6e74237806a4af3936bafdaf08933f4": {
          "model_module": "@jupyter-widgets/controls",
          "model_name": "ProgressStyleModel",
          "model_module_version": "1.5.0",
          "state": {
            "_view_name": "StyleView",
            "_model_name": "ProgressStyleModel",
            "description_width": "initial",
            "_view_module": "@jupyter-widgets/base",
            "_model_module_version": "1.5.0",
            "_view_count": null,
            "_view_module_version": "1.2.0",
            "bar_color": null,
            "_model_module": "@jupyter-widgets/controls"
          }
        },
        "a209e849fdcd4769b4d0602c8443656c": {
          "model_module": "@jupyter-widgets/base",
          "model_name": "LayoutModel",
          "model_module_version": "1.2.0",
          "state": {
            "_view_name": "LayoutView",
            "grid_template_rows": null,
            "right": null,
            "justify_content": null,
            "_view_module": "@jupyter-widgets/base",
            "overflow": null,
            "_model_module_version": "1.2.0",
            "_view_count": null,
            "flex_flow": null,
            "width": null,
            "min_width": null,
            "border": null,
            "align_items": null,
            "bottom": null,
            "_model_module": "@jupyter-widgets/base",
            "top": null,
            "grid_column": null,
            "overflow_y": null,
            "overflow_x": null,
            "grid_auto_flow": null,
            "grid_area": null,
            "grid_template_columns": null,
            "flex": null,
            "_model_name": "LayoutModel",
            "justify_items": null,
            "grid_row": null,
            "max_height": null,
            "align_content": null,
            "visibility": null,
            "align_self": null,
            "height": null,
            "min_height": null,
            "padding": null,
            "grid_auto_rows": null,
            "grid_gap": null,
            "max_width": null,
            "order": null,
            "_view_module_version": "1.2.0",
            "grid_template_areas": null,
            "object_position": null,
            "object_fit": null,
            "grid_auto_columns": null,
            "margin": null,
            "display": null,
            "left": null
          }
        },
        "0f452115d5a84c8c8a7b1da5dae0978c": {
          "model_module": "@jupyter-widgets/controls",
          "model_name": "DescriptionStyleModel",
          "model_module_version": "1.5.0",
          "state": {
            "_view_name": "StyleView",
            "_model_name": "DescriptionStyleModel",
            "description_width": "",
            "_view_module": "@jupyter-widgets/base",
            "_model_module_version": "1.5.0",
            "_view_count": null,
            "_view_module_version": "1.2.0",
            "_model_module": "@jupyter-widgets/controls"
          }
        },
        "b41fd0647f8c4a5781df67006740bb35": {
          "model_module": "@jupyter-widgets/base",
          "model_name": "LayoutModel",
          "model_module_version": "1.2.0",
          "state": {
            "_view_name": "LayoutView",
            "grid_template_rows": null,
            "right": null,
            "justify_content": null,
            "_view_module": "@jupyter-widgets/base",
            "overflow": null,
            "_model_module_version": "1.2.0",
            "_view_count": null,
            "flex_flow": null,
            "width": null,
            "min_width": null,
            "border": null,
            "align_items": null,
            "bottom": null,
            "_model_module": "@jupyter-widgets/base",
            "top": null,
            "grid_column": null,
            "overflow_y": null,
            "overflow_x": null,
            "grid_auto_flow": null,
            "grid_area": null,
            "grid_template_columns": null,
            "flex": null,
            "_model_name": "LayoutModel",
            "justify_items": null,
            "grid_row": null,
            "max_height": null,
            "align_content": null,
            "visibility": null,
            "align_self": null,
            "height": null,
            "min_height": null,
            "padding": null,
            "grid_auto_rows": null,
            "grid_gap": null,
            "max_width": null,
            "order": null,
            "_view_module_version": "1.2.0",
            "grid_template_areas": null,
            "object_position": null,
            "object_fit": null,
            "grid_auto_columns": null,
            "margin": null,
            "display": null,
            "left": null
          }
        },
        "41af4aa6268b4b6690ca59290573825a": {
          "model_module": "@jupyter-widgets/controls",
          "model_name": "HBoxModel",
          "model_module_version": "1.5.0",
          "state": {
            "_view_name": "HBoxView",
            "_dom_classes": [],
            "_model_name": "HBoxModel",
            "_view_module": "@jupyter-widgets/controls",
            "_model_module_version": "1.5.0",
            "_view_count": null,
            "_view_module_version": "1.5.0",
            "box_style": "",
            "layout": "IPY_MODEL_eab95fe4b713453d9247e9592dffbb84",
            "_model_module": "@jupyter-widgets/controls",
            "children": [
              "IPY_MODEL_39c9260e92f2469d998b07b36608cb20",
              "IPY_MODEL_eb5aa83ceb15456ba0bf9e8dc2c7cf29"
            ]
          }
        },
        "eab95fe4b713453d9247e9592dffbb84": {
          "model_module": "@jupyter-widgets/base",
          "model_name": "LayoutModel",
          "model_module_version": "1.2.0",
          "state": {
            "_view_name": "LayoutView",
            "grid_template_rows": null,
            "right": null,
            "justify_content": null,
            "_view_module": "@jupyter-widgets/base",
            "overflow": null,
            "_model_module_version": "1.2.0",
            "_view_count": null,
            "flex_flow": null,
            "width": null,
            "min_width": null,
            "border": null,
            "align_items": null,
            "bottom": null,
            "_model_module": "@jupyter-widgets/base",
            "top": null,
            "grid_column": null,
            "overflow_y": null,
            "overflow_x": null,
            "grid_auto_flow": null,
            "grid_area": null,
            "grid_template_columns": null,
            "flex": null,
            "_model_name": "LayoutModel",
            "justify_items": null,
            "grid_row": null,
            "max_height": null,
            "align_content": null,
            "visibility": null,
            "align_self": null,
            "height": null,
            "min_height": null,
            "padding": null,
            "grid_auto_rows": null,
            "grid_gap": null,
            "max_width": null,
            "order": null,
            "_view_module_version": "1.2.0",
            "grid_template_areas": null,
            "object_position": null,
            "object_fit": null,
            "grid_auto_columns": null,
            "margin": null,
            "display": null,
            "left": null
          }
        },
        "39c9260e92f2469d998b07b36608cb20": {
          "model_module": "@jupyter-widgets/controls",
          "model_name": "FloatProgressModel",
          "model_module_version": "1.5.0",
          "state": {
            "_view_name": "ProgressView",
            "style": "IPY_MODEL_36188a9cb7ca4f2987534773e8b6eb5f",
            "_dom_classes": [],
            "description": "Downloading: 100%",
            "_model_name": "FloatProgressModel",
            "bar_style": "success",
            "max": 632,
            "_view_module": "@jupyter-widgets/controls",
            "_model_module_version": "1.5.0",
            "value": 632,
            "_view_count": null,
            "_view_module_version": "1.5.0",
            "orientation": "horizontal",
            "min": 0,
            "description_tooltip": null,
            "_model_module": "@jupyter-widgets/controls",
            "layout": "IPY_MODEL_61fb4cc14ac049119bd5b5242d7c831f"
          }
        },
        "eb5aa83ceb15456ba0bf9e8dc2c7cf29": {
          "model_module": "@jupyter-widgets/controls",
          "model_name": "HTMLModel",
          "model_module_version": "1.5.0",
          "state": {
            "_view_name": "HTMLView",
            "style": "IPY_MODEL_e6f9264a531941f98bb4286b10cd8228",
            "_dom_classes": [],
            "description": "",
            "_model_name": "HTMLModel",
            "placeholder": "​",
            "_view_module": "@jupyter-widgets/controls",
            "_model_module_version": "1.5.0",
            "value": " 632/632 [00:00&lt;00:00, 8.45kB/s]",
            "_view_count": null,
            "_view_module_version": "1.5.0",
            "description_tooltip": null,
            "_model_module": "@jupyter-widgets/controls",
            "layout": "IPY_MODEL_4dd6f3cf13f0480097eb10f532d4af7b"
          }
        },
        "36188a9cb7ca4f2987534773e8b6eb5f": {
          "model_module": "@jupyter-widgets/controls",
          "model_name": "ProgressStyleModel",
          "model_module_version": "1.5.0",
          "state": {
            "_view_name": "StyleView",
            "_model_name": "ProgressStyleModel",
            "description_width": "initial",
            "_view_module": "@jupyter-widgets/base",
            "_model_module_version": "1.5.0",
            "_view_count": null,
            "_view_module_version": "1.2.0",
            "bar_color": null,
            "_model_module": "@jupyter-widgets/controls"
          }
        },
        "61fb4cc14ac049119bd5b5242d7c831f": {
          "model_module": "@jupyter-widgets/base",
          "model_name": "LayoutModel",
          "model_module_version": "1.2.0",
          "state": {
            "_view_name": "LayoutView",
            "grid_template_rows": null,
            "right": null,
            "justify_content": null,
            "_view_module": "@jupyter-widgets/base",
            "overflow": null,
            "_model_module_version": "1.2.0",
            "_view_count": null,
            "flex_flow": null,
            "width": null,
            "min_width": null,
            "border": null,
            "align_items": null,
            "bottom": null,
            "_model_module": "@jupyter-widgets/base",
            "top": null,
            "grid_column": null,
            "overflow_y": null,
            "overflow_x": null,
            "grid_auto_flow": null,
            "grid_area": null,
            "grid_template_columns": null,
            "flex": null,
            "_model_name": "LayoutModel",
            "justify_items": null,
            "grid_row": null,
            "max_height": null,
            "align_content": null,
            "visibility": null,
            "align_self": null,
            "height": null,
            "min_height": null,
            "padding": null,
            "grid_auto_rows": null,
            "grid_gap": null,
            "max_width": null,
            "order": null,
            "_view_module_version": "1.2.0",
            "grid_template_areas": null,
            "object_position": null,
            "object_fit": null,
            "grid_auto_columns": null,
            "margin": null,
            "display": null,
            "left": null
          }
        },
        "e6f9264a531941f98bb4286b10cd8228": {
          "model_module": "@jupyter-widgets/controls",
          "model_name": "DescriptionStyleModel",
          "model_module_version": "1.5.0",
          "state": {
            "_view_name": "StyleView",
            "_model_name": "DescriptionStyleModel",
            "description_width": "",
            "_view_module": "@jupyter-widgets/base",
            "_model_module_version": "1.5.0",
            "_view_count": null,
            "_view_module_version": "1.2.0",
            "_model_module": "@jupyter-widgets/controls"
          }
        },
        "4dd6f3cf13f0480097eb10f532d4af7b": {
          "model_module": "@jupyter-widgets/base",
          "model_name": "LayoutModel",
          "model_module_version": "1.2.0",
          "state": {
            "_view_name": "LayoutView",
            "grid_template_rows": null,
            "right": null,
            "justify_content": null,
            "_view_module": "@jupyter-widgets/base",
            "overflow": null,
            "_model_module_version": "1.2.0",
            "_view_count": null,
            "flex_flow": null,
            "width": null,
            "min_width": null,
            "border": null,
            "align_items": null,
            "bottom": null,
            "_model_module": "@jupyter-widgets/base",
            "top": null,
            "grid_column": null,
            "overflow_y": null,
            "overflow_x": null,
            "grid_auto_flow": null,
            "grid_area": null,
            "grid_template_columns": null,
            "flex": null,
            "_model_name": "LayoutModel",
            "justify_items": null,
            "grid_row": null,
            "max_height": null,
            "align_content": null,
            "visibility": null,
            "align_self": null,
            "height": null,
            "min_height": null,
            "padding": null,
            "grid_auto_rows": null,
            "grid_gap": null,
            "max_width": null,
            "order": null,
            "_view_module_version": "1.2.0",
            "grid_template_areas": null,
            "object_position": null,
            "object_fit": null,
            "grid_auto_columns": null,
            "margin": null,
            "display": null,
            "left": null
          }
        },
        "9db70c011f8f48abb4f2cff61fcc73e1": {
          "model_module": "@jupyter-widgets/controls",
          "model_name": "HBoxModel",
          "model_module_version": "1.5.0",
          "state": {
            "_view_name": "HBoxView",
            "_dom_classes": [],
            "_model_name": "HBoxModel",
            "_view_module": "@jupyter-widgets/controls",
            "_model_module_version": "1.5.0",
            "_view_count": null,
            "_view_module_version": "1.5.0",
            "box_style": "",
            "layout": "IPY_MODEL_fed144052966402ab8dca2bff1c5e674",
            "_model_module": "@jupyter-widgets/controls",
            "children": [
              "IPY_MODEL_cd1169ab188043d884cad1e49a002ed9",
              "IPY_MODEL_2e2f661752c74e6db7373b3953bdd82e",
              "IPY_MODEL_1dca80e217f74ed1b8d5b644c8c07f80"
            ]
          }
        },
        "fed144052966402ab8dca2bff1c5e674": {
          "model_module": "@jupyter-widgets/base",
          "model_name": "LayoutModel",
          "model_module_version": "1.2.0",
          "state": {
            "_view_name": "LayoutView",
            "grid_template_rows": null,
            "right": null,
            "justify_content": null,
            "_view_module": "@jupyter-widgets/base",
            "overflow": null,
            "_model_module_version": "1.2.0",
            "_view_count": null,
            "flex_flow": null,
            "width": null,
            "min_width": null,
            "border": null,
            "align_items": null,
            "bottom": null,
            "_model_module": "@jupyter-widgets/base",
            "top": null,
            "grid_column": null,
            "overflow_y": null,
            "overflow_x": null,
            "grid_auto_flow": null,
            "grid_area": null,
            "grid_template_columns": null,
            "flex": null,
            "_model_name": "LayoutModel",
            "justify_items": null,
            "grid_row": null,
            "max_height": null,
            "align_content": null,
            "visibility": null,
            "align_self": null,
            "height": null,
            "min_height": null,
            "padding": null,
            "grid_auto_rows": null,
            "grid_gap": null,
            "max_width": null,
            "order": null,
            "_view_module_version": "1.2.0",
            "grid_template_areas": null,
            "object_position": null,
            "object_fit": null,
            "grid_auto_columns": null,
            "margin": null,
            "display": null,
            "left": null
          }
        },
        "cd1169ab188043d884cad1e49a002ed9": {
          "model_module": "@jupyter-widgets/controls",
          "model_name": "HTMLModel",
          "model_module_version": "1.5.0",
          "state": {
            "_view_name": "HTMLView",
            "style": "IPY_MODEL_ed8bf93f259b4b7d909cff93e82a97e1",
            "_dom_classes": [],
            "description": "",
            "_model_name": "HTMLModel",
            "placeholder": "​",
            "_view_module": "@jupyter-widgets/controls",
            "_model_module_version": "1.5.0",
            "value": "100%",
            "_view_count": null,
            "_view_module_version": "1.5.0",
            "description_tooltip": null,
            "_model_module": "@jupyter-widgets/controls",
            "layout": "IPY_MODEL_b31d883291e249e88e16fe197f5b55a3"
          }
        },
        "2e2f661752c74e6db7373b3953bdd82e": {
          "model_module": "@jupyter-widgets/controls",
          "model_name": "FloatProgressModel",
          "model_module_version": "1.5.0",
          "state": {
            "_view_name": "ProgressView",
            "style": "IPY_MODEL_edba16803a724936b917dd19ab3dbba5",
            "_dom_classes": [],
            "description": "",
            "_model_name": "FloatProgressModel",
            "bar_style": "success",
            "max": 107,
            "_view_module": "@jupyter-widgets/controls",
            "_model_module_version": "1.5.0",
            "value": 107,
            "_view_count": null,
            "_view_module_version": "1.5.0",
            "orientation": "horizontal",
            "min": 0,
            "description_tooltip": null,
            "_model_module": "@jupyter-widgets/controls",
            "layout": "IPY_MODEL_f49ebd1f124744e182e3dbc77d7dfe75"
          }
        },
        "1dca80e217f74ed1b8d5b644c8c07f80": {
          "model_module": "@jupyter-widgets/controls",
          "model_name": "HTMLModel",
          "model_module_version": "1.5.0",
          "state": {
            "_view_name": "HTMLView",
            "style": "IPY_MODEL_e12711c440b141ccb6c338be25d4cca8",
            "_dom_classes": [],
            "description": "",
            "_model_name": "HTMLModel",
            "placeholder": "​",
            "_view_module": "@jupyter-widgets/controls",
            "_model_module_version": "1.5.0",
            "value": " 107/107 [00:23&lt;00:00,  3.64ba/s]",
            "_view_count": null,
            "_view_module_version": "1.5.0",
            "description_tooltip": null,
            "_model_module": "@jupyter-widgets/controls",
            "layout": "IPY_MODEL_1976e989a13644e2a87999aa05d8a17f"
          }
        },
        "ed8bf93f259b4b7d909cff93e82a97e1": {
          "model_module": "@jupyter-widgets/controls",
          "model_name": "DescriptionStyleModel",
          "model_module_version": "1.5.0",
          "state": {
            "_view_name": "StyleView",
            "_model_name": "DescriptionStyleModel",
            "description_width": "",
            "_view_module": "@jupyter-widgets/base",
            "_model_module_version": "1.5.0",
            "_view_count": null,
            "_view_module_version": "1.2.0",
            "_model_module": "@jupyter-widgets/controls"
          }
        },
        "b31d883291e249e88e16fe197f5b55a3": {
          "model_module": "@jupyter-widgets/base",
          "model_name": "LayoutModel",
          "model_module_version": "1.2.0",
          "state": {
            "_view_name": "LayoutView",
            "grid_template_rows": null,
            "right": null,
            "justify_content": null,
            "_view_module": "@jupyter-widgets/base",
            "overflow": null,
            "_model_module_version": "1.2.0",
            "_view_count": null,
            "flex_flow": null,
            "width": null,
            "min_width": null,
            "border": null,
            "align_items": null,
            "bottom": null,
            "_model_module": "@jupyter-widgets/base",
            "top": null,
            "grid_column": null,
            "overflow_y": null,
            "overflow_x": null,
            "grid_auto_flow": null,
            "grid_area": null,
            "grid_template_columns": null,
            "flex": null,
            "_model_name": "LayoutModel",
            "justify_items": null,
            "grid_row": null,
            "max_height": null,
            "align_content": null,
            "visibility": null,
            "align_self": null,
            "height": null,
            "min_height": null,
            "padding": null,
            "grid_auto_rows": null,
            "grid_gap": null,
            "max_width": null,
            "order": null,
            "_view_module_version": "1.2.0",
            "grid_template_areas": null,
            "object_position": null,
            "object_fit": null,
            "grid_auto_columns": null,
            "margin": null,
            "display": null,
            "left": null
          }
        },
        "edba16803a724936b917dd19ab3dbba5": {
          "model_module": "@jupyter-widgets/controls",
          "model_name": "ProgressStyleModel",
          "model_module_version": "1.5.0",
          "state": {
            "_view_name": "StyleView",
            "_model_name": "ProgressStyleModel",
            "description_width": "",
            "_view_module": "@jupyter-widgets/base",
            "_model_module_version": "1.5.0",
            "_view_count": null,
            "_view_module_version": "1.2.0",
            "bar_color": null,
            "_model_module": "@jupyter-widgets/controls"
          }
        },
        "f49ebd1f124744e182e3dbc77d7dfe75": {
          "model_module": "@jupyter-widgets/base",
          "model_name": "LayoutModel",
          "model_module_version": "1.2.0",
          "state": {
            "_view_name": "LayoutView",
            "grid_template_rows": null,
            "right": null,
            "justify_content": null,
            "_view_module": "@jupyter-widgets/base",
            "overflow": null,
            "_model_module_version": "1.2.0",
            "_view_count": null,
            "flex_flow": null,
            "width": null,
            "min_width": null,
            "border": null,
            "align_items": null,
            "bottom": null,
            "_model_module": "@jupyter-widgets/base",
            "top": null,
            "grid_column": null,
            "overflow_y": null,
            "overflow_x": null,
            "grid_auto_flow": null,
            "grid_area": null,
            "grid_template_columns": null,
            "flex": null,
            "_model_name": "LayoutModel",
            "justify_items": null,
            "grid_row": null,
            "max_height": null,
            "align_content": null,
            "visibility": null,
            "align_self": null,
            "height": null,
            "min_height": null,
            "padding": null,
            "grid_auto_rows": null,
            "grid_gap": null,
            "max_width": null,
            "order": null,
            "_view_module_version": "1.2.0",
            "grid_template_areas": null,
            "object_position": null,
            "object_fit": null,
            "grid_auto_columns": null,
            "margin": null,
            "display": null,
            "left": null
          }
        },
        "e12711c440b141ccb6c338be25d4cca8": {
          "model_module": "@jupyter-widgets/controls",
          "model_name": "DescriptionStyleModel",
          "model_module_version": "1.5.0",
          "state": {
            "_view_name": "StyleView",
            "_model_name": "DescriptionStyleModel",
            "description_width": "",
            "_view_module": "@jupyter-widgets/base",
            "_model_module_version": "1.5.0",
            "_view_count": null,
            "_view_module_version": "1.2.0",
            "_model_module": "@jupyter-widgets/controls"
          }
        },
        "1976e989a13644e2a87999aa05d8a17f": {
          "model_module": "@jupyter-widgets/base",
          "model_name": "LayoutModel",
          "model_module_version": "1.2.0",
          "state": {
            "_view_name": "LayoutView",
            "grid_template_rows": null,
            "right": null,
            "justify_content": null,
            "_view_module": "@jupyter-widgets/base",
            "overflow": null,
            "_model_module_version": "1.2.0",
            "_view_count": null,
            "flex_flow": null,
            "width": null,
            "min_width": null,
            "border": null,
            "align_items": null,
            "bottom": null,
            "_model_module": "@jupyter-widgets/base",
            "top": null,
            "grid_column": null,
            "overflow_y": null,
            "overflow_x": null,
            "grid_auto_flow": null,
            "grid_area": null,
            "grid_template_columns": null,
            "flex": null,
            "_model_name": "LayoutModel",
            "justify_items": null,
            "grid_row": null,
            "max_height": null,
            "align_content": null,
            "visibility": null,
            "align_self": null,
            "height": null,
            "min_height": null,
            "padding": null,
            "grid_auto_rows": null,
            "grid_gap": null,
            "max_width": null,
            "order": null,
            "_view_module_version": "1.2.0",
            "grid_template_areas": null,
            "object_position": null,
            "object_fit": null,
            "grid_auto_columns": null,
            "margin": null,
            "display": null,
            "left": null
          }
        },
        "32ada8709e5842caabf2152137d95b89": {
          "model_module": "@jupyter-widgets/controls",
          "model_name": "HBoxModel",
          "model_module_version": "1.5.0",
          "state": {
            "_view_name": "HBoxView",
            "_dom_classes": [],
            "_model_name": "HBoxModel",
            "_view_module": "@jupyter-widgets/controls",
            "_model_module_version": "1.5.0",
            "_view_count": null,
            "_view_module_version": "1.5.0",
            "box_style": "",
            "layout": "IPY_MODEL_f589600d027d46bbadd1b68a86da5801",
            "_model_module": "@jupyter-widgets/controls",
            "children": [
              "IPY_MODEL_057651a53abd47f89010fdd7837c8dae",
              "IPY_MODEL_2b1c28f070984b778588eb0b81e31f43",
              "IPY_MODEL_9a8a6359b3544dc1bb7839b7d2d9f3bc"
            ]
          }
        },
        "f589600d027d46bbadd1b68a86da5801": {
          "model_module": "@jupyter-widgets/base",
          "model_name": "LayoutModel",
          "model_module_version": "1.2.0",
          "state": {
            "_view_name": "LayoutView",
            "grid_template_rows": null,
            "right": null,
            "justify_content": null,
            "_view_module": "@jupyter-widgets/base",
            "overflow": null,
            "_model_module_version": "1.2.0",
            "_view_count": null,
            "flex_flow": null,
            "width": null,
            "min_width": null,
            "border": null,
            "align_items": null,
            "bottom": null,
            "_model_module": "@jupyter-widgets/base",
            "top": null,
            "grid_column": null,
            "overflow_y": null,
            "overflow_x": null,
            "grid_auto_flow": null,
            "grid_area": null,
            "grid_template_columns": null,
            "flex": null,
            "_model_name": "LayoutModel",
            "justify_items": null,
            "grid_row": null,
            "max_height": null,
            "align_content": null,
            "visibility": null,
            "align_self": null,
            "height": null,
            "min_height": null,
            "padding": null,
            "grid_auto_rows": null,
            "grid_gap": null,
            "max_width": null,
            "order": null,
            "_view_module_version": "1.2.0",
            "grid_template_areas": null,
            "object_position": null,
            "object_fit": null,
            "grid_auto_columns": null,
            "margin": null,
            "display": null,
            "left": null
          }
        },
        "057651a53abd47f89010fdd7837c8dae": {
          "model_module": "@jupyter-widgets/controls",
          "model_name": "HTMLModel",
          "model_module_version": "1.5.0",
          "state": {
            "_view_name": "HTMLView",
            "style": "IPY_MODEL_80e91ec867b440abb2bfa381cf976440",
            "_dom_classes": [],
            "description": "",
            "_model_name": "HTMLModel",
            "placeholder": "​",
            "_view_module": "@jupyter-widgets/controls",
            "_model_module_version": "1.5.0",
            "value": "100%",
            "_view_count": null,
            "_view_module_version": "1.5.0",
            "description_tooltip": null,
            "_model_module": "@jupyter-widgets/controls",
            "layout": "IPY_MODEL_b31044f5e08b4c2eaa69529fdc0f02f2"
          }
        },
        "2b1c28f070984b778588eb0b81e31f43": {
          "model_module": "@jupyter-widgets/controls",
          "model_name": "FloatProgressModel",
          "model_module_version": "1.5.0",
          "state": {
            "_view_name": "ProgressView",
            "style": "IPY_MODEL_bbd41a07efb24f5db741e2d5facf6575",
            "_dom_classes": [],
            "description": "",
            "_model_name": "FloatProgressModel",
            "bar_style": "success",
            "max": 2,
            "_view_module": "@jupyter-widgets/controls",
            "_model_module_version": "1.5.0",
            "value": 2,
            "_view_count": null,
            "_view_module_version": "1.5.0",
            "orientation": "horizontal",
            "min": 0,
            "description_tooltip": null,
            "_model_module": "@jupyter-widgets/controls",
            "layout": "IPY_MODEL_a2c17fc2ff094b8f87d7d026046417de"
          }
        },
        "9a8a6359b3544dc1bb7839b7d2d9f3bc": {
          "model_module": "@jupyter-widgets/controls",
          "model_name": "HTMLModel",
          "model_module_version": "1.5.0",
          "state": {
            "_view_name": "HTMLView",
            "style": "IPY_MODEL_99b61c75228b4a55b5715fa8cd08dee8",
            "_dom_classes": [],
            "description": "",
            "_model_name": "HTMLModel",
            "placeholder": "​",
            "_view_module": "@jupyter-widgets/controls",
            "_model_module_version": "1.5.0",
            "value": " 2/2 [00:00&lt;00:00,  5.74ba/s]",
            "_view_count": null,
            "_view_module_version": "1.5.0",
            "description_tooltip": null,
            "_model_module": "@jupyter-widgets/controls",
            "layout": "IPY_MODEL_d3e10c1abddf4632bbe12a73b2eb779d"
          }
        },
        "80e91ec867b440abb2bfa381cf976440": {
          "model_module": "@jupyter-widgets/controls",
          "model_name": "DescriptionStyleModel",
          "model_module_version": "1.5.0",
          "state": {
            "_view_name": "StyleView",
            "_model_name": "DescriptionStyleModel",
            "description_width": "",
            "_view_module": "@jupyter-widgets/base",
            "_model_module_version": "1.5.0",
            "_view_count": null,
            "_view_module_version": "1.2.0",
            "_model_module": "@jupyter-widgets/controls"
          }
        },
        "b31044f5e08b4c2eaa69529fdc0f02f2": {
          "model_module": "@jupyter-widgets/base",
          "model_name": "LayoutModel",
          "model_module_version": "1.2.0",
          "state": {
            "_view_name": "LayoutView",
            "grid_template_rows": null,
            "right": null,
            "justify_content": null,
            "_view_module": "@jupyter-widgets/base",
            "overflow": null,
            "_model_module_version": "1.2.0",
            "_view_count": null,
            "flex_flow": null,
            "width": null,
            "min_width": null,
            "border": null,
            "align_items": null,
            "bottom": null,
            "_model_module": "@jupyter-widgets/base",
            "top": null,
            "grid_column": null,
            "overflow_y": null,
            "overflow_x": null,
            "grid_auto_flow": null,
            "grid_area": null,
            "grid_template_columns": null,
            "flex": null,
            "_model_name": "LayoutModel",
            "justify_items": null,
            "grid_row": null,
            "max_height": null,
            "align_content": null,
            "visibility": null,
            "align_self": null,
            "height": null,
            "min_height": null,
            "padding": null,
            "grid_auto_rows": null,
            "grid_gap": null,
            "max_width": null,
            "order": null,
            "_view_module_version": "1.2.0",
            "grid_template_areas": null,
            "object_position": null,
            "object_fit": null,
            "grid_auto_columns": null,
            "margin": null,
            "display": null,
            "left": null
          }
        },
        "bbd41a07efb24f5db741e2d5facf6575": {
          "model_module": "@jupyter-widgets/controls",
          "model_name": "ProgressStyleModel",
          "model_module_version": "1.5.0",
          "state": {
            "_view_name": "StyleView",
            "_model_name": "ProgressStyleModel",
            "description_width": "",
            "_view_module": "@jupyter-widgets/base",
            "_model_module_version": "1.5.0",
            "_view_count": null,
            "_view_module_version": "1.2.0",
            "bar_color": null,
            "_model_module": "@jupyter-widgets/controls"
          }
        },
        "a2c17fc2ff094b8f87d7d026046417de": {
          "model_module": "@jupyter-widgets/base",
          "model_name": "LayoutModel",
          "model_module_version": "1.2.0",
          "state": {
            "_view_name": "LayoutView",
            "grid_template_rows": null,
            "right": null,
            "justify_content": null,
            "_view_module": "@jupyter-widgets/base",
            "overflow": null,
            "_model_module_version": "1.2.0",
            "_view_count": null,
            "flex_flow": null,
            "width": null,
            "min_width": null,
            "border": null,
            "align_items": null,
            "bottom": null,
            "_model_module": "@jupyter-widgets/base",
            "top": null,
            "grid_column": null,
            "overflow_y": null,
            "overflow_x": null,
            "grid_auto_flow": null,
            "grid_area": null,
            "grid_template_columns": null,
            "flex": null,
            "_model_name": "LayoutModel",
            "justify_items": null,
            "grid_row": null,
            "max_height": null,
            "align_content": null,
            "visibility": null,
            "align_self": null,
            "height": null,
            "min_height": null,
            "padding": null,
            "grid_auto_rows": null,
            "grid_gap": null,
            "max_width": null,
            "order": null,
            "_view_module_version": "1.2.0",
            "grid_template_areas": null,
            "object_position": null,
            "object_fit": null,
            "grid_auto_columns": null,
            "margin": null,
            "display": null,
            "left": null
          }
        },
        "99b61c75228b4a55b5715fa8cd08dee8": {
          "model_module": "@jupyter-widgets/controls",
          "model_name": "DescriptionStyleModel",
          "model_module_version": "1.5.0",
          "state": {
            "_view_name": "StyleView",
            "_model_name": "DescriptionStyleModel",
            "description_width": "",
            "_view_module": "@jupyter-widgets/base",
            "_model_module_version": "1.5.0",
            "_view_count": null,
            "_view_module_version": "1.2.0",
            "_model_module": "@jupyter-widgets/controls"
          }
        },
        "d3e10c1abddf4632bbe12a73b2eb779d": {
          "model_module": "@jupyter-widgets/base",
          "model_name": "LayoutModel",
          "model_module_version": "1.2.0",
          "state": {
            "_view_name": "LayoutView",
            "grid_template_rows": null,
            "right": null,
            "justify_content": null,
            "_view_module": "@jupyter-widgets/base",
            "overflow": null,
            "_model_module_version": "1.2.0",
            "_view_count": null,
            "flex_flow": null,
            "width": null,
            "min_width": null,
            "border": null,
            "align_items": null,
            "bottom": null,
            "_model_module": "@jupyter-widgets/base",
            "top": null,
            "grid_column": null,
            "overflow_y": null,
            "overflow_x": null,
            "grid_auto_flow": null,
            "grid_area": null,
            "grid_template_columns": null,
            "flex": null,
            "_model_name": "LayoutModel",
            "justify_items": null,
            "grid_row": null,
            "max_height": null,
            "align_content": null,
            "visibility": null,
            "align_self": null,
            "height": null,
            "min_height": null,
            "padding": null,
            "grid_auto_rows": null,
            "grid_gap": null,
            "max_width": null,
            "order": null,
            "_view_module_version": "1.2.0",
            "grid_template_areas": null,
            "object_position": null,
            "object_fit": null,
            "grid_auto_columns": null,
            "margin": null,
            "display": null,
            "left": null
          }
        },
        "16659ccc77d746f89777f355596cbde2": {
          "model_module": "@jupyter-widgets/controls",
          "model_name": "HBoxModel",
          "model_module_version": "1.5.0",
          "state": {
            "_view_name": "HBoxView",
            "_dom_classes": [],
            "_model_name": "HBoxModel",
            "_view_module": "@jupyter-widgets/controls",
            "_model_module_version": "1.5.0",
            "_view_count": null,
            "_view_module_version": "1.5.0",
            "box_style": "",
            "layout": "IPY_MODEL_af5b3afdb5774b9ca4601e0370048fe0",
            "_model_module": "@jupyter-widgets/controls",
            "children": [
              "IPY_MODEL_b9a5b1e1a750478285e567c2fd19cf03",
              "IPY_MODEL_d9f48493942e42658eb4b633f62f25ca",
              "IPY_MODEL_dd84a43887404b36a4dcc5fc9a123d66"
            ]
          }
        },
        "af5b3afdb5774b9ca4601e0370048fe0": {
          "model_module": "@jupyter-widgets/base",
          "model_name": "LayoutModel",
          "model_module_version": "1.2.0",
          "state": {
            "_view_name": "LayoutView",
            "grid_template_rows": null,
            "right": null,
            "justify_content": null,
            "_view_module": "@jupyter-widgets/base",
            "overflow": null,
            "_model_module_version": "1.2.0",
            "_view_count": null,
            "flex_flow": null,
            "width": null,
            "min_width": null,
            "border": null,
            "align_items": null,
            "bottom": null,
            "_model_module": "@jupyter-widgets/base",
            "top": null,
            "grid_column": null,
            "overflow_y": null,
            "overflow_x": null,
            "grid_auto_flow": null,
            "grid_area": null,
            "grid_template_columns": null,
            "flex": null,
            "_model_name": "LayoutModel",
            "justify_items": null,
            "grid_row": null,
            "max_height": null,
            "align_content": null,
            "visibility": null,
            "align_self": null,
            "height": null,
            "min_height": null,
            "padding": null,
            "grid_auto_rows": null,
            "grid_gap": null,
            "max_width": null,
            "order": null,
            "_view_module_version": "1.2.0",
            "grid_template_areas": null,
            "object_position": null,
            "object_fit": null,
            "grid_auto_columns": null,
            "margin": null,
            "display": null,
            "left": null
          }
        },
        "b9a5b1e1a750478285e567c2fd19cf03": {
          "model_module": "@jupyter-widgets/controls",
          "model_name": "HTMLModel",
          "model_module_version": "1.5.0",
          "state": {
            "_view_name": "HTMLView",
            "style": "IPY_MODEL_845fbd7e2b004bf29ee69d9da824c992",
            "_dom_classes": [],
            "description": "",
            "_model_name": "HTMLModel",
            "placeholder": "​",
            "_view_module": "@jupyter-widgets/controls",
            "_model_module_version": "1.5.0",
            "value": "Downloading: ",
            "_view_count": null,
            "_view_module_version": "1.5.0",
            "description_tooltip": null,
            "_model_module": "@jupyter-widgets/controls",
            "layout": "IPY_MODEL_4fabb1a03a154df080932a2e31958208"
          }
        },
        "d9f48493942e42658eb4b633f62f25ca": {
          "model_module": "@jupyter-widgets/controls",
          "model_name": "FloatProgressModel",
          "model_module_version": "1.5.0",
          "state": {
            "_view_name": "ProgressView",
            "style": "IPY_MODEL_a79f8200ff7040fcb9adb08fd2566d99",
            "_dom_classes": [],
            "description": "",
            "_model_name": "FloatProgressModel",
            "bar_style": "success",
            "max": 2482,
            "_view_module": "@jupyter-widgets/controls",
            "_model_module_version": "1.5.0",
            "value": 2482,
            "_view_count": null,
            "_view_module_version": "1.5.0",
            "orientation": "horizontal",
            "min": 0,
            "description_tooltip": null,
            "_model_module": "@jupyter-widgets/controls",
            "layout": "IPY_MODEL_578774ee39c14256b485e461c31b4381"
          }
        },
        "dd84a43887404b36a4dcc5fc9a123d66": {
          "model_module": "@jupyter-widgets/controls",
          "model_name": "HTMLModel",
          "model_module_version": "1.5.0",
          "state": {
            "_view_name": "HTMLView",
            "style": "IPY_MODEL_3e7717c859324b3db1c51a55ee06bdd9",
            "_dom_classes": [],
            "description": "",
            "_model_name": "HTMLModel",
            "placeholder": "​",
            "_view_module": "@jupyter-widgets/controls",
            "_model_module_version": "1.5.0",
            "value": " 6.34k/? [00:00&lt;00:00, 221kB/s]",
            "_view_count": null,
            "_view_module_version": "1.5.0",
            "description_tooltip": null,
            "_model_module": "@jupyter-widgets/controls",
            "layout": "IPY_MODEL_ff2be42836ec4e618e07ed9806f09185"
          }
        },
        "845fbd7e2b004bf29ee69d9da824c992": {
          "model_module": "@jupyter-widgets/controls",
          "model_name": "DescriptionStyleModel",
          "model_module_version": "1.5.0",
          "state": {
            "_view_name": "StyleView",
            "_model_name": "DescriptionStyleModel",
            "description_width": "",
            "_view_module": "@jupyter-widgets/base",
            "_model_module_version": "1.5.0",
            "_view_count": null,
            "_view_module_version": "1.2.0",
            "_model_module": "@jupyter-widgets/controls"
          }
        },
        "4fabb1a03a154df080932a2e31958208": {
          "model_module": "@jupyter-widgets/base",
          "model_name": "LayoutModel",
          "model_module_version": "1.2.0",
          "state": {
            "_view_name": "LayoutView",
            "grid_template_rows": null,
            "right": null,
            "justify_content": null,
            "_view_module": "@jupyter-widgets/base",
            "overflow": null,
            "_model_module_version": "1.2.0",
            "_view_count": null,
            "flex_flow": null,
            "width": null,
            "min_width": null,
            "border": null,
            "align_items": null,
            "bottom": null,
            "_model_module": "@jupyter-widgets/base",
            "top": null,
            "grid_column": null,
            "overflow_y": null,
            "overflow_x": null,
            "grid_auto_flow": null,
            "grid_area": null,
            "grid_template_columns": null,
            "flex": null,
            "_model_name": "LayoutModel",
            "justify_items": null,
            "grid_row": null,
            "max_height": null,
            "align_content": null,
            "visibility": null,
            "align_self": null,
            "height": null,
            "min_height": null,
            "padding": null,
            "grid_auto_rows": null,
            "grid_gap": null,
            "max_width": null,
            "order": null,
            "_view_module_version": "1.2.0",
            "grid_template_areas": null,
            "object_position": null,
            "object_fit": null,
            "grid_auto_columns": null,
            "margin": null,
            "display": null,
            "left": null
          }
        },
        "a79f8200ff7040fcb9adb08fd2566d99": {
          "model_module": "@jupyter-widgets/controls",
          "model_name": "ProgressStyleModel",
          "model_module_version": "1.5.0",
          "state": {
            "_view_name": "StyleView",
            "_model_name": "ProgressStyleModel",
            "description_width": "",
            "_view_module": "@jupyter-widgets/base",
            "_model_module_version": "1.5.0",
            "_view_count": null,
            "_view_module_version": "1.2.0",
            "bar_color": null,
            "_model_module": "@jupyter-widgets/controls"
          }
        },
        "578774ee39c14256b485e461c31b4381": {
          "model_module": "@jupyter-widgets/base",
          "model_name": "LayoutModel",
          "model_module_version": "1.2.0",
          "state": {
            "_view_name": "LayoutView",
            "grid_template_rows": null,
            "right": null,
            "justify_content": null,
            "_view_module": "@jupyter-widgets/base",
            "overflow": null,
            "_model_module_version": "1.2.0",
            "_view_count": null,
            "flex_flow": null,
            "width": null,
            "min_width": null,
            "border": null,
            "align_items": null,
            "bottom": null,
            "_model_module": "@jupyter-widgets/base",
            "top": null,
            "grid_column": null,
            "overflow_y": null,
            "overflow_x": null,
            "grid_auto_flow": null,
            "grid_area": null,
            "grid_template_columns": null,
            "flex": null,
            "_model_name": "LayoutModel",
            "justify_items": null,
            "grid_row": null,
            "max_height": null,
            "align_content": null,
            "visibility": null,
            "align_self": null,
            "height": null,
            "min_height": null,
            "padding": null,
            "grid_auto_rows": null,
            "grid_gap": null,
            "max_width": null,
            "order": null,
            "_view_module_version": "1.2.0",
            "grid_template_areas": null,
            "object_position": null,
            "object_fit": null,
            "grid_auto_columns": null,
            "margin": null,
            "display": null,
            "left": null
          }
        },
        "3e7717c859324b3db1c51a55ee06bdd9": {
          "model_module": "@jupyter-widgets/controls",
          "model_name": "DescriptionStyleModel",
          "model_module_version": "1.5.0",
          "state": {
            "_view_name": "StyleView",
            "_model_name": "DescriptionStyleModel",
            "description_width": "",
            "_view_module": "@jupyter-widgets/base",
            "_model_module_version": "1.5.0",
            "_view_count": null,
            "_view_module_version": "1.2.0",
            "_model_module": "@jupyter-widgets/controls"
          }
        },
        "ff2be42836ec4e618e07ed9806f09185": {
          "model_module": "@jupyter-widgets/base",
          "model_name": "LayoutModel",
          "model_module_version": "1.2.0",
          "state": {
            "_view_name": "LayoutView",
            "grid_template_rows": null,
            "right": null,
            "justify_content": null,
            "_view_module": "@jupyter-widgets/base",
            "overflow": null,
            "_model_module_version": "1.2.0",
            "_view_count": null,
            "flex_flow": null,
            "width": null,
            "min_width": null,
            "border": null,
            "align_items": null,
            "bottom": null,
            "_model_module": "@jupyter-widgets/base",
            "top": null,
            "grid_column": null,
            "overflow_y": null,
            "overflow_x": null,
            "grid_auto_flow": null,
            "grid_area": null,
            "grid_template_columns": null,
            "flex": null,
            "_model_name": "LayoutModel",
            "justify_items": null,
            "grid_row": null,
            "max_height": null,
            "align_content": null,
            "visibility": null,
            "align_self": null,
            "height": null,
            "min_height": null,
            "padding": null,
            "grid_auto_rows": null,
            "grid_gap": null,
            "max_width": null,
            "order": null,
            "_view_module_version": "1.2.0",
            "grid_template_areas": null,
            "object_position": null,
            "object_fit": null,
            "grid_auto_columns": null,
            "margin": null,
            "display": null,
            "left": null
          }
        }
      }
    }
  },
  "cells": [
    {
      "cell_type": "markdown",
      "metadata": {
        "id": "p6U3RjFReTM5"
      },
      "source": [
        "# ОКПД 2 (по новостям и чисто по названиям)"
      ]
    },
    {
      "cell_type": "code",
      "metadata": {
        "id": "2VqE1nBPj8xR"
      },
      "source": [
        "%%capture\n",
        "!pip install iterative-stratification\n",
        "!pip install scikit-multilearn\n",
        "!pip install transformers\n",
        "!pip install -U imbalanced-learn"
      ],
      "execution_count": null,
      "outputs": []
    },
    {
      "cell_type": "code",
      "metadata": {
        "id": "Msf6IaL0jyuy"
      },
      "source": [
        "%cp /content/drive/MyDrive/OKPD2/okpds_unique.tar.gz .\n",
        "!tar -xzf okpds_unique.tar.gz"
      ],
      "execution_count": null,
      "outputs": []
    },
    {
      "cell_type": "markdown",
      "metadata": {
        "id": "CXEjn3xzfxPn"
      },
      "source": [
        "датасет окпд2 из новостей"
      ]
    },
    {
      "cell_type": "code",
      "metadata": {
        "id": "Yl14FCrZkFN2"
      },
      "source": [
        "import pandas as pd\n",
        "df = pd.read_csv(r'/content/mnt/appdata/nlp/okpd/okpds4_unique',sep='\\t',header=None)\n",
        "\n",
        "df.columns = ['text','okpd']\n",
        "df['l1'] = df.okpd.apply(lambda a: a.split('.')[0])\n",
        "df['l2'] = df.okpd.apply(lambda a: '.'.join(a.split('.')[0:2]))\n",
        "\n",
        "to_drop = ['E', 'J', 'ё', 'S', 'P', 'D', 'T', 'G', 'A', 'F', 'Q', 'C', 'I','M', 'N', 'H', 'O', 'j','46']\n",
        "df = df[~df.l1.isin(to_drop)].copy()"
      ],
      "execution_count": null,
      "outputs": []
    },
    {
      "cell_type": "markdown",
      "metadata": {
        "id": "-l8l0Jf_f2WH"
      },
      "source": [
        "датасет окпд2 из чистых названий"
      ]
    },
    {
      "cell_type": "code",
      "metadata": {
        "colab": {
          "base_uri": "https://localhost:8080/",
          "height": 206
        },
        "id": "qbTAnxD8kHBI",
        "outputId": "f3b1589e-fcdc-4e93-b0ee-5e7dd093def1"
      },
      "source": [
        "df_2 = pd.read_excel(r'/content/drive/MyDrive/OKPD2/okpd2_only.xlsx', index_col=None, header=None)[1:]\n",
        "df_2.columns = ['okpd','text']\n",
        "\n",
        "df_2['l1'] = df_2.okpd.apply(lambda a: str(a).split('.')[0])\n",
        "df_2['l2'] = df_2.okpd.apply(lambda a: '.'.join(a.split('.')[0:2]))\n",
        "df_2.head()"
      ],
      "execution_count": null,
      "outputs": [
        {
          "output_type": "execute_result",
          "data": {
            "text/html": [
              "<div>\n",
              "<style scoped>\n",
              "    .dataframe tbody tr th:only-of-type {\n",
              "        vertical-align: middle;\n",
              "    }\n",
              "\n",
              "    .dataframe tbody tr th {\n",
              "        vertical-align: top;\n",
              "    }\n",
              "\n",
              "    .dataframe thead th {\n",
              "        text-align: right;\n",
              "    }\n",
              "</style>\n",
              "<table border=\"1\" class=\"dataframe\">\n",
              "  <thead>\n",
              "    <tr style=\"text-align: right;\">\n",
              "      <th></th>\n",
              "      <th>okpd</th>\n",
              "      <th>text</th>\n",
              "      <th>l1</th>\n",
              "      <th>l2</th>\n",
              "    </tr>\n",
              "  </thead>\n",
              "  <tbody>\n",
              "    <tr>\n",
              "      <th>1</th>\n",
              "      <td>01</td>\n",
              "      <td>Продукция и услуги сельского хозяйства и охоты</td>\n",
              "      <td>01</td>\n",
              "      <td>01</td>\n",
              "    </tr>\n",
              "    <tr>\n",
              "      <th>2</th>\n",
              "      <td>01.1</td>\n",
              "      <td>Культуры однолетние</td>\n",
              "      <td>01</td>\n",
              "      <td>01.1</td>\n",
              "    </tr>\n",
              "    <tr>\n",
              "      <th>3</th>\n",
              "      <td>01.11</td>\n",
              "      <td>Культуры зерновые (кроме риса), зернобобовые, ...</td>\n",
              "      <td>01</td>\n",
              "      <td>01.11</td>\n",
              "    </tr>\n",
              "    <tr>\n",
              "      <th>4</th>\n",
              "      <td>01.11.1</td>\n",
              "      <td>Пшеница</td>\n",
              "      <td>01</td>\n",
              "      <td>01.11</td>\n",
              "    </tr>\n",
              "    <tr>\n",
              "      <th>5</th>\n",
              "      <td>01.11.11</td>\n",
              "      <td>Пшеница твердая</td>\n",
              "      <td>01</td>\n",
              "      <td>01.11</td>\n",
              "    </tr>\n",
              "  </tbody>\n",
              "</table>\n",
              "</div>"
            ],
            "text/plain": [
              "       okpd                                               text  l1     l2\n",
              "1        01     Продукция и услуги сельского хозяйства и охоты  01     01\n",
              "2      01.1                                Культуры однолетние  01   01.1\n",
              "3     01.11  Культуры зерновые (кроме риса), зернобобовые, ...  01  01.11\n",
              "4   01.11.1                                            Пшеница  01  01.11\n",
              "5  01.11.11                                    Пшеница твердая  01  01.11"
            ]
          },
          "metadata": {
            "tags": []
          },
          "execution_count": 5
        }
      ]
    },
    {
      "cell_type": "code",
      "metadata": {
        "colab": {
          "base_uri": "https://localhost:8080/",
          "height": 144
        },
        "id": "UKqoeI_tkRVN",
        "outputId": "a591d605-dd15-4b33-9534-3f441572a5f8"
      },
      "source": [
        "df.head(3)"
      ],
      "execution_count": null,
      "outputs": [
        {
          "output_type": "execute_result",
          "data": {
            "text/html": [
              "<div>\n",
              "<style scoped>\n",
              "    .dataframe tbody tr th:only-of-type {\n",
              "        vertical-align: middle;\n",
              "    }\n",
              "\n",
              "    .dataframe tbody tr th {\n",
              "        vertical-align: top;\n",
              "    }\n",
              "\n",
              "    .dataframe thead th {\n",
              "        text-align: right;\n",
              "    }\n",
              "</style>\n",
              "<table border=\"1\" class=\"dataframe\">\n",
              "  <thead>\n",
              "    <tr style=\"text-align: right;\">\n",
              "      <th></th>\n",
              "      <th>text</th>\n",
              "      <th>okpd</th>\n",
              "      <th>l1</th>\n",
              "      <th>l2</th>\n",
              "    </tr>\n",
              "  </thead>\n",
              "  <tbody>\n",
              "    <tr>\n",
              "      <th>0</th>\n",
              "      <td>услуги по передаче электроэнергии</td>\n",
              "      <td>35.12.10.110</td>\n",
              "      <td>35</td>\n",
              "      <td>35.12</td>\n",
              "    </tr>\n",
              "    <tr>\n",
              "      <th>1</th>\n",
              "      <td>оказание услуг по вывозу и размещению твердых ...</td>\n",
              "      <td>38.11.11.000</td>\n",
              "      <td>38</td>\n",
              "      <td>38.11</td>\n",
              "    </tr>\n",
              "    <tr>\n",
              "      <th>2</th>\n",
              "      <td>салфетки (повязки), расфасованные в формы или ...</td>\n",
              "      <td>21.20.24.160</td>\n",
              "      <td>21</td>\n",
              "      <td>21.20</td>\n",
              "    </tr>\n",
              "  </tbody>\n",
              "</table>\n",
              "</div>"
            ],
            "text/plain": [
              "                                                text          okpd  l1     l2\n",
              "0                  услуги по передаче электроэнергии  35.12.10.110  35  35.12\n",
              "1  оказание услуг по вывозу и размещению твердых ...  38.11.11.000  38  38.11\n",
              "2  салфетки (повязки), расфасованные в формы или ...  21.20.24.160  21  21.20"
            ]
          },
          "metadata": {
            "tags": []
          },
          "execution_count": 6
        }
      ]
    },
    {
      "cell_type": "code",
      "metadata": {
        "colab": {
          "base_uri": "https://localhost:8080/",
          "height": 144
        },
        "id": "ouYiBx8Skshl",
        "outputId": "d34d1e12-bffd-4ffb-c23a-5b8f197d1bd8"
      },
      "source": [
        "df_2.head(3)"
      ],
      "execution_count": null,
      "outputs": [
        {
          "output_type": "execute_result",
          "data": {
            "text/html": [
              "<div>\n",
              "<style scoped>\n",
              "    .dataframe tbody tr th:only-of-type {\n",
              "        vertical-align: middle;\n",
              "    }\n",
              "\n",
              "    .dataframe tbody tr th {\n",
              "        vertical-align: top;\n",
              "    }\n",
              "\n",
              "    .dataframe thead th {\n",
              "        text-align: right;\n",
              "    }\n",
              "</style>\n",
              "<table border=\"1\" class=\"dataframe\">\n",
              "  <thead>\n",
              "    <tr style=\"text-align: right;\">\n",
              "      <th></th>\n",
              "      <th>okpd</th>\n",
              "      <th>text</th>\n",
              "      <th>l1</th>\n",
              "      <th>l2</th>\n",
              "    </tr>\n",
              "  </thead>\n",
              "  <tbody>\n",
              "    <tr>\n",
              "      <th>1</th>\n",
              "      <td>01</td>\n",
              "      <td>Продукция и услуги сельского хозяйства и охоты</td>\n",
              "      <td>01</td>\n",
              "      <td>01</td>\n",
              "    </tr>\n",
              "    <tr>\n",
              "      <th>2</th>\n",
              "      <td>01.1</td>\n",
              "      <td>Культуры однолетние</td>\n",
              "      <td>01</td>\n",
              "      <td>01.1</td>\n",
              "    </tr>\n",
              "    <tr>\n",
              "      <th>3</th>\n",
              "      <td>01.11</td>\n",
              "      <td>Культуры зерновые (кроме риса), зернобобовые, ...</td>\n",
              "      <td>01</td>\n",
              "      <td>01.11</td>\n",
              "    </tr>\n",
              "  </tbody>\n",
              "</table>\n",
              "</div>"
            ],
            "text/plain": [
              "    okpd                                               text  l1     l2\n",
              "1     01     Продукция и услуги сельского хозяйства и охоты  01     01\n",
              "2   01.1                                Культуры однолетние  01   01.1\n",
              "3  01.11  Культуры зерновые (кроме риса), зернобобовые, ...  01  01.11"
            ]
          },
          "metadata": {
            "tags": []
          },
          "execution_count": 7
        }
      ]
    },
    {
      "cell_type": "code",
      "metadata": {
        "id": "wcaXO1Zek63h"
      },
      "source": [
        "from sklearn.pipeline import Pipeline\n",
        "from sklearn.feature_extraction.text import TfidfVectorizer\n",
        "from sklearn.svm import LinearSVC"
      ],
      "execution_count": null,
      "outputs": []
    },
    {
      "cell_type": "code",
      "metadata": {
        "id": "aUkT7Xh6k_Ti"
      },
      "source": [
        "from sklearn.naive_bayes import MultinomialNB\n",
        "from sklearn.linear_model import SGDClassifier\n",
        "from sklearn.linear_model import LogisticRegression\n",
        "from sklearn.feature_extraction.text import TfidfVectorizer, CountVectorizer, TfidfTransformer\n",
        "from sklearn.ensemble import RandomForestRegressor, AdaBoostRegressor, GradientBoostingRegressor, GradientBoostingClassifier, AdaBoostClassifier\n",
        "from sklearn.metrics import f1_score, accuracy_score, precision_score, recall_score, roc_curve, roc_auc_score\n",
        "from sklearn.pipeline import Pipeline\n",
        "from imblearn.under_sampling import RandomUnderSampler\n",
        "\n",
        "from transformers import BertTokenizer\n",
        "from iterstrat.ml_stratifiers import MultilabelStratifiedShuffleSplit\n",
        "from skmultilearn.model_selection import IterativeStratification\n",
        "from skmultilearn.model_selection import iterative_stratification\n",
        "\n",
        "from sklearn.utils import shuffle\n",
        "from sklearn.model_selection import train_test_split\n",
        "\n",
        "from sklearn.preprocessing import MultiLabelBinarizer\n",
        "from sklearn.calibration import CalibratedClassifierCV\n",
        "from sklearn.ensemble import RandomForestClassifier\n",
        "from sklearn.feature_extraction.text import TfidfVectorizer\n",
        "from sklearn.linear_model import LogisticRegression\n",
        "from sklearn.metrics import f1_score, accuracy_score, precision_score, recall_score, roc_curve, roc_auc_score\n",
        "from sklearn.model_selection import StratifiedKFold, cross_validate, train_test_split\n",
        "from sklearn.svm import LinearSVC\n",
        "from sklearn.multiclass import OneVsRestClassifier\n",
        "\n",
        "from sklearn.metrics import balanced_accuracy_score"
      ],
      "execution_count": null,
      "outputs": []
    },
    {
      "cell_type": "markdown",
      "metadata": {
        "id": "LqDZ0IRmlQrh"
      },
      "source": [
        "## ОКПД из новостей"
      ]
    },
    {
      "cell_type": "markdown",
      "metadata": {
        "id": "JgWOjhfZfTXh"
      },
      "source": [
        "Первый уровень"
      ]
    },
    {
      "cell_type": "code",
      "metadata": {
        "id": "fHMEDrQhktyl"
      },
      "source": [
        "newone = pd.concat([df[df.l1 == i].head(3000) for i in df.l1.unique()])\n",
        "newone.l1.value_counts()\n",
        "df = newone.copy()"
      ],
      "execution_count": null,
      "outputs": []
    },
    {
      "cell_type": "markdown",
      "metadata": {
        "id": "pYikjqHcfVDi"
      },
      "source": [
        "или второй"
      ]
    },
    {
      "cell_type": "code",
      "metadata": {
        "id": "tvKeJIIIk0_K"
      },
      "source": [
        "newone = pd.concat([df[df.l2 == i].head(100) for i in df.l2.unique()])\n",
        "newone.l2.value_counts()\n",
        "df = newone.copy()"
      ],
      "execution_count": null,
      "outputs": []
    },
    {
      "cell_type": "markdown",
      "metadata": {
        "id": "m-1P0n18fXQU"
      },
      "source": [
        "чистим"
      ]
    },
    {
      "cell_type": "code",
      "metadata": {
        "id": "SEDXojrHk19J",
        "colab": {
          "base_uri": "https://localhost:8080/"
        },
        "outputId": "6ca722c4-b48c-404d-fcc6-def123ae4eb4"
      },
      "source": [
        "df.text = df.text.apply(lambda a: a[:150])\n",
        "df.text.str.len().max()"
      ],
      "execution_count": null,
      "outputs": [
        {
          "output_type": "execute_result",
          "data": {
            "text/plain": [
              "150"
            ]
          },
          "metadata": {
            "tags": []
          },
          "execution_count": 11
        }
      ]
    },
    {
      "cell_type": "code",
      "metadata": {
        "id": "4X9Str-4k6TJ",
        "colab": {
          "base_uri": "https://localhost:8080/"
        },
        "outputId": "a7ed47a2-fd68-4ae8-b127-c5bd999e3dbf"
      },
      "source": [
        "df = df[df.l2.isin(df.l2.value_counts()[df.l2.value_counts() > 9].index.tolist())]\n",
        "df.l2.value_counts()"
      ],
      "execution_count": null,
      "outputs": [
        {
          "output_type": "execute_result",
          "data": {
            "text/plain": [
              "36.00    2997\n",
              "19.20    2992\n",
              "37.00    2986\n",
              "41.20    2941\n",
              "65.12    2935\n",
              "         ... \n",
              "01.29      10\n",
              "55.30      10\n",
              "47.75      10\n",
              "25.62      10\n",
              "33.16      10\n",
              "Name: l2, Length: 501, dtype: int64"
            ]
          },
          "metadata": {
            "tags": []
          },
          "execution_count": 12
        }
      ]
    },
    {
      "cell_type": "code",
      "metadata": {
        "id": "yzAQb8ZslAtF",
        "colab": {
          "base_uri": "https://localhost:8080/",
          "height": 267,
          "referenced_widgets": [
            "1967b577aa69457d8d48f138bed309bb",
            "75545823761e47128ca45fc9bc935557",
            "df1fa205e49841f5917bd0afc1b6053e",
            "e70c8a2e4021411189ff16b5e02364ae",
            "08cf3f5a08c2479c84a906a0cc04547b",
            "698b9eb5819f48a2bf9651e09f95231b",
            "c4a82c15c4ec426f91aaf01840cc0011",
            "bba152685e19432ab22b04f74bbbf6ca",
            "c75c52213bc240e389bb87309f0b0f02",
            "e660fdf937604052960c8e13694c3de8",
            "6a16656518b94dc2b70624b1a2186366",
            "3bbe63fc74a741ea929288d320081325",
            "3f85b45ee61e433d93c1a520a022a029",
            "f83381a25c664b638146eef089ac51af",
            "3be0c9acb7504248bfa7b2a9f6ff6487",
            "d6a64d05706d46029ec7f018989e5bc5",
            "151470ba157a4e68b93e6d1fe24bbfc3",
            "3ea7a89053db464db1dd3f691e5ca6f7",
            "b366bb4085bc4e79a58d1f7806fcba26",
            "1c4fd9d332ce468ca250baf12fba6a41",
            "adf18c64046c44d6a27030f86dfcee36",
            "66e11de7268342b09e688c2bf6619a32",
            "c3ef87129eb9400d84f0c8e91c254e92",
            "e77a394ad9284d2eaa0218fb9fa3cd3e",
            "553085ba300d4bb999244bb08d5ed28e",
            "bfc424b0317948459d4dbcee7d7e01d4",
            "fa52e234906d48f8a6c360a35a8bcaa1",
            "6e882d9bb3ba4ef7b93fb939f291c0ba",
            "c6e74237806a4af3936bafdaf08933f4",
            "a209e849fdcd4769b4d0602c8443656c",
            "0f452115d5a84c8c8a7b1da5dae0978c",
            "b41fd0647f8c4a5781df67006740bb35",
            "41af4aa6268b4b6690ca59290573825a",
            "eab95fe4b713453d9247e9592dffbb84",
            "39c9260e92f2469d998b07b36608cb20",
            "eb5aa83ceb15456ba0bf9e8dc2c7cf29",
            "36188a9cb7ca4f2987534773e8b6eb5f",
            "61fb4cc14ac049119bd5b5242d7c831f",
            "e6f9264a531941f98bb4286b10cd8228",
            "4dd6f3cf13f0480097eb10f532d4af7b"
          ]
        },
        "outputId": "7db08927-0aba-49da-fe98-c17d6fcb80c0"
      },
      "source": [
        "from imblearn.under_sampling import RandomUnderSampler\n",
        "from imblearn.under_sampling import AllKNN \n",
        "from imblearn.pipeline import make_pipeline as make_pipeline_imb\n",
        "from sklearn.neighbors import KNeighborsClassifier\n",
        "from imblearn.over_sampling import SMOTE\n",
        "\n",
        "#model = make_pipeline_imb(TfidfVectorizer(), AllKNN(), MultinomialNB())\n",
        "corpus = df['text'].values\n",
        "tokenizer = BertTokenizer.from_pretrained(\"cointegrated/rubert-tiny\", lower_case=False)\n",
        "\n",
        "X = df['text'].values\n",
        "y = df['l1'].to_numpy()\n",
        "X_train, X_valid, y_train, y_valid = train_test_split(X, y, test_size=0.2,\n",
        "                               random_state=1337, stratify=y)\n",
        "\n",
        "\n",
        "\n",
        "tfidf_ = TfidfVectorizer(\n",
        "                            tokenizer=tokenizer.tokenize, \n",
        "                            ngram_range=(1,6), \n",
        "                            lowercase=True,\n",
        "                            #stop_words=stopwords,\n",
        "                            max_features = None,\n",
        "                            analyzer='word',\n",
        "                            max_df=0.95,\n",
        "                            min_df=0.001\n",
        "                            )\n",
        "clf_ = LinearSVC(C=1, \n",
        "                     class_weight='balanced',                             \n",
        "                     random_state=1337,\n",
        "                     max_iter=5000)\n",
        "\n",
        "#clf_ = KNeighborsClassifier()\n",
        "\n",
        "model = make_pipeline_imb(tfidf_, \n",
        "                          RandomUnderSampler(random_state=12),\n",
        "                          clf_)\n",
        "model = Pipeline([('tfidf',tfidf_), \n",
        "                  ('clf', clf_)\n",
        "                  ])\n",
        "\n",
        "model.fit(X_train, y_train)\n",
        "y_pred = model.predict(X_valid)"
      ],
      "execution_count": null,
      "outputs": [
        {
          "output_type": "display_data",
          "data": {
            "application/vnd.jupyter.widget-view+json": {
              "model_id": "1967b577aa69457d8d48f138bed309bb",
              "version_minor": 0,
              "version_major": 2
            },
            "text/plain": [
              "HBox(children=(FloatProgress(value=0.0, description='Downloading', max=241082.0, style=ProgressStyle(descripti…"
            ]
          },
          "metadata": {
            "tags": []
          }
        },
        {
          "output_type": "stream",
          "text": [
            "\n"
          ],
          "name": "stdout"
        },
        {
          "output_type": "display_data",
          "data": {
            "application/vnd.jupyter.widget-view+json": {
              "model_id": "c75c52213bc240e389bb87309f0b0f02",
              "version_minor": 0,
              "version_major": 2
            },
            "text/plain": [
              "HBox(children=(FloatProgress(value=0.0, description='Downloading', max=112.0, style=ProgressStyle(description_…"
            ]
          },
          "metadata": {
            "tags": []
          }
        },
        {
          "output_type": "stream",
          "text": [
            "\n"
          ],
          "name": "stdout"
        },
        {
          "output_type": "display_data",
          "data": {
            "application/vnd.jupyter.widget-view+json": {
              "model_id": "151470ba157a4e68b93e6d1fe24bbfc3",
              "version_minor": 0,
              "version_major": 2
            },
            "text/plain": [
              "HBox(children=(FloatProgress(value=0.0, description='Downloading', max=341.0, style=ProgressStyle(description_…"
            ]
          },
          "metadata": {
            "tags": []
          }
        },
        {
          "output_type": "stream",
          "text": [
            "\n"
          ],
          "name": "stdout"
        },
        {
          "output_type": "display_data",
          "data": {
            "application/vnd.jupyter.widget-view+json": {
              "model_id": "553085ba300d4bb999244bb08d5ed28e",
              "version_minor": 0,
              "version_major": 2
            },
            "text/plain": [
              "HBox(children=(FloatProgress(value=0.0, description='Downloading', max=468145.0, style=ProgressStyle(descripti…"
            ]
          },
          "metadata": {
            "tags": []
          }
        },
        {
          "output_type": "stream",
          "text": [
            "\n"
          ],
          "name": "stdout"
        },
        {
          "output_type": "display_data",
          "data": {
            "application/vnd.jupyter.widget-view+json": {
              "model_id": "41af4aa6268b4b6690ca59290573825a",
              "version_minor": 0,
              "version_major": 2
            },
            "text/plain": [
              "HBox(children=(FloatProgress(value=0.0, description='Downloading', max=632.0, style=ProgressStyle(description_…"
            ]
          },
          "metadata": {
            "tags": []
          }
        },
        {
          "output_type": "stream",
          "text": [
            "\n"
          ],
          "name": "stdout"
        }
      ]
    },
    {
      "cell_type": "code",
      "metadata": {
        "colab": {
          "base_uri": "https://localhost:8080/"
        },
        "id": "eQnWmzesgKWZ",
        "outputId": "92cbc717-874c-46d3-9d41-c25c055445a3"
      },
      "source": [
        "from sklearn.metrics import balanced_accuracy_score\n",
        "\n",
        "print('weighted f1: ',f1_score(y_valid, y_pred, average='weighted'))\n",
        "print('micro f1: ',f1_score(y_valid, y_pred, average='micro'))\n",
        "print('macro f1: ',f1_score(y_valid, y_pred, average='macro'))\n",
        "print('balanced accuracy score: ',balanced_accuracy_score(y_valid, y_pred))"
      ],
      "execution_count": null,
      "outputs": [
        {
          "output_type": "stream",
          "text": [
            "weighted f1:  0.7125857642501718\n",
            "micro f1:  0.7167132216014898\n",
            "macro f1:  0.6747959053521837\n",
            "balanced accuracy score:  0.696868763188859\n"
          ],
          "name": "stdout"
        }
      ]
    },
    {
      "cell_type": "markdown",
      "metadata": {
        "id": "VxOvxDaKlUBQ"
      },
      "source": [
        "## ОКПД из ЧИСТОГО"
      ]
    },
    {
      "cell_type": "code",
      "metadata": {
        "id": "Mfed6C_vlWfF"
      },
      "source": [
        "from typing import Callable, List, Optional, Tuple\n",
        "\n",
        "import pandas as pd\n",
        "from sklearn.base import TransformerMixin, BaseEstimator\n",
        "import torch\n",
        "\n",
        "def mean_pooling(model_output, attention_mask):\n",
        "    token_embeddings = model_output[0] #First element of model_output contains all token embeddings\n",
        "    input_mask_expanded = attention_mask.unsqueeze(-1).expand(token_embeddings.size()).float()\n",
        "    sum_embeddings = torch.sum(token_embeddings * input_mask_expanded, 1)\n",
        "    sum_mask = torch.clamp(input_mask_expanded.sum(1), min=1e-9)\n",
        "    return sum_embeddings / sum_mask\n",
        "\n",
        "class BertTransformer(BaseEstimator, TransformerMixin):\n",
        "    def __init__(\n",
        "            self,\n",
        "            bert_tokenizer,\n",
        "            bert_model,\n",
        "            max_length: int = 60,\n",
        "            embedding_func: Optional[Callable[[torch.tensor], torch.tensor]] = mean_pooling,\n",
        "    ):\n",
        "        self.tokenizer = bert_tokenizer\n",
        "        self.model = bert_model\n",
        "        self.model.eval()\n",
        "        self.max_length = max_length\n",
        "        self.embedding_func = embedding_func\n",
        "\n",
        "        if self.embedding_func is None:\n",
        "            self.embedding_func = lambda x: x[0][:, 0, :].squeeze()\n",
        "\n",
        "    def _tokenize(self, text: str) -> Tuple[torch.tensor, torch.tensor]:\n",
        "        # Tokenize the text with the provided tokenizer\n",
        "        #print('text:',text)\n",
        "        tokenized_text = self.tokenizer.encode_plus(text,\n",
        "                                                    add_special_tokens=True,\n",
        "                                                    max_length=self.max_length\n",
        "                                                    )[\"input_ids\"]\n",
        "        #print('tokenized_text:',tokenized_text)\n",
        "        # Create an attention mask telling BERT to use all words\n",
        "        attention_mask = [1] * len(tokenized_text)\n",
        "\n",
        "        # bert takes in a batch so we need to unsqueeze the rows\n",
        "        return (\n",
        "            torch.tensor(tokenized_text).unsqueeze(0),\n",
        "            torch.tensor(attention_mask).unsqueeze(0),\n",
        "        )\n",
        "\n",
        "    def _tokenize_and_predict(self, text: str) -> torch.tensor:\n",
        "        tokenized, attention_mask = self._tokenize(text)\n",
        "        embeddings = self.model(tokenized, attention_mask)\n",
        "\n",
        "        return self.embedding_func(embeddings, attention_mask)\n",
        "\n",
        "    def transform(self, text: List[str]):\n",
        "        if isinstance(text, pd.Series):\n",
        "            text = text.tolist()\n",
        "\n",
        "        with torch.no_grad():\n",
        "            return torch.stack([self._tokenize_and_predict(string).squeeze(0) for string in text])\n",
        "\n",
        "    def fit(self, X, y=None):\n",
        "        \"\"\"No fitting necessary so we just return ourselves\"\"\"\n",
        "        return self"
      ],
      "execution_count": null,
      "outputs": []
    },
    {
      "cell_type": "code",
      "metadata": {
        "id": "cHPBow4XlkHL"
      },
      "source": [
        "corpus = df_2['text'].values\n",
        "tokenizer = BertTokenizer.from_pretrained(\"cointegrated/rubert-tiny\", lower_case=False)\n",
        "\n",
        "X = df_2['text'].values\n",
        "y = df_2['l1'].to_numpy()\n",
        "X_train, X_valid, y_train, y_valid = train_test_split(X, y, test_size=0.2,\n",
        "                               random_state=1337, stratify=y)"
      ],
      "execution_count": null,
      "outputs": []
    },
    {
      "cell_type": "code",
      "metadata": {
        "colab": {
          "base_uri": "https://localhost:8080/"
        },
        "id": "s9c6f0VMlZX3",
        "outputId": "d70814fd-b1d3-4072-a6ac-78385660dab6"
      },
      "source": [
        "from transformers import AutoTokenizer, AutoModel\n",
        "from sklearn.pipeline import FeatureUnion\n",
        "import torch\n",
        "from sklearn.neighbors import KNeighborsClassifier\n",
        "\n",
        "from sklearn.feature_extraction.text import (\n",
        "   CountVectorizer, TfidfTransformer\n",
        ")\n",
        "\n",
        "tokenizer = AutoTokenizer.from_pretrained(\"cointegrated/rubert-tiny\", lower_case=True)#.from_pretrained(\"sberbank-ai/sbert_large_nlu_ru\")\n",
        "model = AutoModel.from_pretrained(\"cointegrated/rubert-tiny\")\n",
        "\n",
        "bert_transformer = BertTransformer(tokenizer, model)\n",
        "classifier = LinearSVC(C=1.0, \n",
        "                     class_weight='balanced',                             \n",
        "                     random_state=1337,\n",
        "                     max_iter=1000\n",
        "                     )\n",
        "\n",
        "#classifier = LogisticRegression()\n",
        "#classifier = KNeighborsClassifier()\n",
        "\n",
        "tfidf_ = TfidfVectorizer(\n",
        "                            tokenizer=tokenizer.tokenize, \n",
        "                            ngram_range=(1,6), \n",
        "                            lowercase=True,\n",
        "                            #stop_words=stopwords,\n",
        "                            max_features = None,\n",
        "                            analyzer='word',\n",
        "                            max_df=0.95,\n",
        "                            min_df=0.001\n",
        "                            )\n",
        "\n",
        "tf_idf = Pipeline([\n",
        "    (\"vect\", CountVectorizer()),\n",
        "    (\"tfidf\", TfidfTransformer())\n",
        "    ])\n",
        "\n",
        "model = Pipeline([\n",
        "    (\"union\", FeatureUnion(transformer_list=[\n",
        "#        (\"bert\", bert_transformer),\n",
        "        (\"tf_idf\", tf_idf)\n",
        "        ])),\n",
        "        (\"classifier\", classifier),\n",
        "    ])\n",
        "\n",
        "model.fit(X_train, y_train)\n",
        "y_pred = model.predict(X_valid)"
      ],
      "execution_count": null,
      "outputs": [
        {
          "output_type": "stream",
          "text": [
            "Some weights of the model checkpoint at cointegrated/rubert-tiny were not used when initializing BertModel: ['cls.seq_relationship.bias', 'cls.predictions.transform.LayerNorm.bias', 'cls.predictions.decoder.bias', 'cls.seq_relationship.weight', 'cls.predictions.transform.LayerNorm.weight', 'cls.predictions.decoder.weight', 'cls.predictions.transform.dense.weight', 'cls.predictions.transform.dense.bias', 'cls.predictions.bias']\n",
            "- This IS expected if you are initializing BertModel from the checkpoint of a model trained on another task or with another architecture (e.g. initializing a BertForSequenceClassification model from a BertForPreTraining model).\n",
            "- This IS NOT expected if you are initializing BertModel from the checkpoint of a model that you expect to be exactly identical (initializing a BertForSequenceClassification model from a BertForSequenceClassification model).\n"
          ],
          "name": "stderr"
        }
      ]
    },
    {
      "cell_type": "code",
      "metadata": {
        "colab": {
          "base_uri": "https://localhost:8080/"
        },
        "id": "rUDKN9IeofZn",
        "outputId": "2ca61f09-42b7-4e45-9d35-cc26c9bc9139"
      },
      "source": [
        "model.predict(['Черные металлы'])"
      ],
      "execution_count": null,
      "outputs": [
        {
          "output_type": "execute_result",
          "data": {
            "text/plain": [
              "array(['24'], dtype=object)"
            ]
          },
          "metadata": {
            "tags": []
          },
          "execution_count": 50
        }
      ]
    },
    {
      "cell_type": "code",
      "metadata": {
        "colab": {
          "base_uri": "https://localhost:8080/"
        },
        "id": "V4OgmQQEgvLV",
        "outputId": "99bf5764-54e0-49d2-c20f-87230e24a87b"
      },
      "source": [
        "from sklearn.metrics import balanced_accuracy_score\n",
        "\n",
        "print(f1_score(y_valid, y_pred, average='weighted'))\n",
        "print(f1_score(y_valid, y_pred, average='micro'))\n",
        "print(f1_score(y_valid, y_pred, average='macro'))\n",
        "balanced_accuracy_score(y_valid, y_pred)"
      ],
      "execution_count": null,
      "outputs": [
        {
          "output_type": "stream",
          "text": [
            "0.9185496411605141\n",
            "0.9181739879414298\n",
            "0.914744871341502\n"
          ],
          "name": "stdout"
        },
        {
          "output_type": "execute_result",
          "data": {
            "text/plain": [
              "0.91904188069441"
            ]
          },
          "metadata": {
            "tags": []
          },
          "execution_count": 55
        }
      ]
    },
    {
      "cell_type": "code",
      "metadata": {
        "id": "sH0BlQkzl39O"
      },
      "source": [
        "assert model.predict(['мясные консервы']) == '10'\n",
        "assert model.predict(['пиво']) == '11'\n",
        "assert model.predict(['нефть']) == '06'\n",
        "#model.predict(['Черные металлы'])\n",
        "#assert model.predict(['газ']) == '06'\n",
        "#assert model.predict(['скоростной поезд']) =='30'"
      ],
      "execution_count": null,
      "outputs": []
    },
    {
      "cell_type": "code",
      "metadata": {
        "id": "PSpVolvSqJab"
      },
      "source": [
        "import pickle\n",
        "\n",
        "filename = '/content/drive/MyDrive/OKPD2/okpd2_sklearn_wo_bert_l1.pkl'\n",
        "pickle.dump(model, open(filename, 'wb'))\n",
        "\n",
        "#loaded_model = pickle.load(open(filename, 'rb'))"
      ],
      "execution_count": null,
      "outputs": []
    },
    {
      "cell_type": "code",
      "metadata": {
        "id": "DWW3WxmgtHL8"
      },
      "source": [
        ""
      ],
      "execution_count": null,
      "outputs": []
    },
    {
      "cell_type": "markdown",
      "metadata": {
        "id": "CzeYI1dtpwUb"
      },
      "source": [
        "## Классы ТН ВЭД ЕАЭС (не сходится)"
      ]
    },
    {
      "cell_type": "code",
      "metadata": {
        "id": "JPJHRQ_x3-Y4"
      },
      "source": [
        "new_class = {\n",
        "    'Черные металлы':'24.1',\n",
        "    'Цветные металлы':'24.4',\n",
        "#    'Драгоценные металлы': '24.41',\n",
        "    'Пшеница': '1.11',\n",
        "    'Машины и оборудование, электроэнергия':'27',\n",
        "    'Удобрения': '20.1',\n",
        "    'Рыба и морепродукты': '10.2',\n",
        "    'Целлюлоза и бумажные изделия': '17.1',\n",
        "    'Растительные масла и жиры': '10.4',\n",
        "    'Автомобили и их части': '29.1',\n",
        "    'Прочие продукты питания': '10.8',\n",
        "    'Самолеты и их части': '30.3',\n",
        "    'Прочие зерновые': '01.11.49',\n",
        "    'Масличные семена': '01.11.9',\n",
        "     'Изделия из металлов': '25',\n",
        "     'Химические продукты':'20',\n",
        "    'Пластмассы и резина': '22',\n",
        "     'Электронное оборудование': '26',\n",
        "      'Инструменты и аппараты оптические, часы и медицинские инструменты': '20.1',\n",
        "      'Инструменты и аппараты оптические, часы и медицинские инструменты': '20.1',\n",
        "      'Инструменты и аппараты оптические, часы и медицинские инструменты': '20.1',\n",
        " \n",
        "#    'Инструменты и аппараты оптические, часы и медицинские инструменты': '20.1',\n",
        "#    'Растительные остатки и корм для животных': '20.1',\n",
        "#    'Фармацевтическая продукция': '20.1',\n",
        "#    'Косметика и парфюмерия': '20.1',\n",
        "#    'Разные промышленные товары': '20.1',\n",
        " \n",
        "#    'Удобрения': '20.1',\n",
        "}"
      ],
      "execution_count": null,
      "outputs": []
    },
    {
      "cell_type": "code",
      "metadata": {
        "id": "WlyvZA4U_GTL"
      },
      "source": [
        "aa = set(['30.11.21', '30.11.21', '30.11.22', '30.11.22', '30.11.23', '30.11.23', '30.11.24', '30.11.24', '30.11.31', '30.11.31', '30.12.12', '30.12.12', '30.12.11', '30.12.11', '30.12.19', '30.12.19', '30.12.19', '30.12.19', '30.12.19', '30.12.19', '30.11.32', '30.11.32', '30.11.32', '30.11.33', '30.11.33', '30.11.40', '30.11.33', '30.11.33', '30.11.10', '30.11.33', '30.11.33', '30.11.33', '30.11.50', '30.11.50', '38.11.41'])"
      ],
      "execution_count": null,
      "outputs": []
    },
    {
      "cell_type": "code",
      "metadata": {
        "colab": {
          "base_uri": "https://localhost:8080/"
        },
        "id": "kZuai2Uf_YTZ",
        "outputId": "d0415bc8-16f8-42ba-9b30-48395e28c8db"
      },
      "source": [
        "print(set(['.'.join(a.split('.')[0:2]) for a in aa]))"
      ],
      "execution_count": null,
      "outputs": [
        {
          "output_type": "stream",
          "text": [
            "{'30.12', '30.11', '38.11'}\n"
          ],
          "name": "stdout"
        }
      ]
    },
    {
      "cell_type": "code",
      "metadata": {
        "id": "0KfGgBQggU4D"
      },
      "source": [
        "new_class = {\n",
        "    'Черные металлы':['07.1', '08', '09', '24.1', '38.1', '24.3'],\n",
        "    #'Черные металлы':['07.1', '24.10',\n",
        "    #                  '38.11','24.32','24.31',\n",
        "    #                  '24.34','24.33'],\n",
        "    'Цветные металлы':['07.2','24.4'],\n",
        "#    'Драгоценные металлы': '24.41',\n",
        "    'Пшеница': ['01.11.1'],\n",
        "    'Машины и оборудование, электроэнергия':['27.32', '30.30', '28.14', '28.21', '28.41', '28.93', '28.30', '27.12', '28.11', '26.12', '27.90', '23.43', '27.31', '28.94', '25.73', '38.12', '27.11', '28.13', '25.21', '26.20', '27.40', '28.22', '27.52', '27.20', '59.11', '29.10', '28.92', '26.40', '28.95', '59.20', '28.24', '58.29', '28.96', '26.80', '28.23', '29.31', '27.51', '28.99', '20.13', '26.11', '28.25', '26.51', '27.33', '28.49', '23.44', '25.30', '25.99', '26.70', '28.91', '32.50', '25.11', '18.13', '23.19', '28.15', '28.29', '28.12', '26.30'],\n",
        "    'Удобрения': ['20.15'],\n",
        "    'Рыба и морепродукты': ['10.20', '03.22', '01.49', '03.12', '03.11'],\n",
        "    'Целлюлоза и бумажные изделия': ['71.11', '58.13', '17.21', '32.99', '17.22', '17.23', '59.20', '17.24', '58.14', '17.11', '58.19', '38.11', '17.29', '58.11', '17.12'],\n",
        "    'Растительные масла и жиры': ['10.41', '10.12', '20.41', '01.49', '13.10', '20.59', '10.62', '01.11', '10.42'],\n",
        "    'Автомобили и их части': ['28.92', '29.20', '29.10', '29.32'],\n",
        "    'Прочие продукты питания': ['10.8'],\n",
        "    'Самолеты и их части': ['28.99', '13.92', '30.30'],\n",
        "    'Прочие зерновые': ['01.11.49','10.61'],\n",
        "    'Масличные семена': ['01.11','01.16'],\n",
        "     'Изделия из металлов': ['25'],\n",
        "     'Химические продукты':['74.20', '20.20', '23.64', '59.11', '23.63', '20.16', '38.21', '23.20', '20.30', '21.20', '38.11', '37.00', '38.12', '23.99', '20.59', '20.14'],\n",
        "    'Пластмассы и резина': ['01.29', '22.19', '20.16', '02.30', '20.17', '22.21', '22.23', '22.29', '38.11', '22.11', '22.22', '27.33'],\n",
        "     'Электронное оборудование': {'28.49', '28.94', '28.92', '28.95', '28.24', '26.20', '28.91', '28.41', '18.13', '28.30', '28.93', '28.96', '28.23', '28.99', '28.29', '27.51', '26'},\n",
        "      'Инструменты и аппараты оптические, часы и медицинские инструменты': ['15.12', '32.20', '32.99', '26.70', '32.13', '27.31', '26.60', '32.50', '32.12', '28.99', '28.29', '26.51', '26.52'],\n",
        "      'Фармацевтическая продукция': ['21.10', '21.20', '32.50', '22.29', '38.12', '20.14'],\n",
        "      'Косметика и парфюмерия': ['20.53', '20.42', '20.41'],\n",
        "     'Растительные остатки и корм для животных': ['10.91', '10.92', '10.39'],\n",
        "     'Разные промышленные товары': ['31.03', '15.12', '30.30', '32.99', '31.02', '32.30', '29.32', '31.01', '17.22', '16.29', '31.09', '27.40', '16.23', '13.99', '26.40', '23.61', '28.99', '13.92', '25.99', '32.50', '25.11', '32.40', '22.29', '23.19', '32.91'],\n",
        "    'Железнодорожная техника и ее части':['29.20', '30.20'],\n",
        "    'Какао-бобы и продукты из них':['10.82', '01.27'],\n",
        "    'Изделия из стекла':['13.20', '23.14', '38.11', '23.19', '23.11', '23.12', '23.13'],\n",
        "    'Минеральные продукты':['35.21', '05.10', '07.29', '08.11', '08.91', '07.10', '08.99', '08.12', '23.52', '19.30', '19.20', '19.10', '06.20', '38.11', '20.13', '23.99', '38.12', '08.93', '20.14', '08.92', '05.20', '10.84', '38.21', '06.10', '23.51', '07.21'],\n",
        "    'Изделия из дерева': ['32.99', '02.30', '16.24', '16.10', '16.29', '16.22', '16.21', '38.11', '02.20', '16.23', '20.14'],\n",
        "    'Ювелирные изделия и изделия из драгоценных металлов': ['32.12', '32.11', '32.13', '24.41'],\n",
        "    'Сахар' : ['10.51', '10.82', '10.89', '10.62', '10.81'],\n",
        " #   'Табак и изделия из него'\n",
        "    'Одежда': ['22.19', '14.12', '32.99', '14.39', '14.14', '14.31', '13.94', '22.29', '32.30', '15.20', '14.19', '27.51', '14.13', '13.92'],\n",
        "    'Мясо (кроме мяса домашней птицы)': ['10.13', '10.11'],\n",
        "    'Мясо домашней птицы': ['10.12'],\n",
        "    'Алкогольные напитки': ['11.04', '11.02', '11.03', '11.01', '11.05', '20.14'],\n",
        "    'Суда, плавучие конструкции и их части': ['30.12', '30.11', '38.11'],\n",
        "#    'Бобовые': []\n",
        "#    'Продукция мукомольно-крупяной промышленности'\n",
        "#    'Синтетические волокна и ткани'\n",
        "#    'Керамические изделия'\n",
        "    'Безалкогольные напитки': ['11.07'],\n",
        "#    'Молочные продукты'\n",
        " #   'Обувь'\n",
        " #   'Обработанное мясо'\n",
        " #   'Овощи'\n",
        " #   'Прочие текстильные изделия'\n",
        " #   'Кожа и изделия из нее'\n",
        " #   'Чай'\n",
        " #   'Прочие продукты животного происхождения (съедобные)'\n",
        " #   'Продукты из рыбы'\n",
        " #   'Хлопок, хлопчатобумажная пряжа, ткани, трикотажные полотна'\n",
        " #   'Фрукты'\n",
        " #   'Рис'\n",
        " #   'Продукты животного происхождения (несъедобные)'\n",
        " #   'Кофе'\n",
        "#    'Инструменты и аппараты оптические, часы и медицинские инструменты': '20.1',\n",
        "#    'Фармацевтическая продукция': '20.1',\n",
        "#    'Косметика и парфюмерия': '20.1',\n",
        "#    'Разные промышленные товары': '20.1',\n",
        " \n",
        "#    'Удобрения': '20.1',\n",
        "}"
      ],
      "execution_count": null,
      "outputs": []
    },
    {
      "cell_type": "code",
      "metadata": {
        "colab": {
          "base_uri": "https://localhost:8080/"
        },
        "id": "XCcb6BBIAhv5",
        "outputId": "5c7fbfae-aad5-4025-f66b-b527ee29aea9"
      },
      "source": [
        "new_class.values()"
      ],
      "execution_count": null,
      "outputs": [
        {
          "output_type": "execute_result",
          "data": {
            "text/plain": [
              "dict_values([['07.1', '08', '09', '24.1', '38.1', '24.3'], ['07.2', '24.4'], ['01.11.1'], ['27.32', '30.30', '28.14', '28.21', '28.41', '28.93', '28.30', '27.12', '28.11', '26.12', '27.90', '23.43', '27.31', '28.94', '25.73', '38.12', '27.11', '28.13', '25.21', '26.20', '27.40', '28.22', '27.52', '27.20', '59.11', '29.10', '28.92', '26.40', '28.95', '59.20', '28.24', '58.29', '28.96', '26.80', '28.23', '29.31', '27.51', '28.99', '20.13', '26.11', '28.25', '26.51', '27.33', '28.49', '23.44', '25.30', '25.99', '26.70', '28.91', '32.50', '25.11', '18.13', '23.19', '28.15', '28.29', '28.12', '26.30'], ['20.15'], ['10.20', '03.22', '01.49', '03.12', '03.11'], ['71.11', '58.13', '17.21', '32.99', '17.22', '17.23', '59.20', '17.24', '58.14', '17.11', '58.19', '38.11', '17.29', '58.11', '17.12'], ['10.41', '10.12', '20.41', '01.49', '13.10', '20.59', '10.62', '01.11', '10.42'], ['28.92', '29.20', '29.10', '29.32'], ['10.8'], ['28.99', '13.92', '30.30'], ['01.11.49', '10.61'], ['01.11', '01.16'], ['25'], ['74.20', '20.20', '23.64', '59.11', '23.63', '20.16', '38.21', '23.20', '20.30', '21.20', '38.11', '37.00', '38.12', '23.99', '20.59', '20.14'], ['01.29', '22.19', '20.16', '02.30', '20.17', '22.21', '22.23', '22.29', '38.11', '22.11', '22.22', '27.33'], {'28.49', '28.94', '26', '28.92', '28.95', '28.24', '26.20', '28.91', '28.41', '18.13', '28.30', '28.93', '28.96', '28.23', '28.99', '28.29', '27.51'}, ['15.12', '32.20', '32.99', '26.70', '32.13', '27.31', '26.60', '32.50', '32.12', '28.99', '28.29', '26.51', '26.52'], ['21.10', '21.20', '32.50', '22.29', '38.12', '20.14'], ['20.53', '20.42', '20.41'], ['10.91', '10.92', '10.39'], ['31.03', '15.12', '30.30', '32.99', '31.02', '32.30', '29.32', '31.01', '17.22', '16.29', '31.09', '27.40', '16.23', '13.99', '26.40', '23.61', '28.99', '13.92', '25.99', '32.50', '25.11', '32.40', '22.29', '23.19', '32.91'], ['29.20', '30.20'], ['10.82', '01.27'], ['13.20', '23.14', '38.11', '23.19', '23.11', '23.12', '23.13'], ['35.21', '05.10', '07.29', '08.11', '08.91', '07.10', '08.99', '08.12', '23.52', '19.30', '19.20', '19.10', '06.20', '38.11', '20.13', '23.99', '38.12', '08.93', '20.14', '08.92', '05.20', '10.84', '38.21', '06.10', '23.51', '07.21'], ['32.99', '02.30', '16.24', '16.10', '16.29', '16.22', '16.21', '38.11', '02.20', '16.23', '20.14'], ['32.12', '32.11', '32.13', '24.41'], ['10.51', '10.82', '10.89', '10.62', '10.81'], ['22.19', '14.12', '32.99', '14.39', '14.14', '14.31', '13.94', '22.29', '32.30', '15.20', '14.19', '27.51', '14.13', '13.92'], ['10.13', '10.11'], ['10.12'], ['11.04', '11.02', '11.03', '11.01', '11.05', '20.14'], ['30.12', '30.11', '38.11'], ['11.07']])"
            ]
          },
          "metadata": {
            "tags": []
          },
          "execution_count": 172
        }
      ]
    },
    {
      "cell_type": "code",
      "metadata": {
        "colab": {
          "base_uri": "https://localhost:8080/",
          "height": 418
        },
        "id": "yDxG5-RGA2LR",
        "outputId": "bb31a6ed-6093-46a3-d25e-c7025d0bce1e"
      },
      "source": [
        "#t = [[0,1],[2,3]]\n",
        "#[df_2[df_2.okpd.str.startswith(item)] for sublist, j in new_class.items() for item in sublist]\n",
        "pd.concat( [df_2[df_2.okpd.str.startswith(item)].apply(lambda a: foo(a,j), axis=1) for j,sublist in new_class.items() for item in sublist])"
      ],
      "execution_count": null,
      "outputs": [
        {
          "output_type": "execute_result",
          "data": {
            "text/html": [
              "<div>\n",
              "<style scoped>\n",
              "    .dataframe tbody tr th:only-of-type {\n",
              "        vertical-align: middle;\n",
              "    }\n",
              "\n",
              "    .dataframe tbody tr th {\n",
              "        vertical-align: top;\n",
              "    }\n",
              "\n",
              "    .dataframe thead th {\n",
              "        text-align: right;\n",
              "    }\n",
              "</style>\n",
              "<table border=\"1\" class=\"dataframe\">\n",
              "  <thead>\n",
              "    <tr style=\"text-align: right;\">\n",
              "      <th></th>\n",
              "      <th>okpd</th>\n",
              "      <th>text</th>\n",
              "      <th>l1</th>\n",
              "      <th>l2</th>\n",
              "    </tr>\n",
              "  </thead>\n",
              "  <tbody>\n",
              "    <tr>\n",
              "      <th>1809</th>\n",
              "      <td>Черные металлы</td>\n",
              "      <td>Руды железные</td>\n",
              "      <td>07</td>\n",
              "      <td>07.1</td>\n",
              "    </tr>\n",
              "    <tr>\n",
              "      <th>1810</th>\n",
              "      <td>Черные металлы</td>\n",
              "      <td>Руды железные</td>\n",
              "      <td>07</td>\n",
              "      <td>07.10</td>\n",
              "    </tr>\n",
              "    <tr>\n",
              "      <th>1811</th>\n",
              "      <td>Черные металлы</td>\n",
              "      <td>Руды железные</td>\n",
              "      <td>07</td>\n",
              "      <td>07.10</td>\n",
              "    </tr>\n",
              "    <tr>\n",
              "      <th>1812</th>\n",
              "      <td>Черные металлы</td>\n",
              "      <td>Руды железные</td>\n",
              "      <td>07</td>\n",
              "      <td>07.10</td>\n",
              "    </tr>\n",
              "    <tr>\n",
              "      <th>1813</th>\n",
              "      <td>Черные металлы</td>\n",
              "      <td>Руда железная сырая</td>\n",
              "      <td>07</td>\n",
              "      <td>07.10</td>\n",
              "    </tr>\n",
              "    <tr>\n",
              "      <th>...</th>\n",
              "      <td>...</td>\n",
              "      <td>...</td>\n",
              "      <td>...</td>\n",
              "      <td>...</td>\n",
              "    </tr>\n",
              "    <tr>\n",
              "      <th>3789</th>\n",
              "      <td>Безалкогольные напитки</td>\n",
              "      <td>Концентраты напитков</td>\n",
              "      <td>11</td>\n",
              "      <td>11.07</td>\n",
              "    </tr>\n",
              "    <tr>\n",
              "      <th>3790</th>\n",
              "      <td>Безалкогольные напитки</td>\n",
              "      <td>Напитки безалкогольные прочие, не включенные в...</td>\n",
              "      <td>11</td>\n",
              "      <td>11.07</td>\n",
              "    </tr>\n",
              "    <tr>\n",
              "      <th>3791</th>\n",
              "      <td>Безалкогольные напитки</td>\n",
              "      <td>Услуги по производству минеральных вод и безал...</td>\n",
              "      <td>11</td>\n",
              "      <td>11.07</td>\n",
              "    </tr>\n",
              "    <tr>\n",
              "      <th>3792</th>\n",
              "      <td>Безалкогольные напитки</td>\n",
              "      <td>Услуги по производству минеральных вод и безал...</td>\n",
              "      <td>11</td>\n",
              "      <td>11.07</td>\n",
              "    </tr>\n",
              "    <tr>\n",
              "      <th>3793</th>\n",
              "      <td>Безалкогольные напитки</td>\n",
              "      <td>Услуги по производству минеральных вод и безал...</td>\n",
              "      <td>11</td>\n",
              "      <td>11.07</td>\n",
              "    </tr>\n",
              "  </tbody>\n",
              "</table>\n",
              "<p>19907 rows × 4 columns</p>\n",
              "</div>"
            ],
            "text/plain": [
              "                        okpd  ...     l2\n",
              "1809          Черные металлы  ...   07.1\n",
              "1810          Черные металлы  ...  07.10\n",
              "1811          Черные металлы  ...  07.10\n",
              "1812          Черные металлы  ...  07.10\n",
              "1813          Черные металлы  ...  07.10\n",
              "...                      ...  ...    ...\n",
              "3789  Безалкогольные напитки  ...  11.07\n",
              "3790  Безалкогольные напитки  ...  11.07\n",
              "3791  Безалкогольные напитки  ...  11.07\n",
              "3792  Безалкогольные напитки  ...  11.07\n",
              "3793  Безалкогольные напитки  ...  11.07\n",
              "\n",
              "[19907 rows x 4 columns]"
            ]
          },
          "metadata": {
            "tags": []
          },
          "execution_count": 177
        }
      ]
    },
    {
      "cell_type": "code",
      "metadata": {
        "colab": {
          "base_uri": "https://localhost:8080/",
          "height": 418
        },
        "id": "KqjfTE0RAZ1g",
        "outputId": "327a1e15-7c33-46b1-ba06-b0257dd71901"
      },
      "source": [
        "pd.concat([df_2[df_2.okpd.str.startswith(i)] for i in new_class.values()])"
      ],
      "execution_count": null,
      "outputs": [
        {
          "output_type": "execute_result",
          "data": {
            "text/html": [
              "<div>\n",
              "<style scoped>\n",
              "    .dataframe tbody tr th:only-of-type {\n",
              "        vertical-align: middle;\n",
              "    }\n",
              "\n",
              "    .dataframe tbody tr th {\n",
              "        vertical-align: top;\n",
              "    }\n",
              "\n",
              "    .dataframe thead th {\n",
              "        text-align: right;\n",
              "    }\n",
              "</style>\n",
              "<table border=\"1\" class=\"dataframe\">\n",
              "  <thead>\n",
              "    <tr style=\"text-align: right;\">\n",
              "      <th></th>\n",
              "      <th>okpd</th>\n",
              "      <th>text</th>\n",
              "      <th>l1</th>\n",
              "      <th>l2</th>\n",
              "    </tr>\n",
              "  </thead>\n",
              "  <tbody>\n",
              "    <tr>\n",
              "      <th>8202</th>\n",
              "      <td>24.1</td>\n",
              "      <td>Железо, чугун, сталь и ферросплавы</td>\n",
              "      <td>24</td>\n",
              "      <td>24.1</td>\n",
              "    </tr>\n",
              "    <tr>\n",
              "      <th>8203</th>\n",
              "      <td>24.10</td>\n",
              "      <td>Железо, чугун, сталь и ферросплавы</td>\n",
              "      <td>24</td>\n",
              "      <td>24.10</td>\n",
              "    </tr>\n",
              "    <tr>\n",
              "      <th>8204</th>\n",
              "      <td>24.10.1</td>\n",
              "      <td>Продукты из железа и стали основные</td>\n",
              "      <td>24</td>\n",
              "      <td>24.10</td>\n",
              "    </tr>\n",
              "    <tr>\n",
              "      <th>8205</th>\n",
              "      <td>24.10.11</td>\n",
              "      <td>Чугун зеркальный и передельный в чушках, болва...</td>\n",
              "      <td>24</td>\n",
              "      <td>24.10</td>\n",
              "    </tr>\n",
              "    <tr>\n",
              "      <th>8206</th>\n",
              "      <td>24.10.11.110</td>\n",
              "      <td>Чугун зеркальный в чушках, болванках или в про...</td>\n",
              "      <td>24</td>\n",
              "      <td>24.10</td>\n",
              "    </tr>\n",
              "    <tr>\n",
              "      <th>...</th>\n",
              "      <td>...</td>\n",
              "      <td>...</td>\n",
              "      <td>...</td>\n",
              "      <td>...</td>\n",
              "    </tr>\n",
              "    <tr>\n",
              "      <th>11940</th>\n",
              "      <td>29.32.91.000</td>\n",
              "      <td>Услуги по сборке полных комплектов для автотра...</td>\n",
              "      <td>29</td>\n",
              "      <td>29.32</td>\n",
              "    </tr>\n",
              "    <tr>\n",
              "      <th>11941</th>\n",
              "      <td>29.32.92</td>\n",
              "      <td>Услуги по сборке частей и принадлежностей для ...</td>\n",
              "      <td>29</td>\n",
              "      <td>29.32</td>\n",
              "    </tr>\n",
              "    <tr>\n",
              "      <th>11942</th>\n",
              "      <td>29.32.92.000</td>\n",
              "      <td>Услуги по сборке частей и принадлежностей для ...</td>\n",
              "      <td>29</td>\n",
              "      <td>29.32</td>\n",
              "    </tr>\n",
              "    <tr>\n",
              "      <th>11943</th>\n",
              "      <td>29.32.99</td>\n",
              "      <td>Операции процесса производства прочих частей и...</td>\n",
              "      <td>29</td>\n",
              "      <td>29.32</td>\n",
              "    </tr>\n",
              "    <tr>\n",
              "      <th>11944</th>\n",
              "      <td>29.32.99.000</td>\n",
              "      <td>Операции процесса производства прочих частей и...</td>\n",
              "      <td>29</td>\n",
              "      <td>29.32</td>\n",
              "    </tr>\n",
              "  </tbody>\n",
              "</table>\n",
              "<p>11272 rows × 4 columns</p>\n",
              "</div>"
            ],
            "text/plain": [
              "               okpd  ...     l2\n",
              "8202           24.1  ...   24.1\n",
              "8203          24.10  ...  24.10\n",
              "8204        24.10.1  ...  24.10\n",
              "8205       24.10.11  ...  24.10\n",
              "8206   24.10.11.110  ...  24.10\n",
              "...             ...  ...    ...\n",
              "11940  29.32.91.000  ...  29.32\n",
              "11941      29.32.92  ...  29.32\n",
              "11942  29.32.92.000  ...  29.32\n",
              "11943      29.32.99  ...  29.32\n",
              "11944  29.32.99.000  ...  29.32\n",
              "\n",
              "[11272 rows x 4 columns]"
            ]
          },
          "metadata": {
            "tags": []
          },
          "execution_count": 35
        }
      ]
    },
    {
      "cell_type": "code",
      "metadata": {
        "colab": {
          "base_uri": "https://localhost:8080/"
        },
        "id": "J-ss4bRfCdhU",
        "outputId": "4e4ec3d5-4f90-4a42-fece-b0be2bd10219"
      },
      "source": [
        "def foo(tt,bb):\n",
        "    tt.okpd = bb\n",
        "    return tt\n",
        "\n",
        "#df_3 = pd.concat([df_2[df_2.okpd.str.startswith(i)].apply(lambda a: foo(a,j), axis=1) for j,i in new_class.items()])\n",
        "df_3 = pd.concat( [df_2[df_2.okpd.str.startswith(item)].apply(lambda a: foo(a,j), axis=1) for j,sublist in new_class.items() for item in sublist])\n",
        "#df_3.head()\n",
        "#оставим только по 500\n",
        "df_3 = pd.concat([df_3[df_3.okpd.str.startswith(i)].head(1000) for i in df_3.okpd.unique()])\n",
        "df_3.okpd.value_counts()"
      ],
      "execution_count": null,
      "outputs": [
        {
          "output_type": "execute_result",
          "data": {
            "text/plain": [
              "Разные промышленные товары                                           1000\n",
              "Одежда                                                               1000\n",
              "Электронное оборудование                                             1000\n",
              "Машины и оборудование, электроэнергия                                1000\n",
              "Минеральные продукты                                                 1000\n",
              "Химические продукты                                                  1000\n",
              "Растительные масла и жиры                                             928\n",
              "Изделия из дерева                                                     921\n",
              "Инструменты и аппараты оптические, часы и медицинские инструменты     900\n",
              "Фармацевтическая продукция                                            716\n",
              "Рыба и морепродукты                                                   636\n",
              "Черные металлы                                                        630\n",
              "Изделия из металлов                                                   601\n",
              "Целлюлоза и бумажные изделия                                          588\n",
              "Алкогольные напитки                                                   460\n",
              "Сахар                                                                 446\n",
              "Пластмассы и резина                                                   437\n",
              "Цветные металлы                                                       421\n",
              "Прочие продукты питания                                               339\n",
              "Изделия из стекла                                                     329\n",
              "Самолеты и их части                                                   296\n",
              "Автомобили и их части                                                 291\n",
              "Мясо (кроме мяса домашней птицы)                                      224\n",
              "Масличные семена                                                      201\n",
              "Суда, плавучие конструкции и их части                                 157\n",
              "Железнодорожная техника и ее части                                    147\n",
              "Косметика и парфюмерия                                                123\n",
              "Какао-бобы и продукты из них                                          120\n",
              "Ювелирные изделия и изделия из драгоценных металлов                   117\n",
              "Растительные остатки и корм для животных                              106\n",
              "Прочие зерновые                                                        91\n",
              "Удобрения                                                              64\n",
              "Мясо домашней птицы                                                    44\n",
              "Пшеница                                                                21\n",
              "Безалкогольные напитки                                                 19\n",
              "Name: okpd, dtype: int64"
            ]
          },
          "metadata": {
            "tags": []
          },
          "execution_count": 187
        }
      ]
    },
    {
      "cell_type": "code",
      "metadata": {
        "colab": {
          "base_uri": "https://localhost:8080/",
          "height": 418
        },
        "id": "9KvgLxzD8nVl",
        "outputId": "baf5719e-d701-4903-d187-86b0f837ed97"
      },
      "source": [
        "def foo(a,b):\n",
        "    a.okpd = b\n",
        "    return a\n",
        "\n",
        "df_2[df_2.okpd.str.startswith('24.1')].apply(lambda a: foo(a,'ABC'), axis=1)"
      ],
      "execution_count": null,
      "outputs": [
        {
          "output_type": "execute_result",
          "data": {
            "text/html": [
              "<div>\n",
              "<style scoped>\n",
              "    .dataframe tbody tr th:only-of-type {\n",
              "        vertical-align: middle;\n",
              "    }\n",
              "\n",
              "    .dataframe tbody tr th {\n",
              "        vertical-align: top;\n",
              "    }\n",
              "\n",
              "    .dataframe thead th {\n",
              "        text-align: right;\n",
              "    }\n",
              "</style>\n",
              "<table border=\"1\" class=\"dataframe\">\n",
              "  <thead>\n",
              "    <tr style=\"text-align: right;\">\n",
              "      <th></th>\n",
              "      <th>okpd</th>\n",
              "      <th>text</th>\n",
              "      <th>l1</th>\n",
              "      <th>l2</th>\n",
              "    </tr>\n",
              "  </thead>\n",
              "  <tbody>\n",
              "    <tr>\n",
              "      <th>8202</th>\n",
              "      <td>ABC</td>\n",
              "      <td>Железо, чугун, сталь и ферросплавы</td>\n",
              "      <td>24</td>\n",
              "      <td>24.1</td>\n",
              "    </tr>\n",
              "    <tr>\n",
              "      <th>8203</th>\n",
              "      <td>ABC</td>\n",
              "      <td>Железо, чугун, сталь и ферросплавы</td>\n",
              "      <td>24</td>\n",
              "      <td>24.10</td>\n",
              "    </tr>\n",
              "    <tr>\n",
              "      <th>8204</th>\n",
              "      <td>ABC</td>\n",
              "      <td>Продукты из железа и стали основные</td>\n",
              "      <td>24</td>\n",
              "      <td>24.10</td>\n",
              "    </tr>\n",
              "    <tr>\n",
              "      <th>8205</th>\n",
              "      <td>ABC</td>\n",
              "      <td>Чугун зеркальный и передельный в чушках, болва...</td>\n",
              "      <td>24</td>\n",
              "      <td>24.10</td>\n",
              "    </tr>\n",
              "    <tr>\n",
              "      <th>8206</th>\n",
              "      <td>ABC</td>\n",
              "      <td>Чугун зеркальный в чушках, болванках или в про...</td>\n",
              "      <td>24</td>\n",
              "      <td>24.10</td>\n",
              "    </tr>\n",
              "    <tr>\n",
              "      <th>...</th>\n",
              "      <td>...</td>\n",
              "      <td>...</td>\n",
              "      <td>...</td>\n",
              "      <td>...</td>\n",
              "    </tr>\n",
              "    <tr>\n",
              "      <th>8422</th>\n",
              "      <td>ABC</td>\n",
              "      <td>Колеса цельнокатаные</td>\n",
              "      <td>24</td>\n",
              "      <td>24.10</td>\n",
              "    </tr>\n",
              "    <tr>\n",
              "      <th>8423</th>\n",
              "      <td>ABC</td>\n",
              "      <td>Прокат черных металлов прочий, не включенный в...</td>\n",
              "      <td>24</td>\n",
              "      <td>24.10</td>\n",
              "    </tr>\n",
              "    <tr>\n",
              "      <th>8424</th>\n",
              "      <td>ABC</td>\n",
              "      <td>Услуги по производству железа, чугуна, стали и...</td>\n",
              "      <td>24</td>\n",
              "      <td>24.10</td>\n",
              "    </tr>\n",
              "    <tr>\n",
              "      <th>8425</th>\n",
              "      <td>ABC</td>\n",
              "      <td>Услуги по производству железа, чугуна, стали и...</td>\n",
              "      <td>24</td>\n",
              "      <td>24.10</td>\n",
              "    </tr>\n",
              "    <tr>\n",
              "      <th>8426</th>\n",
              "      <td>ABC</td>\n",
              "      <td>Услуги по производству железа, чугуна, стали и...</td>\n",
              "      <td>24</td>\n",
              "      <td>24.10</td>\n",
              "    </tr>\n",
              "  </tbody>\n",
              "</table>\n",
              "<p>225 rows × 4 columns</p>\n",
              "</div>"
            ],
            "text/plain": [
              "     okpd                                               text  l1     l2\n",
              "8202  ABC                 Железо, чугун, сталь и ферросплавы  24   24.1\n",
              "8203  ABC                 Железо, чугун, сталь и ферросплавы  24  24.10\n",
              "8204  ABC                Продукты из железа и стали основные  24  24.10\n",
              "8205  ABC  Чугун зеркальный и передельный в чушках, болва...  24  24.10\n",
              "8206  ABC  Чугун зеркальный в чушках, болванках или в про...  24  24.10\n",
              "...   ...                                                ...  ..    ...\n",
              "8422  ABC                               Колеса цельнокатаные  24  24.10\n",
              "8423  ABC  Прокат черных металлов прочий, не включенный в...  24  24.10\n",
              "8424  ABC  Услуги по производству железа, чугуна, стали и...  24  24.10\n",
              "8425  ABC  Услуги по производству железа, чугуна, стали и...  24  24.10\n",
              "8426  ABC  Услуги по производству железа, чугуна, стали и...  24  24.10\n",
              "\n",
              "[225 rows x 4 columns]"
            ]
          },
          "metadata": {
            "tags": []
          },
          "execution_count": 43
        }
      ]
    },
    {
      "cell_type": "code",
      "metadata": {
        "id": "IV33h6JHAETl"
      },
      "source": [
        "corpus = df_3['text'].values\n",
        "tokenizer = BertTokenizer.from_pretrained(\"cointegrated/rubert-tiny\", lower_case=False)\n",
        "\n",
        "X = df_3['text'].values\n",
        "y = df_3['okpd'].to_numpy()\n",
        "X_train, X_valid, y_train, y_valid = train_test_split(X, y, test_size=0.2,\n",
        "                               random_state=1337, stratify=y)"
      ],
      "execution_count": null,
      "outputs": []
    },
    {
      "cell_type": "code",
      "metadata": {
        "colab": {
          "base_uri": "https://localhost:8080/"
        },
        "id": "hfR7DdE18rHC",
        "outputId": "ea1df82f-b3c6-40d3-9989-9665a61830ba"
      },
      "source": [
        "from transformers import AutoTokenizer, AutoModel\n",
        "from sklearn.pipeline import FeatureUnion\n",
        "import torch\n",
        "from sklearn.neighbors import KNeighborsClassifier\n",
        "\n",
        "from sklearn.feature_extraction.text import (\n",
        "   CountVectorizer, TfidfTransformer\n",
        ")\n",
        "\n",
        "tokenizer = AutoTokenizer.from_pretrained(\"cointegrated/rubert-tiny\", lower_case=False)#.from_pretrained(\"sberbank-ai/sbert_large_nlu_ru\")\n",
        "model = AutoModel.from_pretrained(\"cointegrated/rubert-tiny\")\n",
        "\n",
        "bert_transformer = BertTransformer(tokenizer, model)\n",
        "classifier = LinearSVC(C=1.0, \n",
        "                     class_weight='balanced',                             \n",
        "                     random_state=1337,\n",
        "                     max_iter=5000\n",
        "                     )\n",
        "\n",
        "tfidf_ = TfidfVectorizer(\n",
        "                            tokenizer=tokenizer.tokenize, \n",
        "                            ngram_range=(1,6), \n",
        "                            lowercase=True,\n",
        "                            #stop_words=stopwords,\n",
        "                            max_features = None,\n",
        "                            analyzer='word',\n",
        "                            max_df=0.95,\n",
        "                            min_df=0.001\n",
        "                            )\n",
        "\n",
        "tf_idf = Pipeline([\n",
        "    (\"vect\", CountVectorizer()),\n",
        "    (\"tfidf\", TfidfTransformer())\n",
        "    ])\n",
        "\n",
        "model = Pipeline([\n",
        "    (\"union\", FeatureUnion(transformer_list=[\n",
        " #       (\"bert\", bert_transformer),\n",
        "        (\"tf_idf\", tf_idf),\n",
        "#        (\"tf_idf\", tfidf_)\n",
        "        ])),\n",
        "        (\"classifier\", classifier),\n",
        "    ])\n",
        "\n",
        "model.fit(X_train, y_train)\n",
        "y_pred = model.predict(X_valid)"
      ],
      "execution_count": null,
      "outputs": [
        {
          "output_type": "stream",
          "text": [
            "Some weights of the model checkpoint at cointegrated/rubert-tiny were not used when initializing BertModel: ['cls.predictions.transform.dense.weight', 'cls.predictions.transform.dense.bias', 'cls.predictions.transform.LayerNorm.weight', 'cls.predictions.transform.LayerNorm.bias', 'cls.predictions.decoder.bias', 'cls.seq_relationship.bias', 'cls.predictions.decoder.weight', 'cls.seq_relationship.weight', 'cls.predictions.bias']\n",
            "- This IS expected if you are initializing BertModel from the checkpoint of a model trained on another task or with another architecture (e.g. initializing a BertForSequenceClassification model from a BertForPreTraining model).\n",
            "- This IS NOT expected if you are initializing BertModel from the checkpoint of a model that you expect to be exactly identical (initializing a BertForSequenceClassification model from a BertForSequenceClassification model).\n"
          ],
          "name": "stderr"
        }
      ]
    },
    {
      "cell_type": "code",
      "metadata": {
        "colab": {
          "base_uri": "https://localhost:8080/"
        },
        "id": "Sr9QCxJYMb59",
        "outputId": "8769b1f2-acd1-4630-eebb-af93cdc9d591"
      },
      "source": [
        "print(f1_score(y_valid, y_pred, average='weighted'))\n",
        "print(f1_score(y_valid, y_pred, average='micro'))\n",
        "print(f1_score(y_valid, y_pred, average='macro'))\n",
        "balanced_accuracy_score(y_valid, y_pred)\n",
        "#0.7796329531844257"
      ],
      "execution_count": null,
      "outputs": [
        {
          "output_type": "stream",
          "text": [
            "0.5790699164722406\n",
            "0.5761676123963335\n",
            "0.6134016656249512\n"
          ],
          "name": "stdout"
        },
        {
          "output_type": "execute_result",
          "data": {
            "text/plain": [
              "0.637830783499449"
            ]
          },
          "metadata": {
            "tags": []
          },
          "execution_count": 189
        }
      ]
    },
    {
      "cell_type": "code",
      "metadata": {
        "colab": {
          "base_uri": "https://localhost:8080/"
        },
        "id": "GplixTPOONHA",
        "outputId": "1e4c08b1-005f-43f3-dd54-7ba933d7fb8f"
      },
      "source": [
        "print(f1_score(y_valid, y_pred, average='weighted'))\n",
        "print(f1_score(y_valid, y_pred, average='micro'))\n",
        "print(f1_score(y_valid, y_pred, average='macro'))\n",
        "balanced_accuracy_score(y_valid, y_pred)"
      ],
      "execution_count": null,
      "outputs": [
        {
          "output_type": "stream",
          "text": [
            "0.47267045268891483\n",
            "0.4607538802660754\n",
            "0.6199939459525671\n"
          ],
          "name": "stdout"
        },
        {
          "output_type": "execute_result",
          "data": {
            "text/plain": [
              "0.701562245735539"
            ]
          },
          "metadata": {
            "tags": []
          },
          "execution_count": 58
        }
      ]
    },
    {
      "cell_type": "code",
      "metadata": {
        "colab": {
          "base_uri": "https://localhost:8080/"
        },
        "id": "3MybftEDQtp_",
        "outputId": "44f966d6-99d0-42b6-9ada-c413584a97a9"
      },
      "source": [
        "print(f1_score(y_valid, y_pred, average='weighted'))\n",
        "print(f1_score(y_valid, y_pred, average='micro'))\n",
        "print(f1_score(y_valid, y_pred, average='macro'))\n",
        "balanced_accuracy_score(y_valid, y_pred)"
      ],
      "execution_count": null,
      "outputs": [
        {
          "output_type": "stream",
          "text": [
            "0.4880775827758951\n",
            "0.4802660753880266\n",
            "0.6191108488030547\n"
          ],
          "name": "stdout"
        },
        {
          "output_type": "execute_result",
          "data": {
            "text/plain": [
              "0.7453377701341317"
            ]
          },
          "metadata": {
            "tags": []
          },
          "execution_count": 60
        }
      ]
    },
    {
      "cell_type": "code",
      "metadata": {
        "colab": {
          "base_uri": "https://localhost:8080/"
        },
        "id": "T-mHykFVQz4W",
        "outputId": "c34bf5da-59f6-4465-beb2-3b89db7f306b"
      },
      "source": [
        "print(f1_score(y_valid, y_pred, average='weighted'))\n",
        "print(f1_score(y_valid, y_pred, average='micro'))\n",
        "print(f1_score(y_valid, y_pred, average='macro'))\n",
        "balanced_accuracy_score(y_valid, y_pred)"
      ],
      "execution_count": null,
      "outputs": [
        {
          "output_type": "stream",
          "text": [
            "0.46760697942233215\n",
            "0.45498891352549886\n",
            "0.6112411627380882\n"
          ],
          "name": "stdout"
        },
        {
          "output_type": "execute_result",
          "data": {
            "text/plain": [
              "0.689807862133358"
            ]
          },
          "metadata": {
            "tags": []
          },
          "execution_count": 62
        }
      ]
    },
    {
      "cell_type": "code",
      "metadata": {
        "colab": {
          "base_uri": "https://localhost:8080/",
          "height": 283
        },
        "id": "1UTeQgA9RLZn",
        "outputId": "ae499597-2158-45ef-de9c-da90bd6c8319"
      },
      "source": [
        "from sklearn.metrics import confusion_matrix\n",
        "import seaborn as sn\n",
        "\n",
        "sn.heatmap(confusion_matrix(y_valid, y_pred), annot=True)"
      ],
      "execution_count": null,
      "outputs": [
        {
          "output_type": "execute_result",
          "data": {
            "text/plain": [
              "<matplotlib.axes._subplots.AxesSubplot at 0x7f770fabdb10>"
            ]
          },
          "metadata": {
            "tags": []
          },
          "execution_count": 67
        },
        {
          "output_type": "display_data",
          "data": {
            "image/png": "[encoded data removed]",
            "text/plain": [
              "<Figure size 432x288 with 2 Axes>"
            ]
          },
          "metadata": {
            "tags": [],
            "needs_background": "light"
          }
        }
      ]
    },
    {
      "cell_type": "code",
      "metadata": {
        "id": "wRLj3JZXSGSf"
      },
      "source": [
        ""
      ],
      "execution_count": null,
      "outputs": []
    },
    {
      "cell_type": "markdown",
      "metadata": {
        "id": "OyJFLItwwuY_"
      },
      "source": [
        "# TACRED"
      ]
    },
    {
      "cell_type": "markdown",
      "metadata": {
        "id": "tPmjBH-hPieL"
      },
      "source": [
        "## ER"
      ]
    },
    {
      "cell_type": "code",
      "metadata": {
        "colab": {
          "base_uri": "https://localhost:8080/"
        },
        "id": "HCUHuzgMP8Ti",
        "outputId": "df310b98-a9b9-4f19-913f-f39c9d13792e"
      },
      "source": [
        "!git clone https://github.com/wzhouad/RE_improved_baseline.git"
      ],
      "execution_count": null,
      "outputs": [
        {
          "output_type": "stream",
          "text": [
            "Cloning into 'RE_improved_baseline'...\n",
            "remote: Enumerating objects: 32, done.\u001b[K\n",
            "remote: Counting objects: 100% (32/32), done.\u001b[K\n",
            "remote: Compressing objects: 100% (24/24), done.\u001b[K\n",
            "remote: Total 32 (delta 12), reused 17 (delta 6), pack-reused 0\u001b[K\n",
            "Unpacking objects: 100% (32/32), done.\n"
          ],
          "name": "stdout"
        }
      ]
    },
    {
      "cell_type": "code",
      "metadata": {
        "id": "Xm6wppCSueKv"
      },
      "source": [
        "%cp -r /content/drive/MyDrive/OKPD2/RE_improved_baseline ."
      ],
      "execution_count": null,
      "outputs": []
    },
    {
      "cell_type": "code",
      "metadata": {
        "colab": {
          "base_uri": "https://localhost:8080/"
        },
        "id": "7mr710UmP9-U",
        "outputId": "ec0bd878-a8ae-4864-8f2a-f6559428107e"
      },
      "source": [
        "%cd RE_improved_baseline/\n",
        "\n",
        "!mkdir data\n",
        "!mkdir ./data/tacred\n",
        "!cp -r /content/drive/MyDrive/ранхигс/RuRED ./data/tacred"
      ],
      "execution_count": null,
      "outputs": [
        {
          "output_type": "stream",
          "text": [
            "/content/RE_improved_baseline\n"
          ],
          "name": "stdout"
        }
      ]
    },
    {
      "cell_type": "code",
      "metadata": {
        "id": "Lcw4flxDP-BG"
      },
      "source": [
        "%%capture\n",
        "!pip install transformers ujson wandb"
      ],
      "execution_count": null,
      "outputs": []
    },
    {
      "cell_type": "code",
      "metadata": {
        "colab": {
          "base_uri": "https://localhost:8080/",
          "height": 631
        },
        "id": "LF4nzfQ5P-FC",
        "outputId": "bafe6ce9-933d-4a58-a4d3-bd8bfadbb483"
      },
      "source": [
        "import wandb\n",
        "wandb.login()\n",
        "\n",
        "%env WANDB_WATCH=all\n",
        "%env WANDB_PROJECT=tacred_ru_2\n",
        "%env TASK_NAME=tacred_ru_2"
      ],
      "execution_count": null,
      "outputs": [
        {
          "output_type": "display_data",
          "data": {
            "application/javascript": [
              "\n",
              "        window._wandbApiKey = new Promise((resolve, reject) => {\n",
              "            function loadScript(url) {\n",
              "            return new Promise(function(resolve, reject) {\n",
              "                let newScript = document.createElement(\"script\");\n",
              "                newScript.onerror = reject;\n",
              "                newScript.onload = resolve;\n",
              "                document.body.appendChild(newScript);\n",
              "                newScript.src = url;\n",
              "            });\n",
              "            }\n",
              "            loadScript(\"https://cdn.jsdelivr.net/npm/postmate/build/postmate.min.js\").then(() => {\n",
              "            const iframe = document.createElement('iframe')\n",
              "            iframe.style.cssText = \"width:0;height:0;border:none\"\n",
              "            document.body.appendChild(iframe)\n",
              "            const handshake = new Postmate({\n",
              "                container: iframe,\n",
              "                url: 'https://wandb.ai/authorize'\n",
              "            });\n",
              "            const timeout = setTimeout(() => reject(\"Couldn't auto authenticate\"), 5000)\n",
              "            handshake.then(function(child) {\n",
              "                child.on('authorize', data => {\n",
              "                    clearTimeout(timeout)\n",
              "                    resolve(data)\n",
              "                });\n",
              "            });\n",
              "            })\n",
              "        });\n",
              "    "
            ],
            "text/plain": [
              "<IPython.core.display.Javascript object>"
            ]
          },
          "metadata": {
            "tags": []
          }
        },
        {
          "output_type": "stream",
          "text": [
            "\u001b[34m\u001b[1mwandb\u001b[0m: You can find your API key in your browser here: https://wandb.ai/authorize\n"
          ],
          "name": "stderr"
        },
        {
          "output_type": "error",
          "ename": "KeyboardInterrupt",
          "evalue": "ignored",
          "traceback": [
            "\u001b[0;31m---------------------------------------------------------------------------\u001b[0m",
            "\u001b[0;31mKeyboardInterrupt\u001b[0m                         Traceback (most recent call last)",
            "\u001b[0;32m/usr/local/lib/python3.7/dist-packages/ipykernel/kernelbase.py\u001b[0m in \u001b[0;36m_input_request\u001b[0;34m(self, prompt, ident, parent, password)\u001b[0m\n\u001b[1;32m    728\u001b[0m             \u001b[0;32mtry\u001b[0m\u001b[0;34m:\u001b[0m\u001b[0;34m\u001b[0m\u001b[0;34m\u001b[0m\u001b[0m\n\u001b[0;32m--> 729\u001b[0;31m                 \u001b[0mident\u001b[0m\u001b[0;34m,\u001b[0m \u001b[0mreply\u001b[0m \u001b[0;34m=\u001b[0m \u001b[0mself\u001b[0m\u001b[0;34m.\u001b[0m\u001b[0msession\u001b[0m\u001b[0;34m.\u001b[0m\u001b[0mrecv\u001b[0m\u001b[0;34m(\u001b[0m\u001b[0mself\u001b[0m\u001b[0;34m.\u001b[0m\u001b[0mstdin_socket\u001b[0m\u001b[0;34m,\u001b[0m \u001b[0;36m0\u001b[0m\u001b[0;34m)\u001b[0m\u001b[0;34m\u001b[0m\u001b[0;34m\u001b[0m\u001b[0m\n\u001b[0m\u001b[1;32m    730\u001b[0m             \u001b[0;32mexcept\u001b[0m \u001b[0mException\u001b[0m\u001b[0;34m:\u001b[0m\u001b[0;34m\u001b[0m\u001b[0;34m\u001b[0m\u001b[0m\n",
            "\u001b[0;32m/usr/local/lib/python3.7/dist-packages/jupyter_client/session.py\u001b[0m in \u001b[0;36mrecv\u001b[0;34m(self, socket, mode, content, copy)\u001b[0m\n\u001b[1;32m    802\u001b[0m         \u001b[0;32mtry\u001b[0m\u001b[0;34m:\u001b[0m\u001b[0;34m\u001b[0m\u001b[0;34m\u001b[0m\u001b[0m\n\u001b[0;32m--> 803\u001b[0;31m             \u001b[0mmsg_list\u001b[0m \u001b[0;34m=\u001b[0m \u001b[0msocket\u001b[0m\u001b[0;34m.\u001b[0m\u001b[0mrecv_multipart\u001b[0m\u001b[0;34m(\u001b[0m\u001b[0mmode\u001b[0m\u001b[0;34m,\u001b[0m \u001b[0mcopy\u001b[0m\u001b[0;34m=\u001b[0m\u001b[0mcopy\u001b[0m\u001b[0;34m)\u001b[0m\u001b[0;34m\u001b[0m\u001b[0;34m\u001b[0m\u001b[0m\n\u001b[0m\u001b[1;32m    804\u001b[0m         \u001b[0;32mexcept\u001b[0m \u001b[0mzmq\u001b[0m\u001b[0;34m.\u001b[0m\u001b[0mZMQError\u001b[0m \u001b[0;32mas\u001b[0m \u001b[0me\u001b[0m\u001b[0;34m:\u001b[0m\u001b[0;34m\u001b[0m\u001b[0;34m\u001b[0m\u001b[0m\n",
            "\u001b[0;32m/usr/local/lib/python3.7/dist-packages/zmq/sugar/socket.py\u001b[0m in \u001b[0;36mrecv_multipart\u001b[0;34m(self, flags, copy, track)\u001b[0m\n\u001b[1;32m    582\u001b[0m         \"\"\"\n\u001b[0;32m--> 583\u001b[0;31m         \u001b[0mparts\u001b[0m \u001b[0;34m=\u001b[0m \u001b[0;34m[\u001b[0m\u001b[0mself\u001b[0m\u001b[0;34m.\u001b[0m\u001b[0mrecv\u001b[0m\u001b[0;34m(\u001b[0m\u001b[0mflags\u001b[0m\u001b[0;34m,\u001b[0m \u001b[0mcopy\u001b[0m\u001b[0;34m=\u001b[0m\u001b[0mcopy\u001b[0m\u001b[0;34m,\u001b[0m \u001b[0mtrack\u001b[0m\u001b[0;34m=\u001b[0m\u001b[0mtrack\u001b[0m\u001b[0;34m)\u001b[0m\u001b[0;34m]\u001b[0m\u001b[0;34m\u001b[0m\u001b[0;34m\u001b[0m\u001b[0m\n\u001b[0m\u001b[1;32m    584\u001b[0m         \u001b[0;31m# have first part already, only loop while more to receive\u001b[0m\u001b[0;34m\u001b[0m\u001b[0;34m\u001b[0m\u001b[0;34m\u001b[0m\u001b[0m\n",
            "\u001b[0;32mzmq/backend/cython/socket.pyx\u001b[0m in \u001b[0;36mzmq.backend.cython.socket.Socket.recv\u001b[0;34m()\u001b[0m\n",
            "\u001b[0;32mzmq/backend/cython/socket.pyx\u001b[0m in \u001b[0;36mzmq.backend.cython.socket.Socket.recv\u001b[0;34m()\u001b[0m\n",
            "\u001b[0;32mzmq/backend/cython/socket.pyx\u001b[0m in \u001b[0;36mzmq.backend.cython.socket._recv_copy\u001b[0;34m()\u001b[0m\n",
            "\u001b[0;32m/usr/local/lib/python3.7/dist-packages/zmq/backend/cython/checkrc.pxd\u001b[0m in \u001b[0;36mzmq.backend.cython.checkrc._check_rc\u001b[0;34m()\u001b[0m\n",
            "\u001b[0;31mKeyboardInterrupt\u001b[0m: ",
            "\nDuring handling of the above exception, another exception occurred:\n",
            "\u001b[0;31mKeyboardInterrupt\u001b[0m                         Traceback (most recent call last)",
            "\u001b[0;32m<ipython-input-5-9a845d480f4d>\u001b[0m in \u001b[0;36m<module>\u001b[0;34m()\u001b[0m\n\u001b[1;32m      1\u001b[0m \u001b[0;32mimport\u001b[0m \u001b[0mwandb\u001b[0m\u001b[0;34m\u001b[0m\u001b[0;34m\u001b[0m\u001b[0m\n\u001b[0;32m----> 2\u001b[0;31m \u001b[0mwandb\u001b[0m\u001b[0;34m.\u001b[0m\u001b[0mlogin\u001b[0m\u001b[0;34m(\u001b[0m\u001b[0;34m)\u001b[0m\u001b[0;34m\u001b[0m\u001b[0;34m\u001b[0m\u001b[0m\n\u001b[0m\u001b[1;32m      3\u001b[0m \u001b[0;34m\u001b[0m\u001b[0m\n\u001b[1;32m      4\u001b[0m \u001b[0mget_ipython\u001b[0m\u001b[0;34m(\u001b[0m\u001b[0;34m)\u001b[0m\u001b[0;34m.\u001b[0m\u001b[0mmagic\u001b[0m\u001b[0;34m(\u001b[0m\u001b[0;34m'env WANDB_WATCH=all'\u001b[0m\u001b[0;34m)\u001b[0m\u001b[0;34m\u001b[0m\u001b[0;34m\u001b[0m\u001b[0m\n\u001b[1;32m      5\u001b[0m \u001b[0mget_ipython\u001b[0m\u001b[0;34m(\u001b[0m\u001b[0;34m)\u001b[0m\u001b[0;34m.\u001b[0m\u001b[0mmagic\u001b[0m\u001b[0;34m(\u001b[0m\u001b[0;34m'env WANDB_PROJECT=tacred_ru_2'\u001b[0m\u001b[0;34m)\u001b[0m\u001b[0;34m\u001b[0m\u001b[0;34m\u001b[0m\u001b[0m\n",
            "\u001b[0;32m/usr/local/lib/python3.7/dist-packages/wandb/sdk/wandb_login.py\u001b[0m in \u001b[0;36mlogin\u001b[0;34m(anonymous, key, relogin, host, force)\u001b[0m\n\u001b[1;32m     61\u001b[0m         \u001b[0;32mreturn\u001b[0m \u001b[0;32mTrue\u001b[0m\u001b[0;34m\u001b[0m\u001b[0;34m\u001b[0m\u001b[0m\n\u001b[1;32m     62\u001b[0m     \u001b[0mkwargs\u001b[0m \u001b[0;34m=\u001b[0m \u001b[0mdict\u001b[0m\u001b[0;34m(\u001b[0m\u001b[0mlocals\u001b[0m\u001b[0;34m(\u001b[0m\u001b[0;34m)\u001b[0m\u001b[0;34m)\u001b[0m\u001b[0;34m\u001b[0m\u001b[0;34m\u001b[0m\u001b[0m\n\u001b[0;32m---> 63\u001b[0;31m     \u001b[0mconfigured\u001b[0m \u001b[0;34m=\u001b[0m \u001b[0m_login\u001b[0m\u001b[0;34m(\u001b[0m\u001b[0;34m**\u001b[0m\u001b[0mkwargs\u001b[0m\u001b[0;34m)\u001b[0m\u001b[0;34m\u001b[0m\u001b[0;34m\u001b[0m\u001b[0m\n\u001b[0m\u001b[1;32m     64\u001b[0m     \u001b[0;32mreturn\u001b[0m \u001b[0;32mTrue\u001b[0m \u001b[0;32mif\u001b[0m \u001b[0mconfigured\u001b[0m \u001b[0;32melse\u001b[0m \u001b[0;32mFalse\u001b[0m\u001b[0;34m\u001b[0m\u001b[0;34m\u001b[0m\u001b[0m\n\u001b[1;32m     65\u001b[0m \u001b[0;34m\u001b[0m\u001b[0m\n",
            "\u001b[0;32m/usr/local/lib/python3.7/dist-packages/wandb/sdk/wandb_login.py\u001b[0m in \u001b[0;36m_login\u001b[0;34m(anonymous, key, relogin, host, force, _backend, _silent, _disable_warning)\u001b[0m\n\u001b[1;32m    233\u001b[0m \u001b[0;34m\u001b[0m\u001b[0m\n\u001b[1;32m    234\u001b[0m     \u001b[0;32mif\u001b[0m \u001b[0;32mnot\u001b[0m \u001b[0mkey\u001b[0m\u001b[0;34m:\u001b[0m\u001b[0;34m\u001b[0m\u001b[0;34m\u001b[0m\u001b[0m\n\u001b[0;32m--> 235\u001b[0;31m         \u001b[0mwlogin\u001b[0m\u001b[0;34m.\u001b[0m\u001b[0mprompt_api_key\u001b[0m\u001b[0;34m(\u001b[0m\u001b[0;34m)\u001b[0m\u001b[0;34m\u001b[0m\u001b[0;34m\u001b[0m\u001b[0m\n\u001b[0m\u001b[1;32m    236\u001b[0m \u001b[0;34m\u001b[0m\u001b[0m\n\u001b[1;32m    237\u001b[0m     \u001b[0;31m# make sure login credentials get to the backend\u001b[0m\u001b[0;34m\u001b[0m\u001b[0;34m\u001b[0m\u001b[0;34m\u001b[0m\u001b[0m\n",
            "\u001b[0;32m/usr/local/lib/python3.7/dist-packages/wandb/sdk/wandb_login.py\u001b[0m in \u001b[0;36mprompt_api_key\u001b[0;34m(self)\u001b[0m\n\u001b[1;32m    161\u001b[0m             \u001b[0mapi\u001b[0m\u001b[0;34m=\u001b[0m\u001b[0mapi\u001b[0m\u001b[0;34m,\u001b[0m\u001b[0;34m\u001b[0m\u001b[0;34m\u001b[0m\u001b[0m\n\u001b[1;32m    162\u001b[0m             \u001b[0mno_offline\u001b[0m\u001b[0;34m=\u001b[0m\u001b[0mself\u001b[0m\u001b[0;34m.\u001b[0m\u001b[0m_settings\u001b[0m\u001b[0;34m.\u001b[0m\u001b[0mforce\u001b[0m\u001b[0;34m,\u001b[0m\u001b[0;34m\u001b[0m\u001b[0;34m\u001b[0m\u001b[0m\n\u001b[0;32m--> 163\u001b[0;31m             \u001b[0mno_create\u001b[0m\u001b[0;34m=\u001b[0m\u001b[0mself\u001b[0m\u001b[0;34m.\u001b[0m\u001b[0m_settings\u001b[0m\u001b[0;34m.\u001b[0m\u001b[0mforce\u001b[0m\u001b[0;34m,\u001b[0m\u001b[0;34m\u001b[0m\u001b[0;34m\u001b[0m\u001b[0m\n\u001b[0m\u001b[1;32m    164\u001b[0m         )\n\u001b[1;32m    165\u001b[0m         \u001b[0;32mif\u001b[0m \u001b[0mkey\u001b[0m \u001b[0;32mis\u001b[0m \u001b[0;32mFalse\u001b[0m\u001b[0;34m:\u001b[0m\u001b[0;34m\u001b[0m\u001b[0;34m\u001b[0m\u001b[0m\n",
            "\u001b[0;32m/usr/local/lib/python3.7/dist-packages/wandb/sdk/lib/apikey.py\u001b[0m in \u001b[0;36mprompt_api_key\u001b[0;34m(settings, api, input_callback, browser_callback, no_offline, no_create, local)\u001b[0m\n\u001b[1;32m    118\u001b[0m                 )\n\u001b[1;32m    119\u001b[0m             )\n\u001b[0;32m--> 120\u001b[0;31m             \u001b[0mkey\u001b[0m \u001b[0;34m=\u001b[0m \u001b[0minput_callback\u001b[0m\u001b[0;34m(\u001b[0m\u001b[0mapi_ask\u001b[0m\u001b[0;34m)\u001b[0m\u001b[0;34m.\u001b[0m\u001b[0mstrip\u001b[0m\u001b[0;34m(\u001b[0m\u001b[0;34m)\u001b[0m\u001b[0;34m\u001b[0m\u001b[0;34m\u001b[0m\u001b[0m\n\u001b[0m\u001b[1;32m    121\u001b[0m         \u001b[0mwrite_key\u001b[0m\u001b[0;34m(\u001b[0m\u001b[0msettings\u001b[0m\u001b[0;34m,\u001b[0m \u001b[0mkey\u001b[0m\u001b[0;34m,\u001b[0m \u001b[0mapi\u001b[0m\u001b[0;34m=\u001b[0m\u001b[0mapi\u001b[0m\u001b[0;34m)\u001b[0m\u001b[0;34m\u001b[0m\u001b[0;34m\u001b[0m\u001b[0m\n\u001b[1;32m    122\u001b[0m         \u001b[0;32mreturn\u001b[0m \u001b[0mkey\u001b[0m\u001b[0;34m\u001b[0m\u001b[0;34m\u001b[0m\u001b[0m\n",
            "\u001b[0;32m/usr/local/lib/python3.7/dist-packages/ipykernel/kernelbase.py\u001b[0m in \u001b[0;36mgetpass\u001b[0;34m(self, prompt, stream)\u001b[0m\n\u001b[1;32m    685\u001b[0m             \u001b[0mself\u001b[0m\u001b[0;34m.\u001b[0m\u001b[0m_parent_ident\u001b[0m\u001b[0;34m,\u001b[0m\u001b[0;34m\u001b[0m\u001b[0;34m\u001b[0m\u001b[0m\n\u001b[1;32m    686\u001b[0m             \u001b[0mself\u001b[0m\u001b[0;34m.\u001b[0m\u001b[0m_parent_header\u001b[0m\u001b[0;34m,\u001b[0m\u001b[0;34m\u001b[0m\u001b[0;34m\u001b[0m\u001b[0m\n\u001b[0;32m--> 687\u001b[0;31m             \u001b[0mpassword\u001b[0m\u001b[0;34m=\u001b[0m\u001b[0;32mTrue\u001b[0m\u001b[0;34m,\u001b[0m\u001b[0;34m\u001b[0m\u001b[0;34m\u001b[0m\u001b[0m\n\u001b[0m\u001b[1;32m    688\u001b[0m         )\n\u001b[1;32m    689\u001b[0m \u001b[0;34m\u001b[0m\u001b[0m\n",
            "\u001b[0;32m/usr/local/lib/python3.7/dist-packages/ipykernel/kernelbase.py\u001b[0m in \u001b[0;36m_input_request\u001b[0;34m(self, prompt, ident, parent, password)\u001b[0m\n\u001b[1;32m    732\u001b[0m             \u001b[0;32mexcept\u001b[0m \u001b[0mKeyboardInterrupt\u001b[0m\u001b[0;34m:\u001b[0m\u001b[0;34m\u001b[0m\u001b[0;34m\u001b[0m\u001b[0m\n\u001b[1;32m    733\u001b[0m                 \u001b[0;31m# re-raise KeyboardInterrupt, to truncate traceback\u001b[0m\u001b[0;34m\u001b[0m\u001b[0;34m\u001b[0m\u001b[0;34m\u001b[0m\u001b[0m\n\u001b[0;32m--> 734\u001b[0;31m                 \u001b[0;32mraise\u001b[0m \u001b[0mKeyboardInterrupt\u001b[0m\u001b[0;34m\u001b[0m\u001b[0;34m\u001b[0m\u001b[0m\n\u001b[0m\u001b[1;32m    735\u001b[0m             \u001b[0;32melse\u001b[0m\u001b[0;34m:\u001b[0m\u001b[0;34m\u001b[0m\u001b[0;34m\u001b[0m\u001b[0m\n\u001b[1;32m    736\u001b[0m                 \u001b[0;32mbreak\u001b[0m\u001b[0;34m\u001b[0m\u001b[0;34m\u001b[0m\u001b[0m\n",
            "\u001b[0;31mKeyboardInterrupt\u001b[0m: "
          ]
        }
      ]
    },
    {
      "cell_type": "code",
      "metadata": {
        "id": "CT73MRauQA-j"
      },
      "source": [
        "%cd /content/RE_improved_baseline"
      ],
      "execution_count": null,
      "outputs": []
    },
    {
      "cell_type": "code",
      "metadata": {
        "id": "v1PtPzwXB9-e"
      },
      "source": [
        "import json\n",
        "import pandas as pd\n",
        "\n",
        "with open(r'/content/RE_improved_baseline/data/tacred/RuRED/train.json','r') as fp:\n",
        "    train_json = json.load(fp, encoding='utf8')\n",
        "\n",
        "with open(r'/content/RE_improved_baseline/data/tacred/RuRED/test.json','r') as fp:\n",
        "    test_json = json.load(fp, encoding='utf8')\n",
        "\n",
        "with open(r'/content/RE_improved_baseline/data/tacred/RuRED/dev.json','r') as fp:\n",
        "    dev_json = json.load(fp, encoding='utf8')"
      ],
      "execution_count": null,
      "outputs": []
    },
    {
      "cell_type": "code",
      "metadata": {
        "id": "0_oWXq-kWClZ"
      },
      "source": [
        ""
      ],
      "execution_count": null,
      "outputs": []
    },
    {
      "cell_type": "code",
      "metadata": {
        "colab": {
          "base_uri": "https://localhost:8080/"
        },
        "id": "7821JQQVT6AX",
        "outputId": "79616b7c-01fb-494f-a50f-ca05cc6e004d"
      },
      "source": [
        "from transformers import AutoTokenizer\n",
        "model_checkpoint = \"cointegrated/rubert-tiny\"\n",
        "#model_checkpoint = r'sberbank-ai/ruRoberta-large'\n",
        "tokeniser_  = AutoTokenizer.from_pretrained(model_checkpoint, add_prefix_space=True)\n",
        "tokeniser_(train_json[11]['token'], is_split_into_words=True,)['input_ids'].__len__()"
      ],
      "execution_count": null,
      "outputs": [
        {
          "output_type": "execute_result",
          "data": {
            "text/plain": [
              "519"
            ]
          },
          "metadata": {
            "tags": []
          },
          "execution_count": 2
        }
      ]
    },
    {
      "cell_type": "code",
      "metadata": {
        "id": "QT1jK_CbUtGh"
      },
      "source": [
        "train_new = [i for i in train_json+dev_json if tokeniser_(i['token'], is_split_into_words=True,)['input_ids'].__len__() < 100]\n",
        "test_new = [i for i in test_json if tokeniser_(i['token'], is_split_into_words=True,)['input_ids'].__len__() < 100]"
      ],
      "execution_count": null,
      "outputs": []
    },
    {
      "cell_type": "code",
      "metadata": {
        "colab": {
          "base_uri": "https://localhost:8080/"
        },
        "id": "k3c24V-hW3rj",
        "outputId": "b6b4ba55-4913-474b-fd79-34c38d5be0e3"
      },
      "source": [
        "%mkdir /content/rured_new\n",
        "\n",
        "with open(r'/content/rured_new/train.json','w') as fp:\n",
        "    json.dump(train_new, fp, ensure_ascii=False, indent=4)\n",
        "\n",
        "with open(r'/content/rured_new/test.json','w') as fp:\n",
        "    json.dump(test_new, fp, ensure_ascii=False, indent=4)"
      ],
      "execution_count": null,
      "outputs": [
        {
          "output_type": "stream",
          "text": [
            "mkdir: cannot create directory ‘/content/rured_new’: File exists\n"
          ],
          "name": "stdout"
        }
      ]
    },
    {
      "cell_type": "code",
      "metadata": {
        "colab": {
          "base_uri": "https://localhost:8080/"
        },
        "id": "ndn2qy2oxNMh",
        "outputId": "29f3c765-f040-4307-d754-64d43fa882a2"
      },
      "source": [
        "set(new_set) - set_of"
      ],
      "execution_count": null,
      "outputs": [
        {
          "output_type": "execute_result",
          "data": {
            "text/plain": [
              "{'B-LANGUAGE',\n",
              " 'B-MISC',\n",
              " 'B-STATE_OR_PROVINCE',\n",
              " 'B-TOWN_OR_VILLAGE',\n",
              " 'I-BOROUGH',\n",
              " 'I-LANGUAGE',\n",
              " 'I-MISC',\n",
              " 'I-NORP'}"
            ]
          },
          "metadata": {
            "tags": []
          },
          "execution_count": 21
        }
      ]
    },
    {
      "cell_type": "code",
      "metadata": {
        "id": "dYGKz9_zvoc3"
      },
      "source": [
        "raw_raw = []\n",
        "[raw_raw.extend(i['stanford_ner']) for i in raw]\n",
        "set_of = set(raw_raw)"
      ],
      "execution_count": null,
      "outputs": []
    },
    {
      "cell_type": "code",
      "metadata": {
        "id": "Ghpi7A0pQBBF"
      },
      "source": [
        "#\"sberbank-ai/ruRoberta-large\"\n",
        "!python train_tacred.py --model_name_or_path cointegrated/rubert-tiny \\\n",
        "    --input_format typed_entity_marker_punct --seed 42 \\\n",
        "    --train_batch_size 32 --test_batch_size 32 \\\n",
        "    --learning_rate 1e-4 --gradient_accumulation_steps 1 \\\n",
        "    --run_name rubert_tiny --num_train_epochs 16 --max_seq_length 130 \\\n",
        "    --data_dir /content/RE_improved_baseline/data/tacred/RuRED\n",
        "# --num_class 29 "
      ],
      "execution_count": null,
      "outputs": []
    },
    {
      "cell_type": "code",
      "metadata": {
        "id": "yct-f3osiY2p"
      },
      "source": [
        "!python train_tacred.py --model_name_or_path cointegrated/rubert-tiny \\\n",
        "    --input_format typed_entity_marker --seed 42 --evaluation_steps 150 \\\n",
        "    --train_batch_size 512 --test_batch_size 512 --num_train_epochs 6 \\\n",
        "    --learning_rate 3e-4 --gradient_accumulation_steps 1 --num_class 30 --max_seq_length 150 \\\n",
        "    --run_name bert-base_typed_entity_marker  --data_dir /content/rured_new/"
      ],
      "execution_count": null,
      "outputs": []
    },
    {
      "cell_type": "code",
      "metadata": {
        "id": "L8OJ1DYs6N_2"
      },
      "source": [
        "!cp -r /content/RE_improved_baseline /content/drive/MyDrive/OKPD2/RE_improved_baseline"
      ],
      "execution_count": null,
      "outputs": []
    },
    {
      "cell_type": "code",
      "metadata": {
        "id": "_A-QBqUq6xPu"
      },
      "source": [
        "!cp -r /content/tiny_bert_final_1 /content/drive/MyDrive/OKPD2/tiny_bert_final_1"
      ],
      "execution_count": null,
      "outputs": []
    },
    {
      "cell_type": "code",
      "metadata": {
        "id": "QDx01Jkhaa5p",
        "colab": {
          "base_uri": "https://localhost:8080/"
        },
        "outputId": "61b1f2a1-3a01-40a2-dbf9-69989274b009"
      },
      "source": [
        "!python train_tacred.py --model_name_or_path cointegrated/rubert-tiny \\\n",
        "    --input_format typed_entity_marker_punct --seed 42 --evaluation_steps 150 \\\n",
        "    --train_batch_size 512 --test_batch_size 512 --num_train_epochs 6 \\\n",
        "    --learning_rate 1e-4 --gradient_accumulation_steps 1 --num_class 30 --max_seq_length 160 \\\n",
        "    --run_name bert-base_typed_entity_marker_punct  --data_dir /content/rured_new/"
      ],
      "execution_count": null,
      "outputs": [
        {
          "output_type": "stream",
          "text": [
            "2021-08-12 16:07:03.529663: I tensorflow/stream_executor/platform/default/dso_loader.cc:53] Successfully opened dynamic library libcudart.so.11.0\n",
            "\u001b[34m\u001b[1mwandb\u001b[0m: Currently logged in as: \u001b[33mmemu_pro_kotow\u001b[0m (use `wandb login --relogin` to force relogin)\n",
            "2021-08-12 16:07:06.888852: I tensorflow/stream_executor/platform/default/dso_loader.cc:53] Successfully opened dynamic library libcudart.so.11.0\n",
            "\u001b[34m\u001b[1mwandb\u001b[0m: Tracking run with wandb version 0.12.0\n",
            "\u001b[34m\u001b[1mwandb\u001b[0m: Syncing run \u001b[33mbert-base_typed_entity_marker_punct\u001b[0m\n",
            "\u001b[34m\u001b[1mwandb\u001b[0m: ⭐️ View project at \u001b[34m\u001b[4mhttps://wandb.ai/memu_pro_kotow/RE_baseline\u001b[0m\n",
            "\u001b[34m\u001b[1mwandb\u001b[0m: 🚀 View run at \u001b[34m\u001b[4mhttps://wandb.ai/memu_pro_kotow/RE_baseline/runs/2s26fz6b\u001b[0m\n",
            "\u001b[34m\u001b[1mwandb\u001b[0m: Run data is saved locally in /content/RE_improved_baseline/wandb/run-20210812_160705-2s26fz6b\n",
            "\u001b[34m\u001b[1mwandb\u001b[0m: Run `wandb offline` to turn off syncing.\n",
            "\n",
            "Some weights of the model checkpoint at cointegrated/rubert-tiny were not used when initializing BertModel: ['cls.predictions.bias', 'cls.predictions.transform.LayerNorm.bias', 'cls.predictions.transform.dense.weight', 'cls.seq_relationship.weight', 'cls.predictions.transform.LayerNorm.weight', 'cls.seq_relationship.bias', 'cls.predictions.decoder.weight', 'cls.predictions.decoder.bias', 'cls.predictions.transform.dense.bias']\n",
            "- This IS expected if you are initializing BertModel from the checkpoint of a model trained on another task or with another architecture (e.g. initializing a BertForSequenceClassification model from a BertForPreTraining model).\n",
            "- This IS NOT expected if you are initializing BertModel from the checkpoint of a model that you expect to be exactly identical (initializing a BertForSequenceClassification model from a BertForSequenceClassification model).\n",
            "100% 80157/80157 [03:13<00:00, 415.07it/s]\n",
            "100% 8903/8903 [00:21<00:00, 415.51it/s]\n",
            "Total steps: 936\n",
            "Warmup steps: 93\n",
            "  0% 0/156 [00:00<?, ?it/s]/usr/local/lib/python3.7/dist-packages/torch/optim/lr_scheduler.py:134: UserWarning: Detected call of `lr_scheduler.step()` before `optimizer.step()`. In PyTorch 1.1.0 and later, you should call them in the opposite order: `optimizer.step()` before `lr_scheduler.step()`.  Failure to do this will result in PyTorch skipping the first value of the learning rate schedule. See more details at https://pytorch.org/docs/stable/optim.html#how-to-adjust-learning-rate\n",
            "  \"https://pytorch.org/docs/stable/optim.html#how-to-adjust-learning-rate\", UserWarning)\n",
            " 96% 149/156 [00:25<00:01,  5.70it/s]{'test_f1': 0.021215657154980375}\n",
            "100% 156/156 [00:29<00:00,  5.20it/s]\n",
            " 92% 143/156 [00:24<00:02,  5.76it/s]{'test_f1': 0.021215657154980375}\n",
            "100% 156/156 [00:29<00:00,  5.24it/s]\n",
            " 88% 137/156 [00:23<00:03,  5.85it/s]{'test_f1': 0.021215657154980375}\n",
            "100% 156/156 [00:29<00:00,  5.21it/s]\n",
            " 84% 131/156 [00:22<00:04,  5.67it/s]{'test_f1': 0.021215657154980375}\n",
            "100% 156/156 [00:29<00:00,  5.20it/s]\n",
            " 80% 125/156 [00:21<00:05,  5.67it/s]{'test_f1': 0.021215657154980375}\n",
            "100% 156/156 [00:29<00:00,  5.20it/s]\n",
            " 76% 119/156 [00:20<00:06,  5.96it/s]{'test_f1': 0.021215657154980375}\n",
            "100% 156/156 [00:29<00:00,  5.21it/s]\n",
            "{'test_f1': 0.021215657154980375}\n",
            "\n",
            "\u001b[34m\u001b[1mwandb\u001b[0m: Waiting for W&B process to finish, PID 1439\n",
            "\u001b[34m\u001b[1mwandb\u001b[0m: Program ended successfully.\n",
            "\u001b[34m\u001b[1mwandb\u001b[0m:                                                                                \n",
            "\u001b[34m\u001b[1mwandb\u001b[0m: Find user logs for this run at: /content/RE_improved_baseline/wandb/run-20210812_160705-2s26fz6b/logs/debug.log\n",
            "\u001b[34m\u001b[1mwandb\u001b[0m: Find internal logs for this run at: /content/RE_improved_baseline/wandb/run-20210812_160705-2s26fz6b/logs/debug-internal.log\n",
            "\u001b[34m\u001b[1mwandb\u001b[0m: Run summary:\n",
            "\u001b[34m\u001b[1mwandb\u001b[0m:         loss 3.51169\n",
            "\u001b[34m\u001b[1mwandb\u001b[0m:     _runtime 406\n",
            "\u001b[34m\u001b[1mwandb\u001b[0m:   _timestamp 1628784831\n",
            "\u001b[34m\u001b[1mwandb\u001b[0m:        _step 936\n",
            "\u001b[34m\u001b[1mwandb\u001b[0m:      test_f1 0.02122\n",
            "\u001b[34m\u001b[1mwandb\u001b[0m: Run history:\n",
            "\u001b[34m\u001b[1mwandb\u001b[0m:         loss █▆▄▇▆▆▅▆▅▆▅▅█▆▅▆▂▃▃▄▅▆▅▇▆▇▅▅▄█▆▄▅▅▅▁▆▆▇▇\n",
            "\u001b[34m\u001b[1mwandb\u001b[0m:     _runtime ▁▁▁▁▂▂▂▂▂▃▃▃▃▃▃▄▄▄▄▄▅▅▅▅▅▅▆▆▆▆▆▆▇▇▇▇▇▇██\n",
            "\u001b[34m\u001b[1mwandb\u001b[0m:   _timestamp ▁▁▁▁▂▂▂▂▂▃▃▃▃▃▃▄▄▄▄▄▅▅▅▅▅▅▆▆▆▆▆▆▇▇▇▇▇▇██\n",
            "\u001b[34m\u001b[1mwandb\u001b[0m:        _step ▁▁▁▁▂▂▂▂▂▃▃▃▃▃▃▄▄▄▄▄▅▅▅▅▅▅▆▆▆▆▆▇▇▇▇▇▇███\n",
            "\u001b[34m\u001b[1mwandb\u001b[0m:      test_f1 ▁▁▁▁▁▁▁\n",
            "\u001b[34m\u001b[1mwandb\u001b[0m: \n",
            "\u001b[34m\u001b[1mwandb\u001b[0m: Synced 5 W&B file(s), 0 media file(s), 0 artifact file(s) and 0 other file(s)\n",
            "\u001b[34m\u001b[1mwandb\u001b[0m: \n",
            "\u001b[34m\u001b[1mwandb\u001b[0m: Synced \u001b[33mbert-base_typed_entity_marker_punct\u001b[0m: \u001b[34mhttps://wandb.ai/memu_pro_kotow/RE_baseline/runs/2s26fz6b\u001b[0m\n"
          ],
          "name": "stdout"
        }
      ]
    },
    {
      "cell_type": "code",
      "metadata": {
        "id": "aQgVwjN5bje1"
      },
      "source": [
        "!python train_tacred.py --model_name_or_path sberbank-ai/ruRoberta-large \\\n",
        "    --input_format typed_entity_marker_punct --seed 42 --evaluation_steps 500 \\\n",
        "    --train_batch_size 18 --test_batch_size 18 --num_train_epochs 6 \\\n",
        "    --learning_rate 5e-5 --gradient_accumulation_steps 1 --num_class 30 --max_seq_length 120 \\\n",
        "    --run_name bert-base_typed_entity_marker_punct  --data_dir /content/rured_new/"
      ],
      "execution_count": null,
      "outputs": []
    },
    {
      "cell_type": "code",
      "metadata": {
        "colab": {
          "base_uri": "https://localhost:8080/"
        },
        "id": "hqtoyvEgQez9",
        "outputId": "3b773e9a-e227-4c2f-95e1-3258e0674854"
      },
      "source": [
        "\n",
        "       self.LABEL_TO_ID = {'ABBREVIATION': 9,  'ACQUINTANCE_OF': 24,  'AGE_IS': 27,  'ALTERNATIVE_NAME': 7,  'BORN_IN': 26,  'DATE_DEFUNCT_IN': 22,  'DATE_FOUNDED_IN': 16,  'DATE_OF_BIRTH': 29,  'DATE_TAKES_PLACE_ON': 14,  'EVENT_TAKES_PART_IN': 6,  'FOUNDED_BY': 18,  'HEADQUARTERED_IN': 4,  'MEMBER': 8,  'NUMBER_OF_EMPLOYEES': 23,  'NUMBER_OF_EMPLOYEES_FIRED': 19,  'ORGANIZES': 11,  'ORIGINS_FROM': 12,  'OWNERSHIP': 3,  'PARENT_OF': 17,  'PLACE_RESIDES_IN': 21,  'PRODUCES': 13,  'RELATIVE': 25,  'SELLS_TO': 5,  'SIBLING': 28,  'SUBEVENT_OF': 20,  'SUBORDINATE_OF': 15,  'TAKES_PLACE_IN': 10,  'WORKPLACE': 2,  'WORKS_AS': 1,  'no_relation': 0}\n",
        "\n",
        "\n",
        "        self.LABEL_TO_ID = {'no_relation': 0, 'WORKS_AS': 1, 'WORKPLACE': 2, 'TAKES_PLACE_IN': 3, 'SUBORDINATE_OF': 4, 'SUBEVENT_OF': 5, 'SIBLING': 6, 'SELLS_TO': 7, 'RELATIVE': 8, 'PRODUCES': 9, 'PLACE_RESIDES_IN': 10, 'PARENT_OF': 11, 'OWNERSHIP': 12, 'ORIGINS_FROM': 13, 'ORGANIZES': 14, 'NUMBER_OF_EMPLOYEES_FIRED': 15, 'NUMBER_OF_EMPLOYEES': 16, 'MEMBER': 17, 'HEADQUARTERED_IN': 18, 'FOUNDED_BY': 19, 'EVENT_TAKES_PART_IN': 20, 'DATE_TAKES_PLACE_ON': 21, 'DATE_OF_BIRTH': 22, 'DATE_FOUNDED_IN': 23, 'DATE_DEFUNCT_IN': 24, 'BORN_IN': 25, 'ALTERNATIVE_NAME': 26, 'AGE_IS': 27, 'ACQUINTANCE_OF': 28, 'ABBREVIATION': 29}\n"
      ],
      "execution_count": null,
      "outputs": [
        {
          "output_type": "execute_result",
          "data": {
            "text/plain": [
              "30"
            ]
          },
          "metadata": {
            "tags": []
          },
          "execution_count": 15
        }
      ]
    },
    {
      "cell_type": "code",
      "metadata": {
        "colab": {
          "base_uri": "https://localhost:8080/"
        },
        "id": "WQJNyGwof5tQ",
        "outputId": "208b9626-2705-4011-b708-1d16945f002b"
      },
      "source": [
        "from transformers import AutoTokenizer, AutoModelForMaskedLM\n",
        "\n",
        "tokenizer = AutoTokenizer.from_pretrained(\"cointegrated/rubert-tiny\")\n",
        "#tokenizer.model_max_len = 512\n",
        "tokenizer"
      ],
      "execution_count": null,
      "outputs": [
        {
          "output_type": "execute_result",
          "data": {
            "text/plain": [
              "PreTrainedTokenizerFast(name_or_path='cointegrated/rubert-tiny', vocab_size=29564, model_max_len=512, is_fast=True, padding_side='right', special_tokens={'unk_token': '[UNK]', 'sep_token': '[SEP]', 'pad_token': '[PAD]', 'cls_token': '[CLS]', 'mask_token': '[MASK]'})"
            ]
          },
          "metadata": {
            "tags": []
          },
          "execution_count": 6
        }
      ]
    },
    {
      "cell_type": "code",
      "metadata": {
        "id": "4V7dd6PMVyHv"
      },
      "source": [
        "from transformers import AutoTokenizer, AutoModelForMaskedLM\n",
        "\n",
        "tokenizer = AutoTokenizer.from_pretrained(\"sberbank-ai/ruRoberta-large\", max_length=512, model_max_len = 512)\n",
        "#tokenizer.model_max_len = 512\n",
        "tokenizer"
      ],
      "execution_count": null,
      "outputs": []
    },
    {
      "cell_type": "code",
      "metadata": {
        "id": "4Y82a-9kXtxu"
      },
      "source": [
        "from model import REModel"
      ],
      "execution_count": null,
      "outputs": []
    },
    {
      "cell_type": "code",
      "metadata": {
        "id": "g0I_b12mREVX"
      },
      "source": [
        "from prepro import TACREDProcessor\n",
        "\n",
        "from transformers import AutoTokenizer\n",
        "model_checkpoint = \"cointegrated/rubert-tiny\"\n",
        "tokeniser__  = AutoTokenizer.from_pretrained(model_checkpoint)\n",
        "\n",
        "import argparse\n",
        "args = argparse.Namespace()\n",
        "args.max_seq_length = 150\n",
        "args.input_format = 'typed_entity_marker'\n",
        "\n",
        "processor = TACREDProcessor(tokenizer = tokeniser__,args = args)"
      ],
      "execution_count": null,
      "outputs": []
    },
    {
      "cell_type": "code",
      "metadata": {
        "id": "X0FtXY-JUx55"
      },
      "source": [
        "train_line_features = processor.read_line([test_new[179]])"
      ],
      "execution_count": null,
      "outputs": []
    },
    {
      "cell_type": "code",
      "metadata": {
        "id": "k5qctBv5CoWW"
      },
      "source": [
        "for i,j in enumerate(test_new):\n",
        "    if j['relation'] != 'no_relation':\n",
        "        print(i, j['relation'])"
      ],
      "execution_count": null,
      "outputs": []
    },
    {
      "cell_type": "code",
      "metadata": {
        "id": "ghJ-xnqqWLj6"
      },
      "source": [
        "#from utils import set_seed, collate_fn\n",
        "from train_tacred import predict"
      ],
      "execution_count": null,
      "outputs": []
    },
    {
      "cell_type": "code",
      "metadata": {
        "colab": {
          "base_uri": "https://localhost:8080/"
        },
        "id": "FdcwqTWVWyPP",
        "outputId": "2489ebf3-c47f-4771-a595-a55a071f949d"
      },
      "source": [
        "import torch\n",
        "\n",
        "model = torch.load(r'/content/drive/MyDrive/OKPD2/tiny_bert_final_1/model.pt')\n",
        "model.eval()\n",
        "\n",
        "args = argparse.Namespace()\n",
        "args.test_batch_size = 1\n",
        "args.device = 'cuda'\n",
        "\n",
        "predict(args=args, model=model, features = train_line_features)"
      ],
      "execution_count": null,
      "outputs": [
        {
          "output_type": "stream",
          "text": [
            "tensor([[ 6.7783, -2.0405, -1.7941, -2.5432, -3.0765, -3.1208, -4.4519,  2.7886,\n",
            "         -3.9176, -3.3922, -2.8593, -1.7121, -1.4934, -2.3522, -3.9124, -2.0094,\n",
            "         -3.5493, -2.4002, -3.2478, -2.8820, -2.3729, -1.8166, -4.4524, -4.4688,\n",
            "         -3.5912, -4.8083,  1.6924, -3.8166, -3.1245, -2.2212]],\n",
            "       device='cuda:0')\n",
            "tensor([[9.7380e-01, 1.4406e-04, 1.8431e-04, 8.7141e-05, 5.1122e-05, 4.8907e-05,\n",
            "         1.2920e-05, 1.8021e-02, 2.2046e-05, 3.7281e-05, 6.3523e-05, 2.0006e-04,\n",
            "         2.4896e-04, 1.0548e-04, 2.2161e-05, 1.4861e-04, 3.1863e-05, 1.0054e-04,\n",
            "         4.3072e-05, 6.2095e-05, 1.0332e-04, 1.8022e-04, 1.2914e-05, 1.2704e-05,\n",
            "         3.0556e-05, 9.0470e-06, 6.0218e-03, 2.4389e-05, 4.8723e-05, 1.2024e-04]],\n",
            "       device='cuda:0')\n"
          ],
          "name": "stdout"
        },
        {
          "output_type": "execute_result",
          "data": {
            "text/plain": [
              "(array([0]), [0.973800539970398])"
            ]
          },
          "metadata": {
            "tags": []
          },
          "execution_count": 49
        }
      ]
    },
    {
      "cell_type": "code",
      "metadata": {
        "id": "eGpN-28W-18T"
      },
      "source": [
        "label2id = {'no_relation': 0, 'WORKS_AS': 1, 'WORKPLACE': 2, 'TAKES_PLACE_IN': 3, 'SUBORDINATE_OF': 4, 'SUBEVENT_OF': 5, 'SIBLING': 6, 'SELLS_TO': 7, 'RELATIVE': 8, 'PRODUCES': 9, 'PLACE_RESIDES_IN': 10, 'PARENT_OF': 11, 'OWNERSHIP': 12, 'ORIGINS_FROM': 13, 'ORGANIZES': 14, 'NUMBER_OF_EMPLOYEES_FIRED': 15, 'NUMBER_OF_EMPLOYEES': 16, 'MEMBER': 17, 'HEADQUARTERED_IN': 18, 'FOUNDED_BY': 19, 'EVENT_TAKES_PART_IN': 20, 'DATE_TAKES_PLACE_ON': 21, 'DATE_OF_BIRTH': 22, 'DATE_FOUNDED_IN': 23, 'DATE_DEFUNCT_IN': 24, 'BORN_IN': 25, 'ALTERNATIVE_NAME': 26, 'AGE_IS': 27, 'ACQUINTANCE_OF': 28, 'ABBREVIATION': 29}\n",
        "id2label = {j:i for i,j in label2id.items()}"
      ],
      "execution_count": null,
      "outputs": []
    },
    {
      "cell_type": "code",
      "metadata": {
        "colab": {
          "base_uri": "https://localhost:8080/",
          "height": 35
        },
        "id": "i3HlyKht_JLA",
        "outputId": "41331731-b071-4ef5-e5ae-c2b868333b03"
      },
      "source": [
        "id2label[12]"
      ],
      "execution_count": null,
      "outputs": [
        {
          "output_type": "execute_result",
          "data": {
            "application/vnd.google.colaboratory.intrinsic+json": {
              "type": "string"
            },
            "text/plain": [
              "'OWNERSHIP'"
            ]
          },
          "metadata": {
            "tags": []
          },
          "execution_count": 34
        }
      ]
    },
    {
      "cell_type": "code",
      "metadata": {
        "colab": {
          "base_uri": "https://localhost:8080/"
        },
        "id": "bH4zZM08A9wp",
        "outputId": "c5b3960f-7e2f-4f1b-9f9a-304b5d1d1c21"
      },
      "source": [
        "import numpy as np\n",
        "\n",
        "np.exp([7.331071376800537])"
      ],
      "execution_count": null,
      "outputs": [
        {
          "output_type": "execute_result",
          "data": {
            "text/plain": [
              "array([1527.0169064])"
            ]
          },
          "metadata": {
            "tags": []
          },
          "execution_count": 34
        }
      ]
    },
    {
      "cell_type": "code",
      "metadata": {
        "colab": {
          "base_uri": "https://localhost:8080/",
          "height": 226
        },
        "id": "qMCHBiOTTUr7",
        "outputId": "07c00cb3-6c29-4ac9-addc-5fe817abf41f"
      },
      "source": [
        "import argparse\n",
        "\n",
        "parser = argparse.ArgumentParser()\n",
        "\n",
        "parser.add_argument(\"--data_dir\", default=\"./data/tacred\", type=str)\n",
        "parser.add_argument(\"--model_name_or_path\", default=\"roberta-large\", type=str)\n",
        "\n",
        "args = parser.parse_args()\n",
        "print(args)"
      ],
      "execution_count": null,
      "outputs": [
        {
          "output_type": "stream",
          "text": [
            "usage: ipykernel_launcher.py [-h] [--data_dir DATA_DIR]\n",
            "                             [--model_name_or_path MODEL_NAME_OR_PATH]\n",
            "ipykernel_launcher.py: error: unrecognized arguments: -f /root/.local/share/jupyter/runtime/kernel-1c6809bd-fa2d-48a4-900a-166e01b75f19.json\n"
          ],
          "name": "stderr"
        },
        {
          "output_type": "error",
          "ename": "SystemExit",
          "evalue": "ignored",
          "traceback": [
            "An exception has occurred, use %tb to see the full traceback.\n",
            "\u001b[0;31mSystemExit\u001b[0m\u001b[0;31m:\u001b[0m 2\n"
          ]
        },
        {
          "output_type": "stream",
          "text": [
            "/usr/local/lib/python3.7/dist-packages/IPython/core/interactiveshell.py:2890: UserWarning: To exit: use 'exit', 'quit', or Ctrl-D.\n",
            "  warn(\"To exit: use 'exit', 'quit', or Ctrl-D.\", stacklevel=1)\n"
          ],
          "name": "stderr"
        }
      ]
    },
    {
      "cell_type": "code",
      "metadata": {
        "colab": {
          "base_uri": "https://localhost:8080/",
          "height": 133
        },
        "id": "ZSZ-X8hpXu3_",
        "outputId": "ec25d405-303a-4fdf-d174-9c3d572e6228"
      },
      "source": [
        "{'max_seq_length':150,'input_format':'typed_entity_marker'}."
      ],
      "execution_count": null,
      "outputs": [
        {
          "output_type": "error",
          "ename": "SyntaxError",
          "evalue": "ignored",
          "traceback": [
            "\u001b[0;36m  File \u001b[0;32m\"<ipython-input-15-5f4a82a2b886>\"\u001b[0;36m, line \u001b[0;32m1\u001b[0m\n\u001b[0;31m    {'max_seq_length':150,'input_format':'typed_entity_marker'}.\u001b[0m\n\u001b[0m                                                                ^\u001b[0m\n\u001b[0;31mSyntaxError\u001b[0m\u001b[0;31m:\u001b[0m invalid syntax\n"
          ]
        }
      ]
    },
    {
      "cell_type": "markdown",
      "metadata": {
        "id": "Tyus5tDF2ax9"
      },
      "source": [
        "## ER2"
      ]
    },
    {
      "cell_type": "code",
      "metadata": {
        "colab": {
          "base_uri": "https://localhost:8080/"
        },
        "id": "AtWZ7gOq2Z18",
        "outputId": "f435b2a9-f273-4bb7-b9d2-cf5332038a16"
      },
      "source": [
        "!git clone https://github.com/thunlp/PTR.git"
      ],
      "execution_count": null,
      "outputs": [
        {
          "output_type": "stream",
          "text": [
            "Cloning into 'PTR'...\n",
            "remote: Enumerating objects: 46, done.\u001b[K\n",
            "remote: Counting objects: 100% (46/46), done.\u001b[K\n",
            "remote: Compressing objects: 100% (33/33), done.\u001b[K\n",
            "remote: Total 46 (delta 14), reused 37 (delta 12), pack-reused 0\u001b[K\n",
            "Unpacking objects: 100% (46/46), done.\n"
          ],
          "name": "stdout"
        }
      ]
    },
    {
      "cell_type": "code",
      "metadata": {
        "colab": {
          "base_uri": "https://localhost:8080/"
        },
        "id": "EcC88ZOU3zQm",
        "outputId": "520cc0a2-1a41-4af8-fd14-e8fcc8fa20b3"
      },
      "source": [
        "%cd PTR/"
      ],
      "execution_count": null,
      "outputs": [
        {
          "output_type": "stream",
          "text": [
            "/content/PTR\n"
          ],
          "name": "stdout"
        }
      ]
    },
    {
      "cell_type": "code",
      "metadata": {
        "id": "Jy5OLHpw3s43"
      },
      "source": [
        "%mkdir results\n",
        "%cd results\n",
        "%mkdir tacred\n",
        "%cd tacred\n",
        "%mkdir train\n",
        "%mkdir val\n",
        "%mkdir test\n",
        "%cd ..\n",
        "%cd ..\n",
        "%cd code_script"
      ],
      "execution_count": null,
      "outputs": []
    },
    {
      "cell_type": "code",
      "metadata": {
        "colab": {
          "base_uri": "https://localhost:8080/"
        },
        "id": "yrccy6hu9ScC",
        "outputId": "6faf2666-9183-461b-f745-b8a05cc479d2"
      },
      "source": [
        "%cd ./PTR/code_script/"
      ],
      "execution_count": null,
      "outputs": [
        {
          "output_type": "stream",
          "text": [
            "/content/PTR/code_script\n"
          ],
          "name": "stdout"
        }
      ]
    },
    {
      "cell_type": "code",
      "metadata": {
        "id": "IHzfnjAd3tBs"
      },
      "source": [
        "!python3 run_prompt.py \\\n",
        "    --data_dir ../datasets/tacred \\\n",
        "    --output_dir ../results/tacred \\\n",
        "    --model_type roberta \\\n",
        "    --model_name_or_path roberta-large \\\n",
        "    --per_gpu_train_batch_size 2 \\\n",
        "    --gradient_accumulation_steps 1 \\\n",
        "    --max_seq_length 512 \\\n",
        "    --warmup_steps 500 \\\n",
        "    --learning_rate 3e-5 \\\n",
        "    --learning_rate_for_new_token 1e-5 \\\n",
        "    --num_train_epochs 5 \\\n",
        "    --weight_decay 1e-2 \\\n",
        "    --adam_epsilon 1e-6 \\\n",
        "    --temps temp_dd.txt\n"
      ],
      "execution_count": null,
      "outputs": []
    },
    {
      "cell_type": "markdown",
      "metadata": {
        "id": "Ib9-J33ixqXy"
      },
      "source": [
        "# NER для ER"
      ]
    },
    {
      "cell_type": "markdown",
      "metadata": {
        "id": "T6yYtBs0q8ZX"
      },
      "source": [
        "## NER_v3"
      ]
    },
    {
      "cell_type": "code",
      "metadata": {
        "id": "35-nO_I2vQb2"
      },
      "source": [
        "!git clone https://github.com/huggingface/transformers.git\n",
        "%cd transformers\n",
        "!pip install -e ."
      ],
      "execution_count": null,
      "outputs": []
    },
    {
      "cell_type": "code",
      "metadata": {
        "id": "0ztzdO07vQw4"
      },
      "source": [
        "!pip install -r /content/transformers/examples/pytorch/token-classification/requirements.txt"
      ],
      "execution_count": null,
      "outputs": []
    },
    {
      "cell_type": "code",
      "metadata": {
        "id": "mQ9YuV4DjA-o"
      },
      "source": [
        "%cp -r /content/drive/MyDrive/OKPD2/ner_data .\n",
        "%cp -r /content/drive/MyDrive/ранхигс/RuRED ."
      ],
      "execution_count": null,
      "outputs": []
    },
    {
      "cell_type": "code",
      "metadata": {
        "id": "wjtZR_NxnkcO"
      },
      "source": [
        "from pathlib import Path\n",
        "import re\n",
        "\n",
        "def read_wnut(file_path):\n",
        "    file_path = Path(file_path)\n",
        "\n",
        "    raw_text = file_path.read_text().strip()\n",
        "    raw_docs = re.split(r'\\n\\t?\\n', raw_text)\n",
        "    token_docs = []\n",
        "    tag_docs = []\n",
        "    for doc in raw_docs:\n",
        "        tokens = []\n",
        "        tags = []\n",
        "        for line in doc.split('\\n'):\n",
        "            token, tag = line.split('\\t')\n",
        "            tokens.append(token)\n",
        "            tags.append(tag)\n",
        "        token_docs.append(tokens)\n",
        "        tag_docs.append(tags)\n",
        "\n",
        "    return token_docs, tag_docs\n",
        "\n",
        "texts_train, tags_train = read_wnut('/content/ner_data/train.txt')\n",
        "texts_dev, tags_dev = read_wnut('/content/ner_data/dev.txt')\n",
        "texts_test, tags_test = read_wnut('/content/ner_data/test.txt')"
      ],
      "execution_count": null,
      "outputs": []
    },
    {
      "cell_type": "code",
      "metadata": {
        "id": "vopu9Uc1yO1q"
      },
      "source": [
        "import json\n",
        "import pandas as pd\n",
        "\n",
        "with open(r'/content/RuRED/train.json','r') as fp:\n",
        "    train_json = json.load(fp, encoding='utf8')\n",
        "\n",
        "with open(r'/content/RuRED/test.json','r') as fp:\n",
        "    test_json = json.load(fp, encoding='utf8')\n",
        "\n",
        "with open(r'/content/RuRED/dev.json','r') as fp:\n",
        "    dev_json = json.load(fp, encoding='utf8')"
      ],
      "execution_count": null,
      "outputs": []
    },
    {
      "cell_type": "code",
      "metadata": {
        "id": "ScA60YzyzARC"
      },
      "source": [
        "texts_full_json = [i['token'] for i in train_json+test_json+dev_json]\n",
        "tags_full_json = [i['stanford_ner'] for i in train_json+test_json+dev_json]\n",
        "relation_full_json = [i['relation'] for i in train_json+test_json+dev_json]#relation"
      ],
      "execution_count": null,
      "outputs": []
    },
    {
      "cell_type": "code",
      "metadata": {
        "id": "jSDKCM8NnlCN"
      },
      "source": [
        "train_texts = texts_train + texts_dev + texts_full_json\n",
        "train_tags = tags_train + tags_dev + tags_full_json\n",
        "\n",
        "val_texts = texts_test\n",
        "val_tags = tags_test"
      ],
      "execution_count": null,
      "outputs": []
    },
    {
      "cell_type": "code",
      "metadata": {
        "id": "GyPm9QGJno7l"
      },
      "source": [
        "unique_tags = set(tag for doc in train_tags for tag in doc)\n",
        "tag2id = {tag: id for id, tag in enumerate(unique_tags)}\n",
        "id2tag = {id: tag for tag, id in tag2id.items()}"
      ],
      "execution_count": null,
      "outputs": []
    },
    {
      "cell_type": "code",
      "metadata": {
        "colab": {
          "base_uri": "https://localhost:8080/"
        },
        "id": "mMTxT0OlaVca",
        "outputId": "c30d5d65-5f82-460d-c63b-a2a7c68298c8"
      },
      "source": [
        "tag2id['O']"
      ],
      "execution_count": null,
      "outputs": [
        {
          "output_type": "execute_result",
          "data": {
            "text/plain": [
              "50"
            ]
          },
          "metadata": {
            "tags": []
          },
          "execution_count": 7
        }
      ]
    },
    {
      "cell_type": "code",
      "metadata": {
        "id": "crryL6_sg97J"
      },
      "source": [
        "task = \"ner\" # Should be one of \"ner\", \"pos\" or \"chunk\"\n",
        "model_checkpoint = \"sberbank-ai/ruRoberta-large\"\n",
        "#model_checkpoint = \"/content/drive/MyDrive/ранхигс/rured2021_01_12\"\n",
        "#model_checkpoint = \"cointegrated/rubert-tiny\"\n",
        "#model_checkpoint = r\"/content/tiny_bert_8e5_full/checkpoint-1600\"\n",
        "batch_size = 32\n",
        "label_all_tokens = True"
      ],
      "execution_count": null,
      "outputs": []
    },
    {
      "cell_type": "code",
      "metadata": {
        "id": "4SyssvuPlrSZ"
      },
      "source": [
        "from transformers import AutoTokenizer, RobertaTokenizerFast, BertTokenizerFast\n",
        "#tokenizer = AutoTokenizer.from_pretrained(model_checkpoint)\n",
        "\n",
        "tokenizer = AutoTokenizer.from_pretrained(\n",
        "            model_checkpoint,\n",
        "            use_fast=True,\n",
        "            lower_case=False,\n",
        "            add_prefix_space=True,\n",
        "                    )\n",
        "\n",
        "#tokenizer = RobertaTokenizerFast.from_pretrained(\n",
        "#            model_checkpoint,\n",
        "#            add_prefix_space=True,\n",
        "#            lower_case=False\n",
        "#        )\n"
      ],
      "execution_count": null,
      "outputs": []
    },
    {
      "cell_type": "code",
      "metadata": {
        "colab": {
          "base_uri": "https://localhost:8080/"
        },
        "id": "ato0iskgK8ic",
        "outputId": "4be7254e-97b6-4c60-c72f-8ad21960426c"
      },
      "source": [
        "import numpy as np\n",
        "len_of = [tokenizer(i,is_split_into_words=True)['input_ids'].__len__() for i in texts_train+texts_dev+texts_test ]\n",
        "print(np.mean(len_of))\n",
        "print(np.max(len_of))\n",
        "print(np.min(len_of))\n",
        "print(np.quantile(len_of, q=0.99))"
      ],
      "execution_count": null,
      "outputs": [
        {
          "output_type": "stream",
          "text": [
            "35.29175898792081\n",
            "519\n",
            "4\n",
            "89.0\n"
          ],
          "name": "stdout"
        }
      ]
    },
    {
      "cell_type": "code",
      "metadata": {
        "id": "vkEU09wyhDAQ"
      },
      "source": [
        "from datasets import load_dataset, load_metric"
      ],
      "execution_count": null,
      "outputs": []
    },
    {
      "cell_type": "code",
      "metadata": {
        "id": "DcYOPBCGhMbD"
      },
      "source": [
        "def _generate_examples(filepath):\n",
        "#    logger.info(\"⏳ Generating examples from = %s\", filepath)\n",
        "    with open(filepath, encoding=\"utf-8\") as f:\n",
        "        guid = 0\n",
        "        tokens = []\n",
        "        pos_tags = []\n",
        "        chunk_tags = []\n",
        "        ner_tags = []\n",
        "        for line in f:\n",
        "            if line.startswith(\"-DOCSTART-\") or line == \"\" or line == \"\\n\":\n",
        "                if tokens:\n",
        "                    yield {\n",
        "#                    yield guid, {\n",
        "                        \"id\": str(guid),\n",
        "                        \"tokens\": tokens,\n",
        "#                        \"ner_tags\": [ner_tag for ner_tag in ner_tags]\n",
        "                        \"ner_tags\": [int(tag2id[ner_tag]) for ner_tag in ner_tags]\n",
        "#                        \"pos_tags\": pos_tags,\n",
        "#                        \"chunk_tags\": chunk_tags,\n",
        "#                        \"ner_tags\": ner_tags,\n",
        "\n",
        "                    }\n",
        "                    guid += 1\n",
        "                    tokens = []\n",
        "                    pos_tags = []\n",
        "                    chunk_tags = []\n",
        "                    ner_tags = []\n",
        "            else:\n",
        "                # conll2003 tokens are space separated\n",
        "                splits = line.split(\"\\t\")\n",
        "                tokens.append(splits[0])\n",
        "                pos_tags.append('')\n",
        "                chunk_tags.append('')\n",
        "                ner_tags.append(splits[1].rstrip())\n",
        "#                pos_tags.append(splits[1])\n",
        "#                chunk_tags.append(splits[2])\n",
        "#                ner_tags.append(splits[3].rstrip())\n",
        "        # last example\n",
        "#        yield guid, {\n",
        "        yield {\n",
        "            \"id\": str(guid),\n",
        "            \"tokens\": tokens,\n",
        "#            \"ner_tags\": [ner_tag for ner_tag in ner_tags]\n",
        "            \"ner_tags\": [int(tag2id[ner_tag]) for ner_tag in ner_tags]\n",
        "#            \"pos_tags\": pos_tags,\n",
        "#            \"chunk_tags\": chunk_tags,\n",
        "#            \"ner_tags\": ner_tags,\n",
        "        }"
      ],
      "execution_count": null,
      "outputs": []
    },
    {
      "cell_type": "code",
      "metadata": {
        "id": "paGeHba_0JYb"
      },
      "source": [
        "dataset_train = pd.DataFrame.from_dict({'tokens':train_texts,'ner_tags':train_tags})\n",
        "dataset_train['ner_tags'] = dataset_train['ner_tags'].apply(lambda a: [int(tag2id[ner_tag]) for ner_tag in a])#[int(tag2id[ner_tag]) for ner_tag in ner_tags]\n",
        "dataset_test = pd.DataFrame.from_dict({'tokens':val_texts,'ner_tags':val_tags})\n",
        "dataset_test['ner_tags'] = dataset_test['ner_tags'].apply(lambda a: [int(tag2id[ner_tag]) for ner_tag in a])"
      ],
      "execution_count": null,
      "outputs": []
    },
    {
      "cell_type": "code",
      "metadata": {
        "id": "NiYCcdtAlRqj"
      },
      "source": [
        "from datasets import Dataset, DatasetDict\n",
        "import pandas as pd\n",
        "\n",
        "dataset = DatasetDict({\n",
        "    'train': Dataset.from_pandas(dataset_train),\n",
        "#    'valid': Dataset.from_pandas(dataset_val),\n",
        "    'test': Dataset.from_pandas(dataset_test),\n",
        "})"
      ],
      "execution_count": null,
      "outputs": []
    },
    {
      "cell_type": "code",
      "metadata": {
        "id": "ZBEsG17iigC1"
      },
      "source": [
        "def tokenize_and_align_labels(examples):\n",
        "    tokenized_inputs = tokenizer(examples[\"tokens\"], \n",
        "                                 is_split_into_words=True,\n",
        "                                 truncation=True,\n",
        "                                 max_length=92,\n",
        "                                 )\n",
        "\n",
        "    labels = []\n",
        "    for i, label in enumerate(examples[f\"ner_tags\"]):\n",
        "        word_ids = tokenized_inputs.word_ids(batch_index=i)\n",
        "        previous_word_idx = None\n",
        "        label_ids = []\n",
        "        #label = [tag2id[tag] for tag in label]\n",
        "        for word_idx in word_ids:\n",
        "            # Special tokens have a word id that is None. We set the label to -100 so they are automatically\n",
        "            # ignored in the loss function.\n",
        "            if word_idx is None:\n",
        "                #label_ids.append(tag2id['O'])\n",
        "                label_ids.append(-100)\n",
        "            # We set the label for the first token of each word.\n",
        "            elif word_idx != previous_word_idx:\n",
        "                label_ids.append(label[word_idx])\n",
        "            # For the other tokens in a word, we set the label to either the current label or -100, depending on\n",
        "            # the label_all_tokens flag.\n",
        "            else:\n",
        "                #label_ids.append(tag2id['O'])\n",
        "                label_ids.append(label[word_idx] if label_all_tokens else -100)\n",
        "            previous_word_idx = word_idx\n",
        "\n",
        "        labels.append(label_ids)\n",
        "\n",
        "    tokenized_inputs[\"labels\"] = labels\n",
        "    return tokenized_inputs"
      ],
      "execution_count": null,
      "outputs": []
    },
    {
      "cell_type": "code",
      "metadata": {
        "colab": {
          "base_uri": "https://localhost:8080/",
          "height": 81,
          "referenced_widgets": [
            "9db70c011f8f48abb4f2cff61fcc73e1",
            "fed144052966402ab8dca2bff1c5e674",
            "cd1169ab188043d884cad1e49a002ed9",
            "2e2f661752c74e6db7373b3953bdd82e",
            "1dca80e217f74ed1b8d5b644c8c07f80",
            "ed8bf93f259b4b7d909cff93e82a97e1",
            "b31d883291e249e88e16fe197f5b55a3",
            "edba16803a724936b917dd19ab3dbba5",
            "f49ebd1f124744e182e3dbc77d7dfe75",
            "e12711c440b141ccb6c338be25d4cca8",
            "1976e989a13644e2a87999aa05d8a17f",
            "32ada8709e5842caabf2152137d95b89",
            "f589600d027d46bbadd1b68a86da5801",
            "057651a53abd47f89010fdd7837c8dae",
            "2b1c28f070984b778588eb0b81e31f43",
            "9a8a6359b3544dc1bb7839b7d2d9f3bc",
            "80e91ec867b440abb2bfa381cf976440",
            "b31044f5e08b4c2eaa69529fdc0f02f2",
            "bbd41a07efb24f5db741e2d5facf6575",
            "a2c17fc2ff094b8f87d7d026046417de",
            "99b61c75228b4a55b5715fa8cd08dee8",
            "d3e10c1abddf4632bbe12a73b2eb779d"
          ]
        },
        "id": "XxLngHC4hcdQ",
        "outputId": "8ffef5f0-b542-466b-9aef-5d9e9aa45009"
      },
      "source": [
        "tokenized_datasets = dataset.map(tokenize_and_align_labels, batched=True)"
      ],
      "execution_count": null,
      "outputs": [
        {
          "output_type": "display_data",
          "data": {
            "application/vnd.jupyter.widget-view+json": {
              "model_id": "9db70c011f8f48abb4f2cff61fcc73e1",
              "version_minor": 0,
              "version_major": 2
            },
            "text/plain": [
              "  0%|          | 0/107 [00:00<?, ?ba/s]"
            ]
          },
          "metadata": {
            "tags": []
          }
        },
        {
          "output_type": "display_data",
          "data": {
            "application/vnd.jupyter.widget-view+json": {
              "model_id": "32ada8709e5842caabf2152137d95b89",
              "version_minor": 0,
              "version_major": 2
            },
            "text/plain": [
              "  0%|          | 0/2 [00:00<?, ?ba/s]"
            ]
          },
          "metadata": {
            "tags": []
          }
        }
      ]
    },
    {
      "cell_type": "code",
      "metadata": {
        "colab": {
          "base_uri": "https://localhost:8080/"
        },
        "id": "WYgyA-rVicAh",
        "outputId": "b43ef9de-dd8a-45e7-89c6-6c35a04eef5f"
      },
      "source": [
        "tokenized_datasets"
      ],
      "execution_count": null,
      "outputs": [
        {
          "output_type": "execute_result",
          "data": {
            "text/plain": [
              "DatasetDict({\n",
              "    train: Dataset({\n",
              "        features: ['attention_mask', 'input_ids', 'labels', 'ner_tags', 'tokens'],\n",
              "        num_rows: 106642\n",
              "    })\n",
              "    test: Dataset({\n",
              "        features: ['attention_mask', 'input_ids', 'labels', 'ner_tags', 'tokens'],\n",
              "        num_rows: 1400\n",
              "    })\n",
              "})"
            ]
          },
          "metadata": {
            "tags": []
          },
          "execution_count": 20
        }
      ]
    },
    {
      "cell_type": "code",
      "metadata": {
        "colab": {
          "base_uri": "https://localhost:8080/"
        },
        "id": "RzXdxwgljCqE",
        "outputId": "17a3e7c9-6b39-4997-c039-d3e6341632cb"
      },
      "source": [
        "from transformers import AutoModelForTokenClassification, TrainingArguments, Trainer, RobertaForTokenClassification, BertForTokenClassification\n",
        "\n",
        "model = RobertaForTokenClassification.from_pretrained(model_checkpoint, num_labels=len(unique_tags))\n",
        "#model = AutoModelForTokenClassification.from_pretrained(model_checkpoint, num_labels=len(unique_tags))\n",
        "\n",
        "model.config.id2label = id2tag\n",
        "model.config.label2id = tag2id\n",
        "\n",
        "#for param in model.bert.parameters():\n",
        "#    param.requires_grad = True"
      ],
      "execution_count": null,
      "outputs": [
        {
          "output_type": "stream",
          "text": [
            "Some weights of the model checkpoint at sberbank-ai/ruRoberta-large were not used when initializing RobertaForTokenClassification: ['lm_head.dense.weight', 'lm_head.bias', 'lm_head.layer_norm.bias', 'lm_head.decoder.weight', 'lm_head.decoder.bias', 'lm_head.layer_norm.weight', 'lm_head.dense.bias']\n",
            "- This IS expected if you are initializing RobertaForTokenClassification from the checkpoint of a model trained on another task or with another architecture (e.g. initializing a BertForSequenceClassification model from a BertForPreTraining model).\n",
            "- This IS NOT expected if you are initializing RobertaForTokenClassification from the checkpoint of a model that you expect to be exactly identical (initializing a BertForSequenceClassification model from a BertForSequenceClassification model).\n",
            "Some weights of RobertaForTokenClassification were not initialized from the model checkpoint at sberbank-ai/ruRoberta-large and are newly initialized: ['classifier.weight', 'classifier.bias']\n",
            "You should probably TRAIN this model on a down-stream task to be able to use it for predictions and inference.\n"
          ],
          "name": "stderr"
        }
      ]
    },
    {
      "cell_type": "code",
      "metadata": {
        "id": "siW8Jugtk3Y2"
      },
      "source": [
        "#model_name = model_checkpoint.split(\"/\")[-1]\n",
        "args = TrainingArguments(\n",
        "    r\"roberta_bert_final_4e5\",\n",
        "    evaluation_strategy = \"epoch\",\n",
        "    learning_rate=4e-5,\n",
        "    per_device_train_batch_size=batch_size,\n",
        "    per_device_eval_batch_size=batch_size,\n",
        "    num_train_epochs=10,\n",
        "    weight_decay=0.01,\n",
        "    warmup_ratio=0.1,\n",
        "    lr_scheduler_type='cosine_with_restarts',\n",
        "    dataloader_num_workers=4,\n",
        "    dataloader_pin_memory=True,\n",
        "    save_strategy='epoch',\n",
        "    seed=1337,\n",
        "    save_total_limit=10,\n",
        "#    fp16=True\n",
        "#    push_to_hub=True,\n",
        "#    push_to_hub_model_id=f\"{model_name}-finetuned-{task}\",\n",
        ")"
      ],
      "execution_count": null,
      "outputs": []
    },
    {
      "cell_type": "code",
      "metadata": {
        "id": "Q4Nc2LPwk6Ld"
      },
      "source": [
        "from transformers import DataCollatorForTokenClassification\n",
        "#, padding=True, max_length=512,truncation=True\n",
        "data_collator = DataCollatorForTokenClassification(tokenizer,\n",
        "                                                   pad_to_multiple_of=8\n",
        "                                                   )"
      ],
      "execution_count": null,
      "outputs": []
    },
    {
      "cell_type": "code",
      "metadata": {
        "id": "X9A3kKLtk7p-",
        "colab": {
          "base_uri": "https://localhost:8080/",
          "height": 49,
          "referenced_widgets": [
            "16659ccc77d746f89777f355596cbde2",
            "af5b3afdb5774b9ca4601e0370048fe0",
            "b9a5b1e1a750478285e567c2fd19cf03",
            "d9f48493942e42658eb4b633f62f25ca",
            "dd84a43887404b36a4dcc5fc9a123d66",
            "845fbd7e2b004bf29ee69d9da824c992",
            "4fabb1a03a154df080932a2e31958208",
            "a79f8200ff7040fcb9adb08fd2566d99",
            "578774ee39c14256b485e461c31b4381",
            "3e7717c859324b3db1c51a55ee06bdd9",
            "ff2be42836ec4e618e07ed9806f09185"
          ]
        },
        "outputId": "f11406da-f3c0-4a67-d5ba-dc86d0dbcd03"
      },
      "source": [
        "metric = load_metric(\"seqeval\")\n",
        "\n",
        "import numpy as np\n",
        "\n",
        "def compute_metrics(p):\n",
        "    predictions, labels = p\n",
        "    predictions = np.argmax(predictions, axis=2)\n",
        "\n",
        "    # Remove ignored index (special tokens)\n",
        "    true_predictions = [\n",
        "        [id2tag[p] for (p, l) in zip(prediction, label) if l != -100]\n",
        "        for prediction, label in zip(predictions, labels)\n",
        "    ]\n",
        "    true_labels = [\n",
        "        [id2tag[l] for (p, l) in zip(prediction, label) if l != -100]\n",
        "        for prediction, label in zip(predictions, labels)\n",
        "    ]\n",
        "\n",
        "    results = metric.compute(predictions=true_predictions, references=true_labels)\n",
        "    return {\n",
        "        \"precision\": results[\"overall_precision\"],\n",
        "        \"recall\": results[\"overall_recall\"],\n",
        "        \"f1\": results[\"overall_f1\"],\n",
        "        \"accuracy\": results[\"overall_accuracy\"],\n",
        "    }"
      ],
      "execution_count": null,
      "outputs": [
        {
          "output_type": "display_data",
          "data": {
            "application/vnd.jupyter.widget-view+json": {
              "model_id": "16659ccc77d746f89777f355596cbde2",
              "version_minor": 0,
              "version_major": 2
            },
            "text/plain": [
              "Downloading:   0%|          | 0.00/2.48k [00:00<?, ?B/s]"
            ]
          },
          "metadata": {
            "tags": []
          }
        }
      ]
    },
    {
      "cell_type": "code",
      "metadata": {
        "id": "Y9AFBzljk_H9"
      },
      "source": [
        "from transformers.optimization import Adafactor, AdafactorSchedule, get_cosine_with_hard_restarts_schedule_with_warmup\n",
        "#optimizer = Adafactor(model.parameters(), scale_parameter=True, relative_step=True, warmup_init=True, lr=None)\n",
        "#optimizer = Adafactor(model.parameters(), scale_parameter=False, relative_step=False, warmup_init=False, lr=None)\n",
        "#optimizer = Adafactor(model.parameters(), scale_parameter=False, relative_step=False, warmup_init=False, lr=1e-3)\n",
        "\n",
        "optimizer = Adafactor(\n",
        "    model.parameters(),\n",
        "    lr=5e-5,\n",
        "    eps=(1e-30, 1e-3),\n",
        "    clip_threshold=1.0,\n",
        "    decay_rate=-0.8,\n",
        "    beta1=None,\n",
        "    weight_decay=0.0,\n",
        "    relative_step=False,\n",
        "    scale_parameter=False,\n",
        "    warmup_init=False\n",
        ")\n",
        "\n",
        "#lr_scheduler = AdafactorSchedule(optimizer)\n",
        "#lr_scheduler = get_cosine_with_hard_restarts_schedule_with_warmup(optimizer)\n",
        "#trainer = Trainer(..., optimizers=(optimizer, lr_scheduler))\n",
        "\n",
        "trainer = Trainer(\n",
        "    model,\n",
        "    args,\n",
        "    train_dataset=tokenized_datasets[\"train\"],\n",
        "    eval_dataset=tokenized_datasets[\"test\"],\n",
        "    data_collator=data_collator,\n",
        "    tokenizer=tokenizer,\n",
        "    compute_metrics=compute_metrics,\n",
        "#    optimizers=(optimizer, None)\n",
        ")"
      ],
      "execution_count": null,
      "outputs": []
    },
    {
      "cell_type": "code",
      "metadata": {
        "colab": {
          "base_uri": "https://localhost:8080/",
          "height": 1000
        },
        "id": "e2QM1ylCk_o7",
        "outputId": "bb465216-91aa-4066-9e14-cd3ebc30fb79"
      },
      "source": [
        "trainer.train()"
      ],
      "execution_count": null,
      "outputs": [
        {
          "output_type": "stream",
          "text": [
            "The following columns in the training set  don't have a corresponding argument in `RobertaForTokenClassification.forward` and have been ignored: ner_tags, tokens.\n",
            "***** Running training *****\n",
            "  Num examples = 106642\n",
            "  Num Epochs = 10\n",
            "  Instantaneous batch size per device = 32\n",
            "  Total train batch size (w. parallel, distributed & accumulation) = 32\n",
            "  Gradient Accumulation steps = 1\n",
            "  Total optimization steps = 33330\n"
          ],
          "name": "stderr"
        },
        {
          "output_type": "display_data",
          "data": {
            "text/html": [
              "\n",
              "    <div>\n",
              "      \n",
              "      <progress value='20213' max='33330' style='width:300px; height:20px; vertical-align: middle;'></progress>\n",
              "      [20213/33330 5:20:24 < 3:27:56, 1.05 it/s, Epoch 6.06/10]\n",
              "    </div>\n",
              "    <table border=\"1\" class=\"dataframe\">\n",
              "  <thead>\n",
              "    <tr style=\"text-align: left;\">\n",
              "      <th>Epoch</th>\n",
              "      <th>Training Loss</th>\n",
              "      <th>Validation Loss</th>\n",
              "      <th>Precision</th>\n",
              "      <th>Recall</th>\n",
              "      <th>F1</th>\n",
              "      <th>Accuracy</th>\n",
              "    </tr>\n",
              "  </thead>\n",
              "  <tbody>\n",
              "    <tr>\n",
              "      <td>1</td>\n",
              "      <td>0.046100</td>\n",
              "      <td>0.284013</td>\n",
              "      <td>0.840913</td>\n",
              "      <td>0.915031</td>\n",
              "      <td>0.876408</td>\n",
              "      <td>0.937997</td>\n",
              "    </tr>\n",
              "    <tr>\n",
              "      <td>2</td>\n",
              "      <td>0.027300</td>\n",
              "      <td>0.239008</td>\n",
              "      <td>0.873059</td>\n",
              "      <td>0.919836</td>\n",
              "      <td>0.895837</td>\n",
              "      <td>0.947999</td>\n",
              "    </tr>\n",
              "    <tr>\n",
              "      <td>3</td>\n",
              "      <td>0.081500</td>\n",
              "      <td>0.241286</td>\n",
              "      <td>0.789697</td>\n",
              "      <td>0.876176</td>\n",
              "      <td>0.830692</td>\n",
              "      <td>0.939339</td>\n",
              "    </tr>\n",
              "    <tr>\n",
              "      <td>4</td>\n",
              "      <td>0.021800</td>\n",
              "      <td>0.218970</td>\n",
              "      <td>0.890797</td>\n",
              "      <td>0.933333</td>\n",
              "      <td>0.911569</td>\n",
              "      <td>0.955619</td>\n",
              "    </tr>\n",
              "    <tr>\n",
              "      <td>5</td>\n",
              "      <td>0.010000</td>\n",
              "      <td>0.192148</td>\n",
              "      <td>0.900050</td>\n",
              "      <td>0.929039</td>\n",
              "      <td>0.914314</td>\n",
              "      <td>0.957589</td>\n",
              "    </tr>\n",
              "    <tr>\n",
              "      <td>6</td>\n",
              "      <td>0.009300</td>\n",
              "      <td>0.255153</td>\n",
              "      <td>0.898788</td>\n",
              "      <td>0.932515</td>\n",
              "      <td>0.915341</td>\n",
              "      <td>0.956333</td>\n",
              "    </tr>\n",
              "  </tbody>\n",
              "</table><p>"
            ],
            "text/plain": [
              "<IPython.core.display.HTML object>"
            ]
          },
          "metadata": {
            "tags": []
          }
        },
        {
          "output_type": "stream",
          "text": [
            "The following columns in the evaluation set  don't have a corresponding argument in `RobertaForTokenClassification.forward` and have been ignored: ner_tags, tokens.\n",
            "***** Running Evaluation *****\n",
            "  Num examples = 1400\n",
            "  Batch size = 32\n",
            "/usr/local/lib/python3.7/dist-packages/seqeval/metrics/v1.py:57: UndefinedMetricWarning: Precision and F-score are ill-defined and being set to 0.0 in labels with no predicted samples. Use `zero_division` parameter to control this behavior.\n",
            "  _warn_prf(average, modifier, msg_start, len(result))\n",
            "Saving model checkpoint to roberta_bert_final_4e5/checkpoint-3333\n",
            "Configuration saved in roberta_bert_final_4e5/checkpoint-3333/config.json\n",
            "Model weights saved in roberta_bert_final_4e5/checkpoint-3333/pytorch_model.bin\n",
            "tokenizer config file saved in roberta_bert_final_4e5/checkpoint-3333/tokenizer_config.json\n",
            "Special tokens file saved in roberta_bert_final_4e5/checkpoint-3333/special_tokens_map.json\n",
            "The following columns in the evaluation set  don't have a corresponding argument in `RobertaForTokenClassification.forward` and have been ignored: ner_tags, tokens.\n",
            "***** Running Evaluation *****\n",
            "  Num examples = 1400\n",
            "  Batch size = 32\n",
            "/usr/local/lib/python3.7/dist-packages/seqeval/metrics/v1.py:57: UndefinedMetricWarning: Precision and F-score are ill-defined and being set to 0.0 in labels with no predicted samples. Use `zero_division` parameter to control this behavior.\n",
            "  _warn_prf(average, modifier, msg_start, len(result))\n",
            "Saving model checkpoint to roberta_bert_final_4e5/checkpoint-6666\n",
            "Configuration saved in roberta_bert_final_4e5/checkpoint-6666/config.json\n",
            "Model weights saved in roberta_bert_final_4e5/checkpoint-6666/pytorch_model.bin\n",
            "tokenizer config file saved in roberta_bert_final_4e5/checkpoint-6666/tokenizer_config.json\n",
            "Special tokens file saved in roberta_bert_final_4e5/checkpoint-6666/special_tokens_map.json\n",
            "The following columns in the evaluation set  don't have a corresponding argument in `RobertaForTokenClassification.forward` and have been ignored: ner_tags, tokens.\n",
            "***** Running Evaluation *****\n",
            "  Num examples = 1400\n",
            "  Batch size = 32\n",
            "/usr/local/lib/python3.7/dist-packages/seqeval/metrics/v1.py:57: UndefinedMetricWarning: Precision and F-score are ill-defined and being set to 0.0 in labels with no predicted samples. Use `zero_division` parameter to control this behavior.\n",
            "  _warn_prf(average, modifier, msg_start, len(result))\n",
            "Saving model checkpoint to roberta_bert_final_4e5/checkpoint-9999\n",
            "Configuration saved in roberta_bert_final_4e5/checkpoint-9999/config.json\n",
            "Model weights saved in roberta_bert_final_4e5/checkpoint-9999/pytorch_model.bin\n",
            "tokenizer config file saved in roberta_bert_final_4e5/checkpoint-9999/tokenizer_config.json\n",
            "Special tokens file saved in roberta_bert_final_4e5/checkpoint-9999/special_tokens_map.json\n",
            "The following columns in the evaluation set  don't have a corresponding argument in `RobertaForTokenClassification.forward` and have been ignored: ner_tags, tokens.\n",
            "***** Running Evaluation *****\n",
            "  Num examples = 1400\n",
            "  Batch size = 32\n",
            "/usr/local/lib/python3.7/dist-packages/seqeval/metrics/v1.py:57: UndefinedMetricWarning: Precision and F-score are ill-defined and being set to 0.0 in labels with no predicted samples. Use `zero_division` parameter to control this behavior.\n",
            "  _warn_prf(average, modifier, msg_start, len(result))\n",
            "Saving model checkpoint to roberta_bert_final_4e5/checkpoint-13332\n",
            "Configuration saved in roberta_bert_final_4e5/checkpoint-13332/config.json\n",
            "Model weights saved in roberta_bert_final_4e5/checkpoint-13332/pytorch_model.bin\n",
            "tokenizer config file saved in roberta_bert_final_4e5/checkpoint-13332/tokenizer_config.json\n",
            "Special tokens file saved in roberta_bert_final_4e5/checkpoint-13332/special_tokens_map.json\n",
            "The following columns in the evaluation set  don't have a corresponding argument in `RobertaForTokenClassification.forward` and have been ignored: ner_tags, tokens.\n",
            "***** Running Evaluation *****\n",
            "  Num examples = 1400\n",
            "  Batch size = 32\n",
            "/usr/local/lib/python3.7/dist-packages/seqeval/metrics/v1.py:57: UndefinedMetricWarning: Precision and F-score are ill-defined and being set to 0.0 in labels with no predicted samples. Use `zero_division` parameter to control this behavior.\n",
            "  _warn_prf(average, modifier, msg_start, len(result))\n",
            "Saving model checkpoint to roberta_bert_final_4e5/checkpoint-16665\n",
            "Configuration saved in roberta_bert_final_4e5/checkpoint-16665/config.json\n",
            "Model weights saved in roberta_bert_final_4e5/checkpoint-16665/pytorch_model.bin\n",
            "tokenizer config file saved in roberta_bert_final_4e5/checkpoint-16665/tokenizer_config.json\n",
            "Special tokens file saved in roberta_bert_final_4e5/checkpoint-16665/special_tokens_map.json\n",
            "The following columns in the evaluation set  don't have a corresponding argument in `RobertaForTokenClassification.forward` and have been ignored: ner_tags, tokens.\n",
            "***** Running Evaluation *****\n",
            "  Num examples = 1400\n",
            "  Batch size = 32\n",
            "/usr/local/lib/python3.7/dist-packages/seqeval/metrics/v1.py:57: UndefinedMetricWarning: Precision and F-score are ill-defined and being set to 0.0 in labels with no predicted samples. Use `zero_division` parameter to control this behavior.\n",
            "  _warn_prf(average, modifier, msg_start, len(result))\n",
            "Saving model checkpoint to roberta_bert_final_4e5/checkpoint-19998\n",
            "Configuration saved in roberta_bert_final_4e5/checkpoint-19998/config.json\n",
            "Model weights saved in roberta_bert_final_4e5/checkpoint-19998/pytorch_model.bin\n",
            "tokenizer config file saved in roberta_bert_final_4e5/checkpoint-19998/tokenizer_config.json\n",
            "Special tokens file saved in roberta_bert_final_4e5/checkpoint-19998/special_tokens_map.json\n"
          ],
          "name": "stderr"
        },
        {
          "output_type": "error",
          "ename": "KeyboardInterrupt",
          "evalue": "ignored",
          "traceback": [
            "\u001b[0;31m---------------------------------------------------------------------------\u001b[0m",
            "\u001b[0;31mKeyboardInterrupt\u001b[0m                         Traceback (most recent call last)",
            "\u001b[0;32m<ipython-input-27-3435b262f1ae>\u001b[0m in \u001b[0;36m<module>\u001b[0;34m()\u001b[0m\n\u001b[0;32m----> 1\u001b[0;31m \u001b[0mtrainer\u001b[0m\u001b[0;34m.\u001b[0m\u001b[0mtrain\u001b[0m\u001b[0;34m(\u001b[0m\u001b[0;34m)\u001b[0m\u001b[0;34m\u001b[0m\u001b[0;34m\u001b[0m\u001b[0m\n\u001b[0m",
            "\u001b[0;32m/content/transformers/src/transformers/trainer.py\u001b[0m in \u001b[0;36mtrain\u001b[0;34m(self, resume_from_checkpoint, trial, ignore_keys_for_eval, **kwargs)\u001b[0m\n\u001b[1;32m   1315\u001b[0m                             nn.utils.clip_grad_norm_(\n\u001b[1;32m   1316\u001b[0m                                 \u001b[0mamp\u001b[0m\u001b[0;34m.\u001b[0m\u001b[0mmaster_params\u001b[0m\u001b[0;34m(\u001b[0m\u001b[0mself\u001b[0m\u001b[0;34m.\u001b[0m\u001b[0moptimizer\u001b[0m\u001b[0;34m)\u001b[0m \u001b[0;32mif\u001b[0m \u001b[0mself\u001b[0m\u001b[0;34m.\u001b[0m\u001b[0muse_apex\u001b[0m \u001b[0;32melse\u001b[0m \u001b[0mmodel\u001b[0m\u001b[0;34m.\u001b[0m\u001b[0mparameters\u001b[0m\u001b[0;34m(\u001b[0m\u001b[0;34m)\u001b[0m\u001b[0;34m,\u001b[0m\u001b[0;34m\u001b[0m\u001b[0;34m\u001b[0m\u001b[0m\n\u001b[0;32m-> 1317\u001b[0;31m                                 \u001b[0margs\u001b[0m\u001b[0;34m.\u001b[0m\u001b[0mmax_grad_norm\u001b[0m\u001b[0;34m,\u001b[0m\u001b[0;34m\u001b[0m\u001b[0;34m\u001b[0m\u001b[0m\n\u001b[0m\u001b[1;32m   1318\u001b[0m                             )\n\u001b[1;32m   1319\u001b[0m \u001b[0;34m\u001b[0m\u001b[0m\n",
            "\u001b[0;32m/usr/local/lib/python3.7/dist-packages/torch/nn/utils/clip_grad.py\u001b[0m in \u001b[0;36mclip_grad_norm_\u001b[0;34m(parameters, max_norm, norm_type, error_if_nonfinite)\u001b[0m\n\u001b[1;32m     41\u001b[0m     \u001b[0;32melse\u001b[0m\u001b[0;34m:\u001b[0m\u001b[0;34m\u001b[0m\u001b[0;34m\u001b[0m\u001b[0m\n\u001b[1;32m     42\u001b[0m         \u001b[0mtotal_norm\u001b[0m \u001b[0;34m=\u001b[0m \u001b[0mtorch\u001b[0m\u001b[0;34m.\u001b[0m\u001b[0mnorm\u001b[0m\u001b[0;34m(\u001b[0m\u001b[0mtorch\u001b[0m\u001b[0;34m.\u001b[0m\u001b[0mstack\u001b[0m\u001b[0;34m(\u001b[0m\u001b[0;34m[\u001b[0m\u001b[0mtorch\u001b[0m\u001b[0;34m.\u001b[0m\u001b[0mnorm\u001b[0m\u001b[0;34m(\u001b[0m\u001b[0mp\u001b[0m\u001b[0;34m.\u001b[0m\u001b[0mgrad\u001b[0m\u001b[0;34m.\u001b[0m\u001b[0mdetach\u001b[0m\u001b[0;34m(\u001b[0m\u001b[0;34m)\u001b[0m\u001b[0;34m,\u001b[0m \u001b[0mnorm_type\u001b[0m\u001b[0;34m)\u001b[0m\u001b[0;34m.\u001b[0m\u001b[0mto\u001b[0m\u001b[0;34m(\u001b[0m\u001b[0mdevice\u001b[0m\u001b[0;34m)\u001b[0m \u001b[0;32mfor\u001b[0m \u001b[0mp\u001b[0m \u001b[0;32min\u001b[0m \u001b[0mparameters\u001b[0m\u001b[0;34m]\u001b[0m\u001b[0;34m)\u001b[0m\u001b[0;34m,\u001b[0m \u001b[0mnorm_type\u001b[0m\u001b[0;34m)\u001b[0m\u001b[0;34m\u001b[0m\u001b[0;34m\u001b[0m\u001b[0m\n\u001b[0;32m---> 43\u001b[0;31m     \u001b[0;32mif\u001b[0m \u001b[0mtotal_norm\u001b[0m\u001b[0;34m.\u001b[0m\u001b[0misnan\u001b[0m\u001b[0;34m(\u001b[0m\u001b[0;34m)\u001b[0m \u001b[0;32mor\u001b[0m \u001b[0mtotal_norm\u001b[0m\u001b[0;34m.\u001b[0m\u001b[0misinf\u001b[0m\u001b[0;34m(\u001b[0m\u001b[0;34m)\u001b[0m\u001b[0;34m:\u001b[0m\u001b[0;34m\u001b[0m\u001b[0;34m\u001b[0m\u001b[0m\n\u001b[0m\u001b[1;32m     44\u001b[0m         \u001b[0;32mif\u001b[0m \u001b[0merror_if_nonfinite\u001b[0m\u001b[0;34m:\u001b[0m\u001b[0;34m\u001b[0m\u001b[0;34m\u001b[0m\u001b[0m\n\u001b[1;32m     45\u001b[0m             raise RuntimeError(\n",
            "\u001b[0;31mKeyboardInterrupt\u001b[0m: "
          ]
        }
      ]
    },
    {
      "cell_type": "code",
      "metadata": {
        "id": "bzxHsVxCLmy-"
      },
      "source": [
        ""
      ],
      "execution_count": null,
      "outputs": []
    },
    {
      "cell_type": "code",
      "metadata": {
        "colab": {
          "base_uri": "https://localhost:8080/"
        },
        "id": "fGfBjuI8qf8x",
        "outputId": "58b6f044-c947-4507-a1db-f4741a128384"
      },
      "source": [
        "trainer.save_model(r\"/content/drive/MyDrive/OKPD2/tiny_bert_087_ner_rured_plus\")\n",
        "trainer.tokenizer.save_pretrained(r\"/content/drive/MyDrive/OKPD2/tiny_bert_087_ner_rured_plus\")"
      ],
      "execution_count": null,
      "outputs": [
        {
          "output_type": "stream",
          "text": [
            "Saving model checkpoint to /content/drive/MyDrive/OKPD2/tiny_bert_087_ner_rured_plus\n",
            "Configuration saved in /content/drive/MyDrive/OKPD2/tiny_bert_087_ner_rured_plus/config.json\n",
            "Model weights saved in /content/drive/MyDrive/OKPD2/tiny_bert_087_ner_rured_plus/pytorch_model.bin\n",
            "tokenizer config file saved in /content/drive/MyDrive/OKPD2/tiny_bert_087_ner_rured_plus/tokenizer_config.json\n",
            "Special tokens file saved in /content/drive/MyDrive/OKPD2/tiny_bert_087_ner_rured_plus/special_tokens_map.json\n",
            "tokenizer config file saved in /content/drive/MyDrive/OKPD2/tiny_bert_087_ner_rured_plus/tokenizer_config.json\n",
            "Special tokens file saved in /content/drive/MyDrive/OKPD2/tiny_bert_087_ner_rured_plus/special_tokens_map.json\n"
          ],
          "name": "stderr"
        },
        {
          "output_type": "execute_result",
          "data": {
            "text/plain": [
              "('/content/drive/MyDrive/OKPD2/tiny_bert_087_ner_rured_plus/tokenizer_config.json',\n",
              " '/content/drive/MyDrive/OKPD2/tiny_bert_087_ner_rured_plus/special_tokens_map.json',\n",
              " '/content/drive/MyDrive/OKPD2/tiny_bert_087_ner_rured_plus/vocab.txt',\n",
              " '/content/drive/MyDrive/OKPD2/tiny_bert_087_ner_rured_plus/added_tokens.json',\n",
              " '/content/drive/MyDrive/OKPD2/tiny_bert_087_ner_rured_plus/tokenizer.json')"
            ]
          },
          "metadata": {
            "tags": []
          },
          "execution_count": 50
        }
      ]
    },
    {
      "cell_type": "code",
      "metadata": {
        "colab": {
          "base_uri": "https://localhost:8080/"
        },
        "id": "H7tyIndjrS1r",
        "outputId": "2bb46c90-d3df-4c65-b4a3-cc8c54f5aba8"
      },
      "source": [
        "model.save_pretrained(r\"/content/drive/MyDrive/OKPD2/ro_bert_092_ner_rured_plus\")\n",
        "tokenizer.save_pretrained(r\"/content/drive/MyDrive/OKPD2/ro_bert_092_ner_rured_plus\")"
      ],
      "execution_count": null,
      "outputs": [
        {
          "output_type": "stream",
          "text": [
            "Configuration saved in /content/drive/MyDrive/OKPD2/ro_bert_092_ner_rured_plus/config.json\n",
            "Model weights saved in /content/drive/MyDrive/OKPD2/ro_bert_092_ner_rured_plus/pytorch_model.bin\n",
            "tokenizer config file saved in /content/drive/MyDrive/OKPD2/ro_bert_092_ner_rured_plus/tokenizer_config.json\n",
            "Special tokens file saved in /content/drive/MyDrive/OKPD2/ro_bert_092_ner_rured_plus/special_tokens_map.json\n"
          ],
          "name": "stderr"
        },
        {
          "output_type": "execute_result",
          "data": {
            "text/plain": [
              "('/content/drive/MyDrive/OKPD2/ro_bert_092_ner_rured_plus/tokenizer_config.json',\n",
              " '/content/drive/MyDrive/OKPD2/ro_bert_092_ner_rured_plus/special_tokens_map.json',\n",
              " '/content/drive/MyDrive/OKPD2/ro_bert_092_ner_rured_plus/vocab.json',\n",
              " '/content/drive/MyDrive/OKPD2/ro_bert_092_ner_rured_plus/merges.txt',\n",
              " '/content/drive/MyDrive/OKPD2/ro_bert_092_ner_rured_plus/added_tokens.json',\n",
              " '/content/drive/MyDrive/OKPD2/ro_bert_092_ner_rured_plus/tokenizer.json')"
            ]
          },
          "metadata": {
            "tags": []
          },
          "execution_count": 31
        }
      ]
    },
    {
      "cell_type": "code",
      "metadata": {
        "id": "ziw3NojbJFHv"
      },
      "source": [
        "from transformers import AutoTokenizer, AutoModelForTokenClassification\n",
        "ref_ = r\"/content/roberta_bert_final_4e5/checkpoint-16665\"\n",
        "tokenizer = AutoTokenizer.from_pretrained(ref_)\n",
        "model = AutoModelForTokenClassification.from_pretrained(ref_)\n",
        "\n",
        "id2tag = model.config.id2label\n",
        "tag2id = model.config.label2id\n",
        "\n",
        "print()"
      ],
      "execution_count": null,
      "outputs": []
    },
    {
      "cell_type": "code",
      "metadata": {
        "id": "fHg6nXC0JZQY"
      },
      "source": [
        ""
      ],
      "execution_count": null,
      "outputs": []
    },
    {
      "cell_type": "code",
      "metadata": {
        "colab": {
          "base_uri": "https://localhost:8080/",
          "height": 1000
        },
        "id": "6r1htuYGm6KR",
        "outputId": "1857971f-6516-4922-c0d1-81f8ae155451"
      },
      "source": [
        "predictions, labels, _ = trainer.predict(tokenized_datasets[\"test\"])\n",
        "predictions = np.argmax(predictions, axis=2)\n",
        "\n",
        "# Remove ignored index (special tokens)\n",
        "true_predictions = [\n",
        "    [id2tag[p] for (p, l) in zip(prediction, label) if l != -100]\n",
        "    for prediction, label in zip(predictions, labels)\n",
        "]\n",
        "true_labels = [\n",
        "    [id2tag[l] for (p, l) in zip(prediction, label) if l != -100]\n",
        "    for prediction, label in zip(predictions, labels)\n",
        "]\n",
        "\n",
        "results = metric.compute(predictions=true_predictions, references=true_labels)\n",
        "results"
      ],
      "execution_count": null,
      "outputs": [
        {
          "output_type": "stream",
          "text": [
            "The following columns in the test set  don't have a corresponding argument in `RobertaForTokenClassification.forward` and have been ignored: ner_tags, tokens.\n",
            "***** Running Prediction *****\n",
            "  Num examples = 1400\n",
            "  Batch size = 32\n"
          ],
          "name": "stderr"
        },
        {
          "output_type": "display_data",
          "data": {
            "text/html": [
              "\n",
              "    <div>\n",
              "      \n",
              "      <progress value='20213' max='33330' style='width:300px; height:20px; vertical-align: middle;'></progress>\n",
              "      [20213/33330 5:20:24 < 3:27:56, 1.05 it/s, Epoch 6.06/10]\n",
              "    </div>\n",
              "    <table border=\"1\" class=\"dataframe\">\n",
              "  <thead>\n",
              "    <tr style=\"text-align: left;\">\n",
              "      <th>Epoch</th>\n",
              "      <th>Training Loss</th>\n",
              "      <th>Validation Loss</th>\n",
              "      <th>Precision</th>\n",
              "      <th>Recall</th>\n",
              "      <th>F1</th>\n",
              "      <th>Accuracy</th>\n",
              "    </tr>\n",
              "  </thead>\n",
              "  <tbody>\n",
              "    <tr>\n",
              "      <td>1</td>\n",
              "      <td>0.046100</td>\n",
              "      <td>0.284013</td>\n",
              "      <td>0.840913</td>\n",
              "      <td>0.915031</td>\n",
              "      <td>0.876408</td>\n",
              "      <td>0.937997</td>\n",
              "    </tr>\n",
              "    <tr>\n",
              "      <td>2</td>\n",
              "      <td>0.027300</td>\n",
              "      <td>0.239008</td>\n",
              "      <td>0.873059</td>\n",
              "      <td>0.919836</td>\n",
              "      <td>0.895837</td>\n",
              "      <td>0.947999</td>\n",
              "    </tr>\n",
              "    <tr>\n",
              "      <td>3</td>\n",
              "      <td>0.081500</td>\n",
              "      <td>0.241286</td>\n",
              "      <td>0.789697</td>\n",
              "      <td>0.876176</td>\n",
              "      <td>0.830692</td>\n",
              "      <td>0.939339</td>\n",
              "    </tr>\n",
              "    <tr>\n",
              "      <td>4</td>\n",
              "      <td>0.021800</td>\n",
              "      <td>0.218970</td>\n",
              "      <td>0.890797</td>\n",
              "      <td>0.933333</td>\n",
              "      <td>0.911569</td>\n",
              "      <td>0.955619</td>\n",
              "    </tr>\n",
              "    <tr>\n",
              "      <td>5</td>\n",
              "      <td>0.010000</td>\n",
              "      <td>0.192148</td>\n",
              "      <td>0.900050</td>\n",
              "      <td>0.929039</td>\n",
              "      <td>0.914314</td>\n",
              "      <td>0.957589</td>\n",
              "    </tr>\n",
              "    <tr>\n",
              "      <td>6</td>\n",
              "      <td>0.009300</td>\n",
              "      <td>0.255153</td>\n",
              "      <td>0.898788</td>\n",
              "      <td>0.932515</td>\n",
              "      <td>0.915341</td>\n",
              "      <td>0.956333</td>\n",
              "    </tr>\n",
              "  </tbody>\n",
              "</table><p>\n",
              "    <div>\n",
              "      \n",
              "      <progress value='44' max='44' style='width:300px; height:20px; vertical-align: middle;'></progress>\n",
              "      [44/44 00:11]\n",
              "    </div>\n",
              "    "
            ],
            "text/plain": [
              "<IPython.core.display.HTML object>"
            ]
          },
          "metadata": {
            "tags": []
          }
        },
        {
          "output_type": "stream",
          "text": [
            "/usr/local/lib/python3.7/dist-packages/seqeval/metrics/v1.py:57: UndefinedMetricWarning: Precision and F-score are ill-defined and being set to 0.0 in labels with no predicted samples. Use `zero_division` parameter to control this behavior.\n",
            "  _warn_prf(average, modifier, msg_start, len(result))\n"
          ],
          "name": "stderr"
        },
        {
          "output_type": "execute_result",
          "data": {
            "text/plain": [
              "{'AGE': {'f1': 0.8,\n",
              "  'number': 2,\n",
              "  'precision': 0.6666666666666666,\n",
              "  'recall': 1.0},\n",
              " 'BOROUGH': {'f1': 0.0, 'number': 3, 'precision': 0.0, 'recall': 0.0},\n",
              " 'CARDINAL': {'f1': 0.8652482269503546,\n",
              "  'number': 141,\n",
              "  'precision': 0.8652482269503546,\n",
              "  'recall': 0.8652482269503546},\n",
              " 'CITY': {'f1': 0.8373493975903615,\n",
              "  'number': 157,\n",
              "  'precision': 0.7942857142857143,\n",
              "  'recall': 0.8853503184713376},\n",
              " 'COUNTRY': {'f1': 0.9533306741124851,\n",
              "  'number': 1220,\n",
              "  'precision': 0.9285159285159286,\n",
              "  'recall': 0.9795081967213115},\n",
              " 'CURRENCY': {'f1': 0.6666666666666666,\n",
              "  'number': 18,\n",
              "  'precision': 0.5,\n",
              "  'recall': 1.0},\n",
              " 'DATE': {'f1': 0.7776793622674933,\n",
              "  'number': 532,\n",
              "  'precision': 0.7353433835845896,\n",
              "  'recall': 0.825187969924812},\n",
              " 'EVENT': {'f1': 0.8461538461538461,\n",
              "  'number': 80,\n",
              "  'precision': 0.868421052631579,\n",
              "  'recall': 0.825},\n",
              " 'FAC': {'f1': 0.8619246861924686,\n",
              "  'number': 123,\n",
              "  'precision': 0.8879310344827587,\n",
              "  'recall': 0.8373983739837398},\n",
              " 'FAMILY': {'f1': 1.0, 'number': 1, 'precision': 1.0, 'recall': 1.0},\n",
              " 'GPE': {'f1': 0.8329177057356608,\n",
              "  'number': 211,\n",
              "  'precision': 0.8789473684210526,\n",
              "  'recall': 0.7914691943127962},\n",
              " 'GROUP': {'f1': 0.7380952380952381,\n",
              "  'number': 43,\n",
              "  'precision': 0.7560975609756098,\n",
              "  'recall': 0.7209302325581395},\n",
              " 'LAW': {'f1': 0.8108108108108107,\n",
              "  'number': 17,\n",
              "  'precision': 0.75,\n",
              "  'recall': 0.8823529411764706},\n",
              " 'LOCATION': {'f1': 0.7169811320754716,\n",
              "  'number': 33,\n",
              "  'precision': 0.95,\n",
              "  'recall': 0.5757575757575758},\n",
              " 'MISC': {'f1': 0.0, 'number': 3, 'precision': 0.0, 'recall': 0.0},\n",
              " 'MONEY': {'f1': 0.8579881656804734,\n",
              "  'number': 330,\n",
              "  'precision': 0.838150289017341,\n",
              "  'recall': 0.8787878787878788},\n",
              " 'NATIONALITY': {'f1': 0.35714285714285715,\n",
              "  'number': 21,\n",
              "  'precision': 0.7142857142857143,\n",
              "  'recall': 0.23809523809523808},\n",
              " 'NORP': {'f1': 0.6571428571428571,\n",
              "  'number': 66,\n",
              "  'precision': 0.6216216216216216,\n",
              "  'recall': 0.696969696969697},\n",
              " 'ORDINAL': {'f1': 0.8571428571428571,\n",
              "  'number': 29,\n",
              "  'precision': 0.7941176470588235,\n",
              "  'recall': 0.9310344827586207},\n",
              " 'ORGANIZATION': {'f1': 0.9431235431235431,\n",
              "  'number': 4216,\n",
              "  'precision': 0.9271310724106324,\n",
              "  'recall': 0.9596774193548387},\n",
              " 'PERCENT': {'f1': 0.8421052631578948,\n",
              "  'number': 135,\n",
              "  'precision': 0.757396449704142,\n",
              "  'recall': 0.9481481481481482},\n",
              " 'PERSON': {'f1': 0.9779847586790855,\n",
              "  'number': 1181,\n",
              "  'precision': 0.9779847586790855,\n",
              "  'recall': 0.9779847586790855},\n",
              " 'PRODUCT': {'f1': 0.8736842105263158,\n",
              "  'number': 95,\n",
              "  'precision': 0.8736842105263158,\n",
              "  'recall': 0.8736842105263158},\n",
              " 'PROFESSION': {'f1': 0.9114997350291467,\n",
              "  'number': 933,\n",
              "  'precision': 0.9014675052410901,\n",
              "  'recall': 0.9217577706323687},\n",
              " 'QUANTITY': {'f1': 0.8841201716738197,\n",
              "  'number': 115,\n",
              "  'precision': 0.8728813559322034,\n",
              "  'recall': 0.8956521739130435},\n",
              " 'REGION': {'f1': 0.893939393939394,\n",
              "  'number': 60,\n",
              "  'precision': 0.8194444444444444,\n",
              "  'recall': 0.9833333333333333},\n",
              " 'TIME': {'f1': 0.5714285714285714,\n",
              "  'number': 7,\n",
              "  'precision': 0.42857142857142855,\n",
              "  'recall': 0.8571428571428571},\n",
              " 'TOWN_OR_VILLAGE': {'f1': 0.0, 'number': 3, 'precision': 0.0, 'recall': 0.0},\n",
              " 'WORK_OF_ART': {'f1': 0.5714285714285715,\n",
              "  'number': 5,\n",
              "  'precision': 1.0,\n",
              "  'recall': 0.4},\n",
              " 'overall_accuracy': 0.9594509752982183,\n",
              " 'overall_f1': 0.9166875910209411,\n",
              " 'overall_precision': 0.900720418434817,\n",
              " 'overall_recall': 0.9332310838445808}"
            ]
          },
          "metadata": {
            "tags": []
          },
          "execution_count": 29
        }
      ]
    },
    {
      "cell_type": "code",
      "metadata": {
        "id": "7wNViuG4YV_8"
      },
      "source": [
        "from transformers import RobertaTokenizerFast, RobertaForTokenClassification\n",
        "t = RobertaTokenizerFast.from_pretrained('/content/test-ner_fp16/checkpoint-2000', add_prefix_space=True)\n",
        "m = RobertaForTokenClassification.from_pretrained('/content/test-ner_fp16/checkpoint-2000')\n",
        "#t.decode(t.encode('Привет мир'))"
      ],
      "execution_count": null,
      "outputs": []
    },
    {
      "cell_type": "code",
      "metadata": {
        "colab": {
          "base_uri": "https://localhost:8080/"
        },
        "id": "1tCx1Rx_n8Sm",
        "outputId": "598a9180-8f5c-4305-cec8-4cf8a024264b"
      },
      "source": [
        "from transformers import pipeline\n",
        "\n",
        "nlp = pipeline(\"ner\", model=trainer.model, \n",
        "               tokenizer=trainer.tokenizer, \n",
        "               ignore_labels=['O'], \n",
        "               aggregation_strategy=\"first\",\n",
        "               device=0)\n",
        "example = '« Сила Сибири » — газотранспортная система , предполагающая транспортировку газа Якутского ( на базе Чаяндинского месторождения , запасы газа — 1,2 триллиона кубометров ) и Иркутского ( на базе Ковыктинского месторождения , запасы газа — 1,5 триллиона кубометров ) центров газодобычи на Дальний Восток России и в Китай .'\n",
        "\n",
        "ner_results = nlp([example])\n",
        "print(ner_results)"
      ],
      "execution_count": null,
      "outputs": [
        {
          "output_type": "stream",
          "text": [
            "[{'entity_group': 'FAC', 'score': 0.9991903, 'word': 'Сила Сибири', 'start': 2, 'end': 13}, {'entity_group': 'REGION', 'score': 0.99940974, 'word': 'Якутского', 'start': 81, 'end': 90}, {'entity_group': 'FAC', 'score': 0.9996655, 'word': 'Чаяндинского месторождения', 'start': 101, 'end': 127}, {'entity_group': 'QUANTITY', 'score': 0.9981783, 'word': '1', 'start': 144, 'end': 145}, {'entity_group': 'QUANTITY', 'score': 0.99783045, 'word': ',', 'start': 145, 'end': 146}, {'entity_group': 'QUANTITY', 'score': 0.9989669, 'word': '2 триллиона кубометров', 'start': 146, 'end': 168}, {'entity_group': 'CITY', 'score': 0.9993848, 'word': 'Иркутского', 'start': 173, 'end': 183}, {'entity_group': 'FAC', 'score': 0.9993764, 'word': 'Ковыктинского месторождения', 'start': 194, 'end': 221}, {'entity_group': 'QUANTITY', 'score': 0.99860233, 'word': '1', 'start': 238, 'end': 239}, {'entity_group': 'QUANTITY', 'score': 0.9987184, 'word': ',', 'start': 239, 'end': 240}, {'entity_group': 'QUANTITY', 'score': 0.9992898, 'word': '5 триллиона кубометров', 'start': 240, 'end': 262}, {'entity_group': 'REGION', 'score': 0.99472356, 'word': 'Дальний Восток', 'start': 287, 'end': 301}, {'entity_group': 'COUNTRY', 'score': 0.9994811, 'word': 'России', 'start': 302, 'end': 308}, {'entity_group': 'COUNTRY', 'score': 0.9994684, 'word': 'Китай', 'start': 313, 'end': 318}]\n"
          ],
          "name": "stdout"
        }
      ]
    },
    {
      "cell_type": "code",
      "metadata": {
        "id": "pdRidTg2rvOv"
      },
      "source": [
        "!cp -r /content/tiny_bert_083_ner_rured /content/drive/MyDrive/OKPD2/"
      ],
      "execution_count": null,
      "outputs": []
    },
    {
      "cell_type": "code",
      "metadata": {
        "colab": {
          "base_uri": "https://localhost:8080/"
        },
        "id": "17lo9I_4ZYmn",
        "outputId": "2a0cd1ca-d239-4d67-d606-9ff0774200b1"
      },
      "source": [
        "from transformers import AutoTokenizer, AutoModelForTokenClassification\n",
        "from transformers import pipeline\n",
        "\n",
        "tokenizer = AutoTokenizer.from_pretrained(\"/content/test-ner_fp16/checkpoint-2000\")\n",
        "model = AutoModelForTokenClassification.from_pretrained(\"/content/test-ner_fp16/checkpoint-2000\")\n",
        "\n",
        "nlp = pipeline(\"ner\", model=model, tokenizer=tokenizer)\n",
        "example = '« Сила Сибири » — газотранспортная система , предполагающая транспортировку газа Якутского ( на базе Чаяндинского месторождения , запасы газа — 1,2 триллиона кубометров ) и Иркутского ( на базе Ковыктинского месторождения , запасы газа — 1,5 триллиона кубометров ) центров газодобычи на Дальний Восток России и в Китай .'\n",
        "\n",
        "ner_results = nlp(example)\n",
        "print(ner_results)"
      ],
      "execution_count": null,
      "outputs": [
        {
          "output_type": "stream",
          "text": [
            "Asking to truncate to max_length but no maximum length is provided and the model has no predefined maximum length. Default to no truncation.\n"
          ],
          "name": "stderr"
        },
        {
          "output_type": "stream",
          "text": [
            "[{'entity': 'LABEL_58', 'score': 0.86808175, 'index': 1, 'word': 'ĠÂ«', 'start': 0, 'end': 1}, {'entity': 'LABEL_8', 'score': 0.970511, 'index': 2, 'word': 'ĠÐ¡Ð¸Ð»Ð°', 'start': 2, 'end': 6}, {'entity': 'LABEL_6', 'score': 0.9930862, 'index': 3, 'word': 'ĠÐ¡Ð¸Ð±Ð¸ÑĢÐ¸', 'start': 7, 'end': 13}, {'entity': 'LABEL_58', 'score': 0.9504147, 'index': 4, 'word': 'ĠÂ»', 'start': 14, 'end': 15}, {'entity': 'LABEL_58', 'score': 0.99993324, 'index': 5, 'word': 'ĠâĢĶ', 'start': 16, 'end': 17}, {'entity': 'LABEL_58', 'score': 0.98662496, 'index': 6, 'word': 'ĠÐ³Ð°Ð·', 'start': 18, 'end': 21}, {'entity': 'LABEL_58', 'score': 0.9868701, 'index': 7, 'word': 'Ð¾ÑĤ', 'start': 21, 'end': 23}, {'entity': 'LABEL_58', 'score': 0.9815001, 'index': 8, 'word': 'ÑĢÐ°Ð½', 'start': 23, 'end': 26}, {'entity': 'LABEL_58', 'score': 0.9805196, 'index': 9, 'word': 'ÑģÐ¿Ð¾ÑĢÑĤ', 'start': 26, 'end': 31}, {'entity': 'LABEL_58', 'score': 0.9790235, 'index': 10, 'word': 'Ð½Ð°Ñı', 'start': 31, 'end': 34}, {'entity': 'LABEL_58', 'score': 0.9804518, 'index': 11, 'word': 'ĠÑģÐ¸ÑģÑĤÐµÐ¼Ð°', 'start': 35, 'end': 42}, {'entity': 'LABEL_58', 'score': 0.998174, 'index': 12, 'word': 'Ġ,', 'start': 43, 'end': 44}, {'entity': 'LABEL_58', 'score': 0.99994946, 'index': 13, 'word': 'ĠÐ¿ÑĢÐµÐ´Ð¿Ð¾Ð»Ð°Ð³', 'start': 45, 'end': 54}, {'entity': 'LABEL_58', 'score': 0.9999371, 'index': 14, 'word': 'Ð°ÑİÑīÐ°Ñı', 'start': 54, 'end': 59}, {'entity': 'LABEL_58', 'score': 0.9999401, 'index': 15, 'word': 'ĠÑĤÑĢÐ°Ð½ÑģÐ¿Ð¾ÑĢÑĤ', 'start': 60, 'end': 69}, {'entity': 'LABEL_58', 'score': 0.9999405, 'index': 16, 'word': 'Ð¸ÑĢÐ¾Ð²ÐºÑĥ', 'start': 69, 'end': 75}, {'entity': 'LABEL_58', 'score': 0.99856776, 'index': 17, 'word': 'ĠÐ³Ð°Ð·Ð°', 'start': 76, 'end': 80}, {'entity': 'LABEL_36', 'score': 0.9254924, 'index': 18, 'word': 'ĠÐ¯ÐºÑĥÑĤ', 'start': 81, 'end': 85}, {'entity': 'LABEL_36', 'score': 0.74755275, 'index': 19, 'word': 'ÑģÐºÐ¾Ð³Ð¾', 'start': 85, 'end': 90}, {'entity': 'LABEL_58', 'score': 0.9997151, 'index': 20, 'word': 'Ġ(', 'start': 91, 'end': 92}, {'entity': 'LABEL_58', 'score': 0.99974006, 'index': 21, 'word': 'ĠÐ½Ð°', 'start': 93, 'end': 95}, {'entity': 'LABEL_58', 'score': 0.9995677, 'index': 22, 'word': 'ĠÐ±Ð°Ð·Ðµ', 'start': 96, 'end': 100}, {'entity': 'LABEL_8', 'score': 0.9877246, 'index': 23, 'word': 'ĠÐ§', 'start': 101, 'end': 102}, {'entity': 'LABEL_8', 'score': 0.9877944, 'index': 24, 'word': 'Ð°ÑıÐ½', 'start': 102, 'end': 105}, {'entity': 'LABEL_8', 'score': 0.98958254, 'index': 25, 'word': 'Ð´Ð¸Ð½', 'start': 105, 'end': 108}, {'entity': 'LABEL_8', 'score': 0.98806494, 'index': 26, 'word': 'ÑģÐºÐ¾Ð³Ð¾', 'start': 108, 'end': 113}, {'entity': 'LABEL_6', 'score': 0.97479546, 'index': 27, 'word': 'ĠÐ¼ÐµÑģÑĤÐ¾ÑĢÐ¾Ð¶Ð´ÐµÐ½Ð¸Ñı', 'start': 114, 'end': 127}, {'entity': 'LABEL_58', 'score': 0.99987656, 'index': 28, 'word': 'Ġ,', 'start': 128, 'end': 129}, {'entity': 'LABEL_58', 'score': 0.9998644, 'index': 29, 'word': 'ĠÐ·Ð°Ð¿Ð°ÑģÑĭ', 'start': 130, 'end': 136}, {'entity': 'LABEL_58', 'score': 0.9988727, 'index': 30, 'word': 'ĠÐ³Ð°Ð·Ð°', 'start': 137, 'end': 141}, {'entity': 'LABEL_58', 'score': 0.99980474, 'index': 31, 'word': 'ĠâĢĶ', 'start': 142, 'end': 143}, {'entity': 'LABEL_19', 'score': 0.9313736, 'index': 32, 'word': 'Ġ1', 'start': 144, 'end': 145}, {'entity': 'LABEL_19', 'score': 0.9173496, 'index': 33, 'word': ',', 'start': 145, 'end': 146}, {'entity': 'LABEL_19', 'score': 0.92542714, 'index': 34, 'word': '2', 'start': 146, 'end': 147}, {'entity': 'LABEL_38', 'score': 0.94630706, 'index': 35, 'word': 'ĠÑĤÑĢÐ¸Ð»Ð»Ð¸', 'start': 148, 'end': 154}, {'entity': 'LABEL_38', 'score': 0.9414679, 'index': 36, 'word': 'Ð¾Ð½Ð°', 'start': 154, 'end': 157}, {'entity': 'LABEL_38', 'score': 0.95461124, 'index': 37, 'word': 'ĠÐºÑĥÐ±Ð¾Ð¼ÐµÑĤÑĢÐ¾Ð²', 'start': 158, 'end': 168}, {'entity': 'LABEL_58', 'score': 0.9998348, 'index': 38, 'word': 'Ġ)', 'start': 169, 'end': 170}, {'entity': 'LABEL_58', 'score': 0.9999217, 'index': 39, 'word': 'ĠÐ¸', 'start': 171, 'end': 172}, {'entity': 'LABEL_28', 'score': 0.91843826, 'index': 40, 'word': 'ĠÐĺÑĢÐºÑĥÑĤ', 'start': 173, 'end': 178}, {'entity': 'LABEL_28', 'score': 0.8369706, 'index': 41, 'word': 'ÑģÐºÐ¾Ð³Ð¾', 'start': 178, 'end': 183}, {'entity': 'LABEL_58', 'score': 0.99978757, 'index': 42, 'word': 'Ġ(', 'start': 184, 'end': 185}, {'entity': 'LABEL_58', 'score': 0.9998207, 'index': 43, 'word': 'ĠÐ½Ð°', 'start': 186, 'end': 188}, {'entity': 'LABEL_58', 'score': 0.9995258, 'index': 44, 'word': 'ĠÐ±Ð°Ð·Ðµ', 'start': 189, 'end': 193}, {'entity': 'LABEL_8', 'score': 0.9860863, 'index': 45, 'word': 'ĠÐļ', 'start': 194, 'end': 195}, {'entity': 'LABEL_8', 'score': 0.9839619, 'index': 46, 'word': 'Ð¾Ð²Ñĭ', 'start': 195, 'end': 198}, {'entity': 'LABEL_8', 'score': 0.98310614, 'index': 47, 'word': 'ÐºÑĤ', 'start': 198, 'end': 200}, {'entity': 'LABEL_8', 'score': 0.986231, 'index': 48, 'word': 'Ð¸Ð½ÑģÐºÐ¾Ð³Ð¾', 'start': 200, 'end': 207}, {'entity': 'LABEL_6', 'score': 0.9732582, 'index': 49, 'word': 'ĠÐ¼ÐµÑģÑĤÐ¾ÑĢÐ¾Ð¶Ð´ÐµÐ½Ð¸Ñı', 'start': 208, 'end': 221}, {'entity': 'LABEL_58', 'score': 0.9998604, 'index': 50, 'word': 'Ġ,', 'start': 222, 'end': 223}, {'entity': 'LABEL_58', 'score': 0.99986804, 'index': 51, 'word': 'ĠÐ·Ð°Ð¿Ð°ÑģÑĭ', 'start': 224, 'end': 230}, {'entity': 'LABEL_58', 'score': 0.9989674, 'index': 52, 'word': 'ĠÐ³Ð°Ð·Ð°', 'start': 231, 'end': 235}, {'entity': 'LABEL_58', 'score': 0.99979156, 'index': 53, 'word': 'ĠâĢĶ', 'start': 236, 'end': 237}, {'entity': 'LABEL_19', 'score': 0.9221251, 'index': 54, 'word': 'Ġ1', 'start': 238, 'end': 239}, {'entity': 'LABEL_19', 'score': 0.90097356, 'index': 55, 'word': ',', 'start': 239, 'end': 240}, {'entity': 'LABEL_19', 'score': 0.9123913, 'index': 56, 'word': '5', 'start': 240, 'end': 241}, {'entity': 'LABEL_38', 'score': 0.938948, 'index': 57, 'word': 'ĠÑĤÑĢÐ¸Ð»Ð»Ð¸', 'start': 242, 'end': 248}, {'entity': 'LABEL_38', 'score': 0.9338987, 'index': 58, 'word': 'Ð¾Ð½Ð°', 'start': 248, 'end': 251}, {'entity': 'LABEL_38', 'score': 0.95149344, 'index': 59, 'word': 'ĠÐºÑĥÐ±Ð¾Ð¼ÐµÑĤÑĢÐ¾Ð²', 'start': 252, 'end': 262}, {'entity': 'LABEL_58', 'score': 0.99981487, 'index': 60, 'word': 'Ġ)', 'start': 263, 'end': 264}, {'entity': 'LABEL_58', 'score': 0.99902713, 'index': 61, 'word': 'ĠÑĨÐµÐ½ÑĤÑĢÐ¾Ð²', 'start': 265, 'end': 272}, {'entity': 'LABEL_58', 'score': 0.99911505, 'index': 62, 'word': 'ĠÐ³Ð°Ð·', 'start': 273, 'end': 276}, {'entity': 'LABEL_58', 'score': 0.9995723, 'index': 63, 'word': 'Ð¾Ð´', 'start': 276, 'end': 278}, {'entity': 'LABEL_58', 'score': 0.99971443, 'index': 64, 'word': 'Ð¾Ð±Ñĭ', 'start': 278, 'end': 281}, {'entity': 'LABEL_58', 'score': 0.9997219, 'index': 65, 'word': 'ÑĩÐ¸', 'start': 281, 'end': 283}, {'entity': 'LABEL_58', 'score': 0.99990165, 'index': 66, 'word': 'ĠÐ½Ð°', 'start': 284, 'end': 286}, {'entity': 'LABEL_36', 'score': 0.9847833, 'index': 67, 'word': 'ĠÐĶÐ°Ð»ÑĮ', 'start': 287, 'end': 291}, {'entity': 'LABEL_36', 'score': 0.9831108, 'index': 68, 'word': 'Ð½Ð¸Ð¹', 'start': 291, 'end': 294}, {'entity': 'LABEL_43', 'score': 0.8125689, 'index': 69, 'word': 'ĠÐĴÐ¾ÑģÑĤÐ¾Ðº', 'start': 295, 'end': 301}, {'entity': 'LABEL_0', 'score': 0.9951176, 'index': 70, 'word': 'ĠÐłÐ¾ÑģÑģÐ¸Ð¸', 'start': 302, 'end': 308}, {'entity': 'LABEL_58', 'score': 0.99991125, 'index': 71, 'word': 'ĠÐ¸', 'start': 309, 'end': 310}, {'entity': 'LABEL_58', 'score': 0.9997497, 'index': 72, 'word': 'ĠÐ²', 'start': 311, 'end': 312}, {'entity': 'LABEL_0', 'score': 0.99935055, 'index': 73, 'word': 'ĠÐļÐ¸ÑĤÐ°Ð¹', 'start': 313, 'end': 318}, {'entity': 'LABEL_58', 'score': 0.99994963, 'index': 74, 'word': 'Ġ.', 'start': 319, 'end': 320}]\n"
          ],
          "name": "stdout"
        }
      ]
    },
    {
      "cell_type": "code",
      "metadata": {
        "id": "PpnqQGOZWhY4"
      },
      "source": [
        "from transformers import AutoTokenizer, AutoModelForTokenClassification\n",
        "from transformers import pipeline\n",
        "\n",
        "#tokenizer = AutoTokenizer.from_pretrained(\"/content/drive/MyDrive/ранхигс/rured2021_01_12\")\n",
        "#model = AutoModelForTokenClassification.from_pretrained(\"/content/drive/MyDrive/ранхигс/rured2021_01_12\")\n",
        "tokenizer_ner = AutoTokenizer.from_pretrained(\n",
        "            'sberbank-ai/ruRoberta-large',\n",
        "#            use_fast=True,\n",
        "#            add_prefix_space=True,\n",
        "            lower_case=False\n",
        "        )\n",
        "\n",
        "nlp = pipeline(\"ner\", model=trainer.model, tokenizer=trainer.tokenizer, ignore_labels=[], \n",
        "               #aggregation_strategy=\"average\",\n",
        "               device=0)\n",
        "example = '« Сила Сибири » — газотранспортная система , предполагающая транспортировку газа Якутского ( на базе Чаяндинского месторождения , запасы газа — 1,2 триллиона кубометров ) и Иркутского ( на базе Ковыктинского месторождения , запасы газа — 1,5 триллиона кубометров ) центров газодобычи на Дальний Восток России и в Китай .'\n",
        "#example = train_texts[0]\n",
        "ner_results = nlp(example)\n",
        "#print(ner_results)\n",
        "print([i['word'] for i in ner_results])\n",
        "print([i['entity_group'] for i in ner_results])"
      ],
      "execution_count": null,
      "outputs": []
    },
    {
      "cell_type": "code",
      "metadata": {
        "id": "DbZK1LaAXqZi"
      },
      "source": [
        "from transformers import AutoTokenizer, AutoModelForTokenClassification\n",
        "from transformers import pipeline\n",
        "\n",
        "tokenizer = AutoTokenizer.from_pretrained(\"dslim/bert-base-NER\")\n",
        "model = AutoModelForTokenClassification.from_pretrained(\"dslim/bert-base-NER\")\n",
        "\n",
        "nlp = pipeline(\"ner\", model=model, tokenizer=tokenizer)\n",
        "example = \"My name is Wolfgang and I live in Berlin\"\n",
        "\n",
        "ner_results = nlp(example)\n",
        "print(ner_results)"
      ],
      "execution_count": null,
      "outputs": []
    },
    {
      "cell_type": "markdown",
      "metadata": {
        "id": "jxBWiMpYvzdi"
      },
      "source": [
        "## другая модель берта, дообученая сначало на ИБ датасете (результат хуже)"
      ]
    },
    {
      "cell_type": "code",
      "metadata": {
        "colab": {
          "base_uri": "https://localhost:8080/"
        },
        "id": "0WfBckhTcE6u",
        "outputId": "5a9d9ccc-fbda-4b3e-f7c5-e2090b69f39e"
      },
      "source": [
        "!pip install gdown"
      ],
      "execution_count": null,
      "outputs": [
        {
          "output_type": "stream",
          "text": [
            "Requirement already satisfied: gdown in /usr/local/lib/python3.7/dist-packages (3.6.4)\n",
            "Requirement already satisfied: tqdm in /usr/local/lib/python3.7/dist-packages (from gdown) (4.41.1)\n",
            "Requirement already satisfied: six in /usr/local/lib/python3.7/dist-packages (from gdown) (1.15.0)\n",
            "Requirement already satisfied: requests in /usr/local/lib/python3.7/dist-packages (from gdown) (2.23.0)\n",
            "Requirement already satisfied: chardet<4,>=3.0.2 in /usr/local/lib/python3.7/dist-packages (from requests->gdown) (3.0.4)\n",
            "Requirement already satisfied: certifi>=2017.4.17 in /usr/local/lib/python3.7/dist-packages (from requests->gdown) (2021.5.30)\n",
            "Requirement already satisfied: idna<3,>=2.5 in /usr/local/lib/python3.7/dist-packages (from requests->gdown) (2.10)\n",
            "Requirement already satisfied: urllib3!=1.25.0,!=1.25.1,<1.26,>=1.21.1 in /usr/local/lib/python3.7/dist-packages (from requests->gdown) (1.24.3)\n"
          ],
          "name": "stdout"
        }
      ]
    },
    {
      "cell_type": "code",
      "metadata": {
        "colab": {
          "base_uri": "https://localhost:8080/"
        },
        "id": "CzYXQI2ucGq0",
        "outputId": "6b04e318-ffb6-4ebb-db08-1ab2a2fb6f82"
      },
      "source": [
        "!gdown --id 1JEbXaQjNd51vtaIGjw3MHr60qWgxQzbH"
      ],
      "execution_count": null,
      "outputs": [
        {
          "output_type": "stream",
          "text": [
            "Downloading...\n",
            "From: https://drive.google.com/uc?id=1JEbXaQjNd51vtaIGjw3MHr60qWgxQzbH\n",
            "To: /content/rucybert.7z\n",
            "491MB [00:02, 199MB/s]\n"
          ],
          "name": "stdout"
        }
      ]
    },
    {
      "cell_type": "code",
      "metadata": {
        "colab": {
          "base_uri": "https://localhost:8080/"
        },
        "id": "Iv2B5T_wcM1p",
        "outputId": "81877038-bcd5-4e4b-a310-9de92e5455cf"
      },
      "source": [
        "!7z x /content/rucybert.7z"
      ],
      "execution_count": null,
      "outputs": [
        {
          "output_type": "stream",
          "text": [
            "\n",
            "7-Zip [64] 16.02 : Copyright (c) 1999-2016 Igor Pavlov : 2016-05-21\n",
            "p7zip Version 16.02 (locale=en_US.UTF-8,Utf16=on,HugeFiles=on,64 bits,4 CPUs Intel(R) Xeon(R) CPU @ 2.00GHz (50653),ASM,AES-NI)\n",
            "\n",
            "Scanning the drive for archives:\n",
            "  0M Scan /content/\b\b\b\b\b\b\b\b\b\b\b\b\b\b\b\b\b\b\b                   \b\b\b\b\b\b\b\b\b\b\b\b\b\b\b\b\b\b\b1 file, 490588894 bytes (468 MiB)\n",
            "\n",
            "Extracting archive: /content/rucybert.7z\n",
            "--\n",
            "Path = /content/rucybert.7z\n",
            "Type = 7z\n",
            "Physical Size = 490588894\n",
            "Headers Size = 315\n",
            "Method = LZMA2:24\n",
            "Solid = +\n",
            "Blocks = 1\n",
            "\n",
            "  0%\b\b\b\b    \b\b\b\b  0% 3 - rucybert_70_torch/pytorch_model.bin\b\b\b\b\b\b\b\b\b\b\b\b\b\b\b\b\b\b\b\b\b\b\b\b\b\b\b\b\b\b\b\b\b\b\b\b\b\b\b\b\b\b\b\b                                            \b\b\b\b\b\b\b\b\b\b\b\b\b\b\b\b\b\b\b\b\b\b\b\b\b\b\b\b\b\b\b\b\b\b\b\b\b\b\b\b\b\b\b\b  1% 3 - rucybert_70_torch/pytorch_model.bin\b\b\b\b\b\b\b\b\b\b\b\b\b\b\b\b\b\b\b\b\b\b\b\b\b\b\b\b\b\b\b\b\b\b\b\b\b\b\b\b\b\b\b\b                                            \b\b\b\b\b\b\b\b\b\b\b\b\b\b\b\b\b\b\b\b\b\b\b\b\b\b\b\b\b\b\b\b\b\b\b\b\b\b\b\b\b\b\b\b  2% 3 - rucybert_70_torch/pytorch_model.bin\b\b\b\b\b\b\b\b\b\b\b\b\b\b\b\b\b\b\b\b\b\b\b\b\b\b\b\b\b\b\b\b\b\b\b\b\b\b\b\b\b\b\b\b                                            \b\b\b\b\b\b\b\b\b\b\b\b\b\b\b\b\b\b\b\b\b\b\b\b\b\b\b\b\b\b\b\b\b\b\b\b\b\b\b\b\b\b\b\b  3% 3 - rucybert_70_torch/pytorch_model.bin\b\b\b\b\b\b\b\b\b\b\b\b\b\b\b\b\b\b\b\b\b\b\b\b\b\b\b\b\b\b\b\b\b\b\b\b\b\b\b\b\b\b\b\b                                            \b\b\b\b\b\b\b\b\b\b\b\b\b\b\b\b\b\b\b\b\b\b\b\b\b\b\b\b\b\b\b\b\b\b\b\b\b\b\b\b\b\b\b\b  4% 3 - rucybert_70_torch/pytorch_model.bin\b\b\b\b\b\b\b\b\b\b\b\b\b\b\b\b\b\b\b\b\b\b\b\b\b\b\b\b\b\b\b\b\b\b\b\b\b\b\b\b\b\b\b\b                                            \b\b\b\b\b\b\b\b\b\b\b\b\b\b\b\b\b\b\b\b\b\b\b\b\b\b\b\b\b\b\b\b\b\b\b\b\b\b\b\b\b\b\b\b  5% 3 - rucybert_70_torch/pytorch_model.bin\b\b\b\b\b\b\b\b\b\b\b\b\b\b\b\b\b\b\b\b\b\b\b\b\b\b\b\b\b\b\b\b\b\b\b\b\b\b\b\b\b\b\b\b                                            \b\b\b\b\b\b\b\b\b\b\b\b\b\b\b\b\b\b\b\b\b\b\b\b\b\b\b\b\b\b\b\b\b\b\b\b\b\b\b\b\b\b\b\b  6% 3 - rucybert_70_torch/pytorch_model.bin\b\b\b\b\b\b\b\b\b\b\b\b\b\b\b\b\b\b\b\b\b\b\b\b\b\b\b\b\b\b\b\b\b\b\b\b\b\b\b\b\b\b\b\b                                            \b\b\b\b\b\b\b\b\b\b\b\b\b\b\b\b\b\b\b\b\b\b\b\b\b\b\b\b\b\b\b\b\b\b\b\b\b\b\b\b\b\b\b\b  7% 3 - rucybert_70_torch/pytorch_model.bin\b\b\b\b\b\b\b\b\b\b\b\b\b\b\b\b\b\b\b\b\b\b\b\b\b\b\b\b\b\b\b\b\b\b\b\b\b\b\b\b\b\b\b\b                                            \b\b\b\b\b\b\b\b\b\b\b\b\b\b\b\b\b\b\b\b\b\b\b\b\b\b\b\b\b\b\b\b\b\b\b\b\b\b\b\b\b\b\b\b  8% 3 - rucybert_70_torch/pytorch_model.bin\b\b\b\b\b\b\b\b\b\b\b\b\b\b\b\b\b\b\b\b\b\b\b\b\b\b\b\b\b\b\b\b\b\b\b\b\b\b\b\b\b\b\b\b                                            \b\b\b\b\b\b\b\b\b\b\b\b\b\b\b\b\b\b\b\b\b\b\b\b\b\b\b\b\b\b\b\b\b\b\b\b\b\b\b\b\b\b\b\b  9% 3 - rucybert_70_torch/pytorch_model.bin\b\b\b\b\b\b\b\b\b\b\b\b\b\b\b\b\b\b\b\b\b\b\b\b\b\b\b\b\b\b\b\b\b\b\b\b\b\b\b\b\b\b\b\b                                            \b\b\b\b\b\b\b\b\b\b\b\b\b\b\b\b\b\b\b\b\b\b\b\b\b\b\b\b\b\b\b\b\b\b\b\b\b\b\b\b\b\b\b\b 10% 3 - rucybert_70_torch/pytorch_model.bin\b\b\b\b\b\b\b\b\b\b\b\b\b\b\b\b\b\b\b\b\b\b\b\b\b\b\b\b\b\b\b\b\b\b\b\b\b\b\b\b\b\b\b\b                                            \b\b\b\b\b\b\b\b\b\b\b\b\b\b\b\b\b\b\b\b\b\b\b\b\b\b\b\b\b\b\b\b\b\b\b\b\b\b\b\b\b\b\b\b 11% 3 - rucybert_70_torch/pytorch_model.bin\b\b\b\b\b\b\b\b\b\b\b\b\b\b\b\b\b\b\b\b\b\b\b\b\b\b\b\b\b\b\b\b\b\b\b\b\b\b\b\b\b\b\b\b                                            \b\b\b\b\b\b\b\b\b\b\b\b\b\b\b\b\b\b\b\b\b\b\b\b\b\b\b\b\b\b\b\b\b\b\b\b\b\b\b\b\b\b\b\b 12% 3 - rucybert_70_torch/pytorch_model.bin\b\b\b\b\b\b\b\b\b\b\b\b\b\b\b\b\b\b\b\b\b\b\b\b\b\b\b\b\b\b\b\b\b\b\b\b\b\b\b\b\b\b\b\b                                            \b\b\b\b\b\b\b\b\b\b\b\b\b\b\b\b\b\b\b\b\b\b\b\b\b\b\b\b\b\b\b\b\b\b\b\b\b\b\b\b\b\b\b\b 13% 3 - rucybert_70_torch/pytorch_model.bin\b\b\b\b\b\b\b\b\b\b\b\b\b\b\b\b\b\b\b\b\b\b\b\b\b\b\b\b\b\b\b\b\b\b\b\b\b\b\b\b\b\b\b\b                                            \b\b\b\b\b\b\b\b\b\b\b\b\b\b\b\b\b\b\b\b\b\b\b\b\b\b\b\b\b\b\b\b\b\b\b\b\b\b\b\b\b\b\b\b 14% 3 - rucybert_70_torch/pytorch_model.bin\b\b\b\b\b\b\b\b\b\b\b\b\b\b\b\b\b\b\b\b\b\b\b\b\b\b\b\b\b\b\b\b\b\b\b\b\b\b\b\b\b\b\b\b                                            \b\b\b\b\b\b\b\b\b\b\b\b\b\b\b\b\b\b\b\b\b\b\b\b\b\b\b\b\b\b\b\b\b\b\b\b\b\b\b\b\b\b\b\b 15% 3 - rucybert_70_torch/pytorch_model.bin\b\b\b\b\b\b\b\b\b\b\b\b\b\b\b\b\b\b\b\b\b\b\b\b\b\b\b\b\b\b\b\b\b\b\b\b\b\b\b\b\b\b\b\b                                            \b\b\b\b\b\b\b\b\b\b\b\b\b\b\b\b\b\b\b\b\b\b\b\b\b\b\b\b\b\b\b\b\b\b\b\b\b\b\b\b\b\b\b\b 16% 3 - rucybert_70_torch/pytorch_model.bin\b\b\b\b\b\b\b\b\b\b\b\b\b\b\b\b\b\b\b\b\b\b\b\b\b\b\b\b\b\b\b\b\b\b\b\b\b\b\b\b\b\b\b\b                                            \b\b\b\b\b\b\b\b\b\b\b\b\b\b\b\b\b\b\b\b\b\b\b\b\b\b\b\b\b\b\b\b\b\b\b\b\b\b\b\b\b\b\b\b 17% 3 - rucybert_70_torch/pytorch_model.bin\b\b\b\b\b\b\b\b\b\b\b\b\b\b\b\b\b\b\b\b\b\b\b\b\b\b\b\b\b\b\b\b\b\b\b\b\b\b\b\b\b\b\b\b                                            \b\b\b\b\b\b\b\b\b\b\b\b\b\b\b\b\b\b\b\b\b\b\b\b\b\b\b\b\b\b\b\b\b\b\b\b\b\b\b\b\b\b\b\b 18% 3 - rucybert_70_torch/pytorch_model.bin\b\b\b\b\b\b\b\b\b\b\b\b\b\b\b\b\b\b\b\b\b\b\b\b\b\b\b\b\b\b\b\b\b\b\b\b\b\b\b\b\b\b\b\b                                            \b\b\b\b\b\b\b\b\b\b\b\b\b\b\b\b\b\b\b\b\b\b\b\b\b\b\b\b\b\b\b\b\b\b\b\b\b\b\b\b\b\b\b\b 19% 3 - rucybert_70_torch/pytorch_model.bin\b\b\b\b\b\b\b\b\b\b\b\b\b\b\b\b\b\b\b\b\b\b\b\b\b\b\b\b\b\b\b\b\b\b\b\b\b\b\b\b\b\b\b\b                                            \b\b\b\b\b\b\b\b\b\b\b\b\b\b\b\b\b\b\b\b\b\b\b\b\b\b\b\b\b\b\b\b\b\b\b\b\b\b\b\b\b\b\b\b 20% 3 - rucybert_70_torch/pytorch_model.bin\b\b\b\b\b\b\b\b\b\b\b\b\b\b\b\b\b\b\b\b\b\b\b\b\b\b\b\b\b\b\b\b\b\b\b\b\b\b\b\b\b\b\b\b                                            \b\b\b\b\b\b\b\b\b\b\b\b\b\b\b\b\b\b\b\b\b\b\b\b\b\b\b\b\b\b\b\b\b\b\b\b\b\b\b\b\b\b\b\b 21% 3 - rucybert_70_torch/pytorch_model.bin\b\b\b\b\b\b\b\b\b\b\b\b\b\b\b\b\b\b\b\b\b\b\b\b\b\b\b\b\b\b\b\b\b\b\b\b\b\b\b\b\b\b\b\b                                            \b\b\b\b\b\b\b\b\b\b\b\b\b\b\b\b\b\b\b\b\b\b\b\b\b\b\b\b\b\b\b\b\b\b\b\b\b\b\b\b\b\b\b\b 22% 3 - rucybert_70_torch/pytorch_model.bin\b\b\b\b\b\b\b\b\b\b\b\b\b\b\b\b\b\b\b\b\b\b\b\b\b\b\b\b\b\b\b\b\b\b\b\b\b\b\b\b\b\b\b\b                                            \b\b\b\b\b\b\b\b\b\b\b\b\b\b\b\b\b\b\b\b\b\b\b\b\b\b\b\b\b\b\b\b\b\b\b\b\b\b\b\b\b\b\b\b 23% 3 - rucybert_70_torch/pytorch_model.bin\b\b\b\b\b\b\b\b\b\b\b\b\b\b\b\b\b\b\b\b\b\b\b\b\b\b\b\b\b\b\b\b\b\b\b\b\b\b\b\b\b\b\b\b                                            \b\b\b\b\b\b\b\b\b\b\b\b\b\b\b\b\b\b\b\b\b\b\b\b\b\b\b\b\b\b\b\b\b\b\b\b\b\b\b\b\b\b\b\b 24% 3 - rucybert_70_torch/pytorch_model.bin\b\b\b\b\b\b\b\b\b\b\b\b\b\b\b\b\b\b\b\b\b\b\b\b\b\b\b\b\b\b\b\b\b\b\b\b\b\b\b\b\b\b\b\b                                            \b\b\b\b\b\b\b\b\b\b\b\b\b\b\b\b\b\b\b\b\b\b\b\b\b\b\b\b\b\b\b\b\b\b\b\b\b\b\b\b\b\b\b\b 25% 3 - rucybert_70_torch/pytorch_model.bin\b\b\b\b\b\b\b\b\b\b\b\b\b\b\b\b\b\b\b\b\b\b\b\b\b\b\b\b\b\b\b\b\b\b\b\b\b\b\b\b\b\b\b\b                                            \b\b\b\b\b\b\b\b\b\b\b\b\b\b\b\b\b\b\b\b\b\b\b\b\b\b\b\b\b\b\b\b\b\b\b\b\b\b\b\b\b\b\b\b 26% 3 - rucybert_70_torch/pytorch_model.bin\b\b\b\b\b\b\b\b\b\b\b\b\b\b\b\b\b\b\b\b\b\b\b\b\b\b\b\b\b\b\b\b\b\b\b\b\b\b\b\b\b\b\b\b                                            \b\b\b\b\b\b\b\b\b\b\b\b\b\b\b\b\b\b\b\b\b\b\b\b\b\b\b\b\b\b\b\b\b\b\b\b\b\b\b\b\b\b\b\b 27% 3 - rucybert_70_torch/pytorch_model.bin\b\b\b\b\b\b\b\b\b\b\b\b\b\b\b\b\b\b\b\b\b\b\b\b\b\b\b\b\b\b\b\b\b\b\b\b\b\b\b\b\b\b\b\b                                            \b\b\b\b\b\b\b\b\b\b\b\b\b\b\b\b\b\b\b\b\b\b\b\b\b\b\b\b\b\b\b\b\b\b\b\b\b\b\b\b\b\b\b\b 28% 3 - rucybert_70_torch/pytorch_model.bin\b\b\b\b\b\b\b\b\b\b\b\b\b\b\b\b\b\b\b\b\b\b\b\b\b\b\b\b\b\b\b\b\b\b\b\b\b\b\b\b\b\b\b\b                                            \b\b\b\b\b\b\b\b\b\b\b\b\b\b\b\b\b\b\b\b\b\b\b\b\b\b\b\b\b\b\b\b\b\b\b\b\b\b\b\b\b\b\b\b 29% 3 - rucybert_70_torch/pytorch_model.bin\b\b\b\b\b\b\b\b\b\b\b\b\b\b\b\b\b\b\b\b\b\b\b\b\b\b\b\b\b\b\b\b\b\b\b\b\b\b\b\b\b\b\b\b                                            \b\b\b\b\b\b\b\b\b\b\b\b\b\b\b\b\b\b\b\b\b\b\b\b\b\b\b\b\b\b\b\b\b\b\b\b\b\b\b\b\b\b\b\b 30% 3 - rucybert_70_torch/pytorch_model.bin\b\b\b\b\b\b\b\b\b\b\b\b\b\b\b\b\b\b\b\b\b\b\b\b\b\b\b\b\b\b\b\b\b\b\b\b\b\b\b\b\b\b\b\b                                            \b\b\b\b\b\b\b\b\b\b\b\b\b\b\b\b\b\b\b\b\b\b\b\b\b\b\b\b\b\b\b\b\b\b\b\b\b\b\b\b\b\b\b\b 31% 3 - rucybert_70_torch/pytorch_model.bin\b\b\b\b\b\b\b\b\b\b\b\b\b\b\b\b\b\b\b\b\b\b\b\b\b\b\b\b\b\b\b\b\b\b\b\b\b\b\b\b\b\b\b\b                                            \b\b\b\b\b\b\b\b\b\b\b\b\b\b\b\b\b\b\b\b\b\b\b\b\b\b\b\b\b\b\b\b\b\b\b\b\b\b\b\b\b\b\b\b 32% 3 - rucybert_70_torch/pytorch_model.bin\b\b\b\b\b\b\b\b\b\b\b\b\b\b\b\b\b\b\b\b\b\b\b\b\b\b\b\b\b\b\b\b\b\b\b\b\b\b\b\b\b\b\b\b                                            \b\b\b\b\b\b\b\b\b\b\b\b\b\b\b\b\b\b\b\b\b\b\b\b\b\b\b\b\b\b\b\b\b\b\b\b\b\b\b\b\b\b\b\b 33% 3 - rucybert_70_torch/pytorch_model.bin\b\b\b\b\b\b\b\b\b\b\b\b\b\b\b\b\b\b\b\b\b\b\b\b\b\b\b\b\b\b\b\b\b\b\b\b\b\b\b\b\b\b\b\b                                            \b\b\b\b\b\b\b\b\b\b\b\b\b\b\b\b\b\b\b\b\b\b\b\b\b\b\b\b\b\b\b\b\b\b\b\b\b\b\b\b\b\b\b\b 34% 3 - rucybert_70_torch/pytorch_model.bin\b\b\b\b\b\b\b\b\b\b\b\b\b\b\b\b\b\b\b\b\b\b\b\b\b\b\b\b\b\b\b\b\b\b\b\b\b\b\b\b\b\b\b\b                                            \b\b\b\b\b\b\b\b\b\b\b\b\b\b\b\b\b\b\b\b\b\b\b\b\b\b\b\b\b\b\b\b\b\b\b\b\b\b\b\b\b\b\b\b 35% 3 - rucybert_70_torch/pytorch_model.bin\b\b\b\b\b\b\b\b\b\b\b\b\b\b\b\b\b\b\b\b\b\b\b\b\b\b\b\b\b\b\b\b\b\b\b\b\b\b\b\b\b\b\b\b                                            \b\b\b\b\b\b\b\b\b\b\b\b\b\b\b\b\b\b\b\b\b\b\b\b\b\b\b\b\b\b\b\b\b\b\b\b\b\b\b\b\b\b\b\b 36% 3 - rucybert_70_torch/pytorch_model.bin\b\b\b\b\b\b\b\b\b\b\b\b\b\b\b\b\b\b\b\b\b\b\b\b\b\b\b\b\b\b\b\b\b\b\b\b\b\b\b\b\b\b\b\b                                            \b\b\b\b\b\b\b\b\b\b\b\b\b\b\b\b\b\b\b\b\b\b\b\b\b\b\b\b\b\b\b\b\b\b\b\b\b\b\b\b\b\b\b\b 37% 3 - rucybert_70_torch/pytorch_model.bin\b\b\b\b\b\b\b\b\b\b\b\b\b\b\b\b\b\b\b\b\b\b\b\b\b\b\b\b\b\b\b\b\b\b\b\b\b\b\b\b\b\b\b\b                                            \b\b\b\b\b\b\b\b\b\b\b\b\b\b\b\b\b\b\b\b\b\b\b\b\b\b\b\b\b\b\b\b\b\b\b\b\b\b\b\b\b\b\b\b 38% 3 - rucybert_70_torch/pytorch_model.bin\b\b\b\b\b\b\b\b\b\b\b\b\b\b\b\b\b\b\b\b\b\b\b\b\b\b\b\b\b\b\b\b\b\b\b\b\b\b\b\b\b\b\b\b                                            \b\b\b\b\b\b\b\b\b\b\b\b\b\b\b\b\b\b\b\b\b\b\b\b\b\b\b\b\b\b\b\b\b\b\b\b\b\b\b\b\b\b\b\b 39% 3 - rucybert_70_torch/pytorch_model.bin\b\b\b\b\b\b\b\b\b\b\b\b\b\b\b\b\b\b\b\b\b\b\b\b\b\b\b\b\b\b\b\b\b\b\b\b\b\b\b\b\b\b\b\b                                            \b\b\b\b\b\b\b\b\b\b\b\b\b\b\b\b\b\b\b\b\b\b\b\b\b\b\b\b\b\b\b\b\b\b\b\b\b\b\b\b\b\b\b\b 40% 3 - rucybert_70_torch/pytorch_model.bin\b\b\b\b\b\b\b\b\b\b\b\b\b\b\b\b\b\b\b\b\b\b\b\b\b\b\b\b\b\b\b\b\b\b\b\b\b\b\b\b\b\b\b\b                                            \b\b\b\b\b\b\b\b\b\b\b\b\b\b\b\b\b\b\b\b\b\b\b\b\b\b\b\b\b\b\b\b\b\b\b\b\b\b\b\b\b\b\b\b 41% 3 - rucybert_70_torch/pytorch_model.bin\b\b\b\b\b\b\b\b\b\b\b\b\b\b\b\b\b\b\b\b\b\b\b\b\b\b\b\b\b\b\b\b\b\b\b\b\b\b\b\b\b\b\b\b                                            \b\b\b\b\b\b\b\b\b\b\b\b\b\b\b\b\b\b\b\b\b\b\b\b\b\b\b\b\b\b\b\b\b\b\b\b\b\b\b\b\b\b\b\b 42% 3 - rucybert_70_torch/pytorch_model.bin\b\b\b\b\b\b\b\b\b\b\b\b\b\b\b\b\b\b\b\b\b\b\b\b\b\b\b\b\b\b\b\b\b\b\b\b\b\b\b\b\b\b\b\b                                            \b\b\b\b\b\b\b\b\b\b\b\b\b\b\b\b\b\b\b\b\b\b\b\b\b\b\b\b\b\b\b\b\b\b\b\b\b\b\b\b\b\b\b\b 43% 3 - rucybert_70_torch/pytorch_model.bin\b\b\b\b\b\b\b\b\b\b\b\b\b\b\b\b\b\b\b\b\b\b\b\b\b\b\b\b\b\b\b\b\b\b\b\b\b\b\b\b\b\b\b\b                                            \b\b\b\b\b\b\b\b\b\b\b\b\b\b\b\b\b\b\b\b\b\b\b\b\b\b\b\b\b\b\b\b\b\b\b\b\b\b\b\b\b\b\b\b 44% 3 - rucybert_70_torch/pytorch_model.bin\b\b\b\b\b\b\b\b\b\b\b\b\b\b\b\b\b\b\b\b\b\b\b\b\b\b\b\b\b\b\b\b\b\b\b\b\b\b\b\b\b\b\b\b                                            \b\b\b\b\b\b\b\b\b\b\b\b\b\b\b\b\b\b\b\b\b\b\b\b\b\b\b\b\b\b\b\b\b\b\b\b\b\b\b\b\b\b\b\b 45% 3 - rucybert_70_torch/pytorch_model.bin\b\b\b\b\b\b\b\b\b\b\b\b\b\b\b\b\b\b\b\b\b\b\b\b\b\b\b\b\b\b\b\b\b\b\b\b\b\b\b\b\b\b\b\b                                            \b\b\b\b\b\b\b\b\b\b\b\b\b\b\b\b\b\b\b\b\b\b\b\b\b\b\b\b\b\b\b\b\b\b\b\b\b\b\b\b\b\b\b\b 46% 3 - rucybert_70_torch/pytorch_model.bin\b\b\b\b\b\b\b\b\b\b\b\b\b\b\b\b\b\b\b\b\b\b\b\b\b\b\b\b\b\b\b\b\b\b\b\b\b\b\b\b\b\b\b\b                                            \b\b\b\b\b\b\b\b\b\b\b\b\b\b\b\b\b\b\b\b\b\b\b\b\b\b\b\b\b\b\b\b\b\b\b\b\b\b\b\b\b\b\b\b 47% 3 - rucybert_70_torch/pytorch_model.bin\b\b\b\b\b\b\b\b\b\b\b\b\b\b\b\b\b\b\b\b\b\b\b\b\b\b\b\b\b\b\b\b\b\b\b\b\b\b\b\b\b\b\b\b                                            \b\b\b\b\b\b\b\b\b\b\b\b\b\b\b\b\b\b\b\b\b\b\b\b\b\b\b\b\b\b\b\b\b\b\b\b\b\b\b\b\b\b\b\b 48% 3 - rucybert_70_torch/pytorch_model.bin\b\b\b\b\b\b\b\b\b\b\b\b\b\b\b\b\b\b\b\b\b\b\b\b\b\b\b\b\b\b\b\b\b\b\b\b\b\b\b\b\b\b\b\b                                            \b\b\b\b\b\b\b\b\b\b\b\b\b\b\b\b\b\b\b\b\b\b\b\b\b\b\b\b\b\b\b\b\b\b\b\b\b\b\b\b\b\b\b\b 49% 3 - rucybert_70_torch/pytorch_model.bin\b\b\b\b\b\b\b\b\b\b\b\b\b\b\b\b\b\b\b\b\b\b\b\b\b\b\b\b\b\b\b\b\b\b\b\b\b\b\b\b\b\b\b\b                                            \b\b\b\b\b\b\b\b\b\b\b\b\b\b\b\b\b\b\b\b\b\b\b\b\b\b\b\b\b\b\b\b\b\b\b\b\b\b\b\b\b\b\b\b 50% 3 - rucybert_70_torch/pytorch_model.bin\b\b\b\b\b\b\b\b\b\b\b\b\b\b\b\b\b\b\b\b\b\b\b\b\b\b\b\b\b\b\b\b\b\b\b\b\b\b\b\b\b\b\b\b                                            \b\b\b\b\b\b\b\b\b\b\b\b\b\b\b\b\b\b\b\b\b\b\b\b\b\b\b\b\b\b\b\b\b\b\b\b\b\b\b\b\b\b\b\b 51% 3 - rucybert_70_torch/pytorch_model.bin\b\b\b\b\b\b\b\b\b\b\b\b\b\b\b\b\b\b\b\b\b\b\b\b\b\b\b\b\b\b\b\b\b\b\b\b\b\b\b\b\b\b\b\b                                            \b\b\b\b\b\b\b\b\b\b\b\b\b\b\b\b\b\b\b\b\b\b\b\b\b\b\b\b\b\b\b\b\b\b\b\b\b\b\b\b\b\b\b\b 52% 3 - rucybert_70_torch/pytorch_model.bin\b\b\b\b\b\b\b\b\b\b\b\b\b\b\b\b\b\b\b\b\b\b\b\b\b\b\b\b\b\b\b\b\b\b\b\b\b\b\b\b\b\b\b\b                                            \b\b\b\b\b\b\b\b\b\b\b\b\b\b\b\b\b\b\b\b\b\b\b\b\b\b\b\b\b\b\b\b\b\b\b\b\b\b\b\b\b\b\b\b 53% 3 - rucybert_70_torch/pytorch_model.bin\b\b\b\b\b\b\b\b\b\b\b\b\b\b\b\b\b\b\b\b\b\b\b\b\b\b\b\b\b\b\b\b\b\b\b\b\b\b\b\b\b\b\b\b                                            \b\b\b\b\b\b\b\b\b\b\b\b\b\b\b\b\b\b\b\b\b\b\b\b\b\b\b\b\b\b\b\b\b\b\b\b\b\b\b\b\b\b\b\b 54% 3 - rucybert_70_torch/pytorch_model.bin\b\b\b\b\b\b\b\b\b\b\b\b\b\b\b\b\b\b\b\b\b\b\b\b\b\b\b\b\b\b\b\b\b\b\b\b\b\b\b\b\b\b\b\b                                            \b\b\b\b\b\b\b\b\b\b\b\b\b\b\b\b\b\b\b\b\b\b\b\b\b\b\b\b\b\b\b\b\b\b\b\b\b\b\b\b\b\b\b\b 55% 3 - rucybert_70_torch/pytorch_model.bin\b\b\b\b\b\b\b\b\b\b\b\b\b\b\b\b\b\b\b\b\b\b\b\b\b\b\b\b\b\b\b\b\b\b\b\b\b\b\b\b\b\b\b\b                                            \b\b\b\b\b\b\b\b\b\b\b\b\b\b\b\b\b\b\b\b\b\b\b\b\b\b\b\b\b\b\b\b\b\b\b\b\b\b\b\b\b\b\b\b 56% 3 - rucybert_70_torch/pytorch_model.bin\b\b\b\b\b\b\b\b\b\b\b\b\b\b\b\b\b\b\b\b\b\b\b\b\b\b\b\b\b\b\b\b\b\b\b\b\b\b\b\b\b\b\b\b                                            \b\b\b\b\b\b\b\b\b\b\b\b\b\b\b\b\b\b\b\b\b\b\b\b\b\b\b\b\b\b\b\b\b\b\b\b\b\b\b\b\b\b\b\b 57% 3 - rucybert_70_torch/pytorch_model.bin\b\b\b\b\b\b\b\b\b\b\b\b\b\b\b\b\b\b\b\b\b\b\b\b\b\b\b\b\b\b\b\b\b\b\b\b\b\b\b\b\b\b\b\b                                            \b\b\b\b\b\b\b\b\b\b\b\b\b\b\b\b\b\b\b\b\b\b\b\b\b\b\b\b\b\b\b\b\b\b\b\b\b\b\b\b\b\b\b\b 58% 3 - rucybert_70_torch/pytorch_model.bin\b\b\b\b\b\b\b\b\b\b\b\b\b\b\b\b\b\b\b\b\b\b\b\b\b\b\b\b\b\b\b\b\b\b\b\b\b\b\b\b\b\b\b\b                                            \b\b\b\b\b\b\b\b\b\b\b\b\b\b\b\b\b\b\b\b\b\b\b\b\b\b\b\b\b\b\b\b\b\b\b\b\b\b\b\b\b\b\b\b 59% 3 - rucybert_70_torch/pytorch_model.bin\b\b\b\b\b\b\b\b\b\b\b\b\b\b\b\b\b\b\b\b\b\b\b\b\b\b\b\b\b\b\b\b\b\b\b\b\b\b\b\b\b\b\b\b                                            \b\b\b\b\b\b\b\b\b\b\b\b\b\b\b\b\b\b\b\b\b\b\b\b\b\b\b\b\b\b\b\b\b\b\b\b\b\b\b\b\b\b\b\b 60% 3 - rucybert_70_torch/pytorch_model.bin\b\b\b\b\b\b\b\b\b\b\b\b\b\b\b\b\b\b\b\b\b\b\b\b\b\b\b\b\b\b\b\b\b\b\b\b\b\b\b\b\b\b\b\b                                            \b\b\b\b\b\b\b\b\b\b\b\b\b\b\b\b\b\b\b\b\b\b\b\b\b\b\b\b\b\b\b\b\b\b\b\b\b\b\b\b\b\b\b\b 61% 3 - rucybert_70_torch/pytorch_model.bin\b\b\b\b\b\b\b\b\b\b\b\b\b\b\b\b\b\b\b\b\b\b\b\b\b\b\b\b\b\b\b\b\b\b\b\b\b\b\b\b\b\b\b\b                                            \b\b\b\b\b\b\b\b\b\b\b\b\b\b\b\b\b\b\b\b\b\b\b\b\b\b\b\b\b\b\b\b\b\b\b\b\b\b\b\b\b\b\b\b 62% 3 - rucybert_70_torch/pytorch_model.bin\b\b\b\b\b\b\b\b\b\b\b\b\b\b\b\b\b\b\b\b\b\b\b\b\b\b\b\b\b\b\b\b\b\b\b\b\b\b\b\b\b\b\b\b                                            \b\b\b\b\b\b\b\b\b\b\b\b\b\b\b\b\b\b\b\b\b\b\b\b\b\b\b\b\b\b\b\b\b\b\b\b\b\b\b\b\b\b\b\b 63% 3 - rucybert_70_torch/pytorch_model.bin\b\b\b\b\b\b\b\b\b\b\b\b\b\b\b\b\b\b\b\b\b\b\b\b\b\b\b\b\b\b\b\b\b\b\b\b\b\b\b\b\b\b\b\b                                            \b\b\b\b\b\b\b\b\b\b\b\b\b\b\b\b\b\b\b\b\b\b\b\b\b\b\b\b\b\b\b\b\b\b\b\b\b\b\b\b\b\b\b\b 64% 3 - rucybert_70_torch/pytorch_model.bin\b\b\b\b\b\b\b\b\b\b\b\b\b\b\b\b\b\b\b\b\b\b\b\b\b\b\b\b\b\b\b\b\b\b\b\b\b\b\b\b\b\b\b\b                                            \b\b\b\b\b\b\b\b\b\b\b\b\b\b\b\b\b\b\b\b\b\b\b\b\b\b\b\b\b\b\b\b\b\b\b\b\b\b\b\b\b\b\b\b 65% 3 - rucybert_70_torch/pytorch_model.bin\b\b\b\b\b\b\b\b\b\b\b\b\b\b\b\b\b\b\b\b\b\b\b\b\b\b\b\b\b\b\b\b\b\b\b\b\b\b\b\b\b\b\b\b                                            \b\b\b\b\b\b\b\b\b\b\b\b\b\b\b\b\b\b\b\b\b\b\b\b\b\b\b\b\b\b\b\b\b\b\b\b\b\b\b\b\b\b\b\b 66% 3 - rucybert_70_torch/pytorch_model.bin\b\b\b\b\b\b\b\b\b\b\b\b\b\b\b\b\b\b\b\b\b\b\b\b\b\b\b\b\b\b\b\b\b\b\b\b\b\b\b\b\b\b\b\b                                            \b\b\b\b\b\b\b\b\b\b\b\b\b\b\b\b\b\b\b\b\b\b\b\b\b\b\b\b\b\b\b\b\b\b\b\b\b\b\b\b\b\b\b\b 67% 3 - rucybert_70_torch/pytorch_model.bin\b\b\b\b\b\b\b\b\b\b\b\b\b\b\b\b\b\b\b\b\b\b\b\b\b\b\b\b\b\b\b\b\b\b\b\b\b\b\b\b\b\b\b\b                                            \b\b\b\b\b\b\b\b\b\b\b\b\b\b\b\b\b\b\b\b\b\b\b\b\b\b\b\b\b\b\b\b\b\b\b\b\b\b\b\b\b\b\b\b 68% 3 - rucybert_70_torch/pytorch_model.bin\b\b\b\b\b\b\b\b\b\b\b\b\b\b\b\b\b\b\b\b\b\b\b\b\b\b\b\b\b\b\b\b\b\b\b\b\b\b\b\b\b\b\b\b                                            \b\b\b\b\b\b\b\b\b\b\b\b\b\b\b\b\b\b\b\b\b\b\b\b\b\b\b\b\b\b\b\b\b\b\b\b\b\b\b\b\b\b\b\b 69% 3 - rucybert_70_torch/pytorch_model.bin\b\b\b\b\b\b\b\b\b\b\b\b\b\b\b\b\b\b\b\b\b\b\b\b\b\b\b\b\b\b\b\b\b\b\b\b\b\b\b\b\b\b\b\b                                            \b\b\b\b\b\b\b\b\b\b\b\b\b\b\b\b\b\b\b\b\b\b\b\b\b\b\b\b\b\b\b\b\b\b\b\b\b\b\b\b\b\b\b\b 70% 3 - rucybert_70_torch/pytorch_model.bin\b\b\b\b\b\b\b\b\b\b\b\b\b\b\b\b\b\b\b\b\b\b\b\b\b\b\b\b\b\b\b\b\b\b\b\b\b\b\b\b\b\b\b\b                                            \b\b\b\b\b\b\b\b\b\b\b\b\b\b\b\b\b\b\b\b\b\b\b\b\b\b\b\b\b\b\b\b\b\b\b\b\b\b\b\b\b\b\b\b 71% 3 - rucybert_70_torch/pytorch_model.bin\b\b\b\b\b\b\b\b\b\b\b\b\b\b\b\b\b\b\b\b\b\b\b\b\b\b\b\b\b\b\b\b\b\b\b\b\b\b\b\b\b\b\b\b                                            \b\b\b\b\b\b\b\b\b\b\b\b\b\b\b\b\b\b\b\b\b\b\b\b\b\b\b\b\b\b\b\b\b\b\b\b\b\b\b\b\b\b\b\b 72% 3 - rucybert_70_torch/pytorch_model.bin\b\b\b\b\b\b\b\b\b\b\b\b\b\b\b\b\b\b\b\b\b\b\b\b\b\b\b\b\b\b\b\b\b\b\b\b\b\b\b\b\b\b\b\b                                            \b\b\b\b\b\b\b\b\b\b\b\b\b\b\b\b\b\b\b\b\b\b\b\b\b\b\b\b\b\b\b\b\b\b\b\b\b\b\b\b\b\b\b\b 73% 3 - rucybert_70_torch/pytorch_model.bin\b\b\b\b\b\b\b\b\b\b\b\b\b\b\b\b\b\b\b\b\b\b\b\b\b\b\b\b\b\b\b\b\b\b\b\b\b\b\b\b\b\b\b\b                                            \b\b\b\b\b\b\b\b\b\b\b\b\b\b\b\b\b\b\b\b\b\b\b\b\b\b\b\b\b\b\b\b\b\b\b\b\b\b\b\b\b\b\b\b 74% 3 - rucybert_70_torch/pytorch_model.bin\b\b\b\b\b\b\b\b\b\b\b\b\b\b\b\b\b\b\b\b\b\b\b\b\b\b\b\b\b\b\b\b\b\b\b\b\b\b\b\b\b\b\b\b                                            \b\b\b\b\b\b\b\b\b\b\b\b\b\b\b\b\b\b\b\b\b\b\b\b\b\b\b\b\b\b\b\b\b\b\b\b\b\b\b\b\b\b\b\b 75% 3 - rucybert_70_torch/pytorch_model.bin\b\b\b\b\b\b\b\b\b\b\b\b\b\b\b\b\b\b\b\b\b\b\b\b\b\b\b\b\b\b\b\b\b\b\b\b\b\b\b\b\b\b\b\b                                            \b\b\b\b\b\b\b\b\b\b\b\b\b\b\b\b\b\b\b\b\b\b\b\b\b\b\b\b\b\b\b\b\b\b\b\b\b\b\b\b\b\b\b\b 76% 3 - rucybert_70_torch/pytorch_model.bin\b\b\b\b\b\b\b\b\b\b\b\b\b\b\b\b\b\b\b\b\b\b\b\b\b\b\b\b\b\b\b\b\b\b\b\b\b\b\b\b\b\b\b\b                                            \b\b\b\b\b\b\b\b\b\b\b\b\b\b\b\b\b\b\b\b\b\b\b\b\b\b\b\b\b\b\b\b\b\b\b\b\b\b\b\b\b\b\b\b 77% 3 - rucybert_70_torch/pytorch_model.bin\b\b\b\b\b\b\b\b\b\b\b\b\b\b\b\b\b\b\b\b\b\b\b\b\b\b\b\b\b\b\b\b\b\b\b\b\b\b\b\b\b\b\b\b                                            \b\b\b\b\b\b\b\b\b\b\b\b\b\b\b\b\b\b\b\b\b\b\b\b\b\b\b\b\b\b\b\b\b\b\b\b\b\b\b\b\b\b\b\b 78% 3 - rucybert_70_torch/pytorch_model.bin\b\b\b\b\b\b\b\b\b\b\b\b\b\b\b\b\b\b\b\b\b\b\b\b\b\b\b\b\b\b\b\b\b\b\b\b\b\b\b\b\b\b\b\b                                            \b\b\b\b\b\b\b\b\b\b\b\b\b\b\b\b\b\b\b\b\b\b\b\b\b\b\b\b\b\b\b\b\b\b\b\b\b\b\b\b\b\b\b\b 79% 3 - rucybert_70_torch/pytorch_model.bin\b\b\b\b\b\b\b\b\b\b\b\b\b\b\b\b\b\b\b\b\b\b\b\b\b\b\b\b\b\b\b\b\b\b\b\b\b\b\b\b\b\b\b\b                                            \b\b\b\b\b\b\b\b\b\b\b\b\b\b\b\b\b\b\b\b\b\b\b\b\b\b\b\b\b\b\b\b\b\b\b\b\b\b\b\b\b\b\b\b 80% 3 - rucybert_70_torch/pytorch_model.bin\b\b\b\b\b\b\b\b\b\b\b\b\b\b\b\b\b\b\b\b\b\b\b\b\b\b\b\b\b\b\b\b\b\b\b\b\b\b\b\b\b\b\b\b                                            \b\b\b\b\b\b\b\b\b\b\b\b\b\b\b\b\b\b\b\b\b\b\b\b\b\b\b\b\b\b\b\b\b\b\b\b\b\b\b\b\b\b\b\b 81% 3 - rucybert_70_torch/pytorch_model.bin\b\b\b\b\b\b\b\b\b\b\b\b\b\b\b\b\b\b\b\b\b\b\b\b\b\b\b\b\b\b\b\b\b\b\b\b\b\b\b\b\b\b\b\b                                            \b\b\b\b\b\b\b\b\b\b\b\b\b\b\b\b\b\b\b\b\b\b\b\b\b\b\b\b\b\b\b\b\b\b\b\b\b\b\b\b\b\b\b\b 82% 3 - rucybert_70_torch/pytorch_model.bin\b\b\b\b\b\b\b\b\b\b\b\b\b\b\b\b\b\b\b\b\b\b\b\b\b\b\b\b\b\b\b\b\b\b\b\b\b\b\b\b\b\b\b\b                                            \b\b\b\b\b\b\b\b\b\b\b\b\b\b\b\b\b\b\b\b\b\b\b\b\b\b\b\b\b\b\b\b\b\b\b\b\b\b\b\b\b\b\b\b 83% 3 - rucybert_70_torch/pytorch_model.bin\b\b\b\b\b\b\b\b\b\b\b\b\b\b\b\b\b\b\b\b\b\b\b\b\b\b\b\b\b\b\b\b\b\b\b\b\b\b\b\b\b\b\b\b                                            \b\b\b\b\b\b\b\b\b\b\b\b\b\b\b\b\b\b\b\b\b\b\b\b\b\b\b\b\b\b\b\b\b\b\b\b\b\b\b\b\b\b\b\b 84% 3 - rucybert_70_torch/pytorch_model.bin\b\b\b\b\b\b\b\b\b\b\b\b\b\b\b\b\b\b\b\b\b\b\b\b\b\b\b\b\b\b\b\b\b\b\b\b\b\b\b\b\b\b\b\b                                            \b\b\b\b\b\b\b\b\b\b\b\b\b\b\b\b\b\b\b\b\b\b\b\b\b\b\b\b\b\b\b\b\b\b\b\b\b\b\b\b\b\b\b\b 85% 3 - rucybert_70_torch/pytorch_model.bin\b\b\b\b\b\b\b\b\b\b\b\b\b\b\b\b\b\b\b\b\b\b\b\b\b\b\b\b\b\b\b\b\b\b\b\b\b\b\b\b\b\b\b\b                                            \b\b\b\b\b\b\b\b\b\b\b\b\b\b\b\b\b\b\b\b\b\b\b\b\b\b\b\b\b\b\b\b\b\b\b\b\b\b\b\b\b\b\b\b 86% 3 - rucybert_70_torch/pytorch_model.bin\b\b\b\b\b\b\b\b\b\b\b\b\b\b\b\b\b\b\b\b\b\b\b\b\b\b\b\b\b\b\b\b\b\b\b\b\b\b\b\b\b\b\b\b                                            \b\b\b\b\b\b\b\b\b\b\b\b\b\b\b\b\b\b\b\b\b\b\b\b\b\b\b\b\b\b\b\b\b\b\b\b\b\b\b\b\b\b\b\b 87% 3 - rucybert_70_torch/pytorch_model.bin\b\b\b\b\b\b\b\b\b\b\b\b\b\b\b\b\b\b\b\b\b\b\b\b\b\b\b\b\b\b\b\b\b\b\b\b\b\b\b\b\b\b\b\b                                            \b\b\b\b\b\b\b\b\b\b\b\b\b\b\b\b\b\b\b\b\b\b\b\b\b\b\b\b\b\b\b\b\b\b\b\b\b\b\b\b\b\b\b\b 88% 3 - rucybert_70_torch/pytorch_model.bin\b\b\b\b\b\b\b\b\b\b\b\b\b\b\b\b\b\b\b\b\b\b\b\b\b\b\b\b\b\b\b\b\b\b\b\b\b\b\b\b\b\b\b\b                                            \b\b\b\b\b\b\b\b\b\b\b\b\b\b\b\b\b\b\b\b\b\b\b\b\b\b\b\b\b\b\b\b\b\b\b\b\b\b\b\b\b\b\b\b 89% 3 - rucybert_70_torch/pytorch_model.bin\b\b\b\b\b\b\b\b\b\b\b\b\b\b\b\b\b\b\b\b\b\b\b\b\b\b\b\b\b\b\b\b\b\b\b\b\b\b\b\b\b\b\b\b                                            \b\b\b\b\b\b\b\b\b\b\b\b\b\b\b\b\b\b\b\b\b\b\b\b\b\b\b\b\b\b\b\b\b\b\b\b\b\b\b\b\b\b\b\b 90% 3 - rucybert_70_torch/pytorch_model.bin\b\b\b\b\b\b\b\b\b\b\b\b\b\b\b\b\b\b\b\b\b\b\b\b\b\b\b\b\b\b\b\b\b\b\b\b\b\b\b\b\b\b\b\b                                            \b\b\b\b\b\b\b\b\b\b\b\b\b\b\b\b\b\b\b\b\b\b\b\b\b\b\b\b\b\b\b\b\b\b\b\b\b\b\b\b\b\b\b\b 91% 3 - rucybert_70_torch/pytorch_model.bin\b\b\b\b\b\b\b\b\b\b\b\b\b\b\b\b\b\b\b\b\b\b\b\b\b\b\b\b\b\b\b\b\b\b\b\b\b\b\b\b\b\b\b\b                                            \b\b\b\b\b\b\b\b\b\b\b\b\b\b\b\b\b\b\b\b\b\b\b\b\b\b\b\b\b\b\b\b\b\b\b\b\b\b\b\b\b\b\b\b 92% 3 - rucybert_70_torch/pytorch_model.bin\b\b\b\b\b\b\b\b\b\b\b\b\b\b\b\b\b\b\b\b\b\b\b\b\b\b\b\b\b\b\b\b\b\b\b\b\b\b\b\b\b\b\b\b                                            \b\b\b\b\b\b\b\b\b\b\b\b\b\b\b\b\b\b\b\b\b\b\b\b\b\b\b\b\b\b\b\b\b\b\b\b\b\b\b\b\b\b\b\b 93% 3 - rucybert_70_torch/pytorch_model.bin\b\b\b\b\b\b\b\b\b\b\b\b\b\b\b\b\b\b\b\b\b\b\b\b\b\b\b\b\b\b\b\b\b\b\b\b\b\b\b\b\b\b\b\b                                            \b\b\b\b\b\b\b\b\b\b\b\b\b\b\b\b\b\b\b\b\b\b\b\b\b\b\b\b\b\b\b\b\b\b\b\b\b\b\b\b\b\b\b\b 94% 3 - rucybert_70_torch/pytorch_model.bin\b\b\b\b\b\b\b\b\b\b\b\b\b\b\b\b\b\b\b\b\b\b\b\b\b\b\b\b\b\b\b\b\b\b\b\b\b\b\b\b\b\b\b\b                                            \b\b\b\b\b\b\b\b\b\b\b\b\b\b\b\b\b\b\b\b\b\b\b\b\b\b\b\b\b\b\b\b\b\b\b\b\b\b\b\b\b\b\b\b 95% 3 - rucybert_70_torch/pytorch_model.bin\b\b\b\b\b\b\b\b\b\b\b\b\b\b\b\b\b\b\b\b\b\b\b\b\b\b\b\b\b\b\b\b\b\b\b\b\b\b\b\b\b\b\b\b                                            \b\b\b\b\b\b\b\b\b\b\b\b\b\b\b\b\b\b\b\b\b\b\b\b\b\b\b\b\b\b\b\b\b\b\b\b\b\b\b\b\b\b\b\b 96% 3 - rucybert_70_torch/pytorch_model.bin\b\b\b\b\b\b\b\b\b\b\b\b\b\b\b\b\b\b\b\b\b\b\b\b\b\b\b\b\b\b\b\b\b\b\b\b\b\b\b\b\b\b\b\b                                            \b\b\b\b\b\b\b\b\b\b\b\b\b\b\b\b\b\b\b\b\b\b\b\b\b\b\b\b\b\b\b\b\b\b\b\b\b\b\b\b\b\b\b\b 97% 3 - rucybert_70_torch/pytorch_model.bin\b\b\b\b\b\b\b\b\b\b\b\b\b\b\b\b\b\b\b\b\b\b\b\b\b\b\b\b\b\b\b\b\b\b\b\b\b\b\b\b\b\b\b\b                                            \b\b\b\b\b\b\b\b\b\b\b\b\b\b\b\b\b\b\b\b\b\b\b\b\b\b\b\b\b\b\b\b\b\b\b\b\b\b\b\b\b\b\b\b 98% 3 - rucybert_70_torch/pytorch_model.bin\b\b\b\b\b\b\b\b\b\b\b\b\b\b\b\b\b\b\b\b\b\b\b\b\b\b\b\b\b\b\b\b\b\b\b\b\b\b\b\b\b\b\b\b                                            \b\b\b\b\b\b\b\b\b\b\b\b\b\b\b\b\b\b\b\b\b\b\b\b\b\b\b\b\b\b\b\b\b\b\b\b\b\b\b\b\b\b\b\b 99% 3 - rucybert_70_torch/pytorch_model.bin\b\b\b\b\b\b\b\b\b\b\b\b\b\b\b\b\b\b\b\b\b\b\b\b\b\b\b\b\b\b\b\b\b\b\b\b\b\b\b\b\b\b\b\b                                            \b\b\b\b\b\b\b\b\b\b\b\b\b\b\b\b\b\b\b\b\b\b\b\b\b\b\b\b\b\b\b\b\b\b\b\b\b\b\b\b\b\b\b\b 99% 4 - rucybert_70_torch/special_tokens_map.json\b\b\b\b\b\b\b\b\b\b\b\b\b\b\b\b\b\b\b\b\b\b\b\b\b\b\b\b\b\b\b\b\b\b\b\b\b\b\b\b\b\b\b\b\b\b\b\b\b\b                                                  \b\b\b\b\b\b\b\b\b\b\b\b\b\b\b\b\b\b\b\b\b\b\b\b\b\b\b\b\b\b\b\b\b\b\b\b\b\b\b\b\b\b\b\b\b\b\b\b\b\bEverything is Ok\n",
            "\n",
            "Folders: 1\n",
            "Files: 6\n",
            "Size:       1083211202\n",
            "Compressed: 490588894\n"
          ],
          "name": "stdout"
        }
      ]
    },
    {
      "cell_type": "code",
      "metadata": {
        "id": "YM8uOllMcTdn"
      },
      "source": [
        "#from transformers import PyTorchBenchmark, PyTorchBenchmarkArguments\n",
        "args = PyTorchBenchmarkArguments(models=[\"sberbank-ai/ruRoberta-large\",\n",
        "                                         \"/content/drive/MyDrive/ранхигс/rured2021_01_12\",\n",
        "                                         \"cointegrated/rubert-tiny\"], batch_sizes=[1], sequence_lengths=[8, 32, 128], cuda=False, save_to_csv=True)\n",
        "benchmark = PyTorchBenchmark(args)\n",
        "\n",
        "results = benchmark.run()\n",
        "print(results)"
      ],
      "execution_count": null,
      "outputs": []
    }
  ]
}